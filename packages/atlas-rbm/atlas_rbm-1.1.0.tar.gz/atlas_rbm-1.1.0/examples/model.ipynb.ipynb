{
 "cells": [
  {
   "cell_type": "markdown",
   "metadata": {},
   "source": [
    "### Section 0: Import"
   ]
  },
  {
   "cell_type": "code",
   "execution_count": 1,
   "metadata": {},
   "outputs": [
    {
     "data": {
      "text/html": [
       "<style>.container { width: 95% !important; }</style>"
      ],
      "text/plain": [
       "<IPython.core.display.HTML object>"
      ]
     },
     "metadata": {},
     "output_type": "display_data"
    }
   ],
   "source": [
    "from IPython import get_ipython\n",
    "ipython = get_ipython()\n",
    "\n",
    "from pysb import *\n",
    "from pysb.export import export\n",
    "from pysb.simulator import BngSimulator, KappaSimulator\n",
    "\n",
    "import matplotlib.pyplot as plt\n",
    "from pylab import linspace\n",
    "\n",
    "import seaborn\n",
    "palette = seaborn.color_palette('colorblind')\n",
    "\n",
    "from pysb.pathfinder import set_path\n",
    "set_path('bng', '/opt/git-repositories/bionetgen.RuleWorld/bng2/') # path to bng2 folder (BNG2.pl executable)\n",
    "set_path('kasim', '/opt/git-repositories/KaSim4.Kappa-Dev/') # path to KaSim executable (v4 or newer)\n",
    "\n",
    "from IPython.core.display import display, HTML\n",
    "display(HTML(\"<style>.container { width: 95% !important; }</style>\"))"
   ]
  },
  {
   "cell_type": "markdown",
   "metadata": {},
   "source": [
    "### Section 1: Define Model"
   ]
  },
  {
   "cell_type": "code",
   "execution_count": 2,
   "metadata": {},
   "outputs": [
    {
     "data": {
      "text/plain": [
       "<Model '_interactive_' (monomers: 0, rules: 0, parameters: 0, expressions: 0, compartments: 0) at 0x7f7cc563b208>"
      ]
     },
     "execution_count": 2,
     "metadata": {},
     "output_type": "execute_result"
    }
   ],
   "source": [
    "Model()"
   ]
  },
  {
   "cell_type": "code",
   "execution_count": 3,
   "metadata": {},
   "outputs": [
    {
     "data": {
      "text/plain": [
       "Monomer('prot', ['name', 'loc', 'dna', 'met', 'rna', 'up', 'dw'], {'name': [], 'loc': ['cyt', 'per', 'ex']})"
      ]
     },
     "execution_count": 3,
     "metadata": {},
     "output_type": "execute_result"
    }
   ],
   "source": [
    "# Define model components\n",
    "\n",
    "# paste inside brackets the common names for metabolites\n",
    "metabolites = []\n",
    "\n",
    "# paste inside brackets the common names for genes\n",
    "genes = []\n",
    "\n",
    "# paste inside brackets the DNA binding sites: BS- followed by genomic coordinates\n",
    "binding_sites = []\n",
    "\n",
    "Monomer('met', ['name', 'loc', 'prot'], \n",
    "    { 'name' : metabolites, \n",
    "      'loc' : ['cyt', 'per', 'ex']})\n",
    "\n",
    "Monomer('dna', ['name', 'type', 'prot', 'rna', 'up', 'dw'], \n",
    "    { 'name' : genes + binding_sites, \n",
    "      'type' : ['BS', 'pro1', 'pro2', 'pro3', 'pro4', 'rbs', 'cds', 'ter1', 'ter2']})\n",
    "\n",
    "Monomer('rna', ['name', 'type', 'dna', 'prot'], \n",
    "    { 'name' : genes + binding_sites, \n",
    "      'type' : ['BS', 'pro1', 'pro2', 'pro3', 'pro4', 'rbs', 'cds', 'ter1', 'ter2']})\n",
    "\n",
    "Monomer('prot', ['name', 'loc', 'dna', 'met', 'rna', 'up', 'dw'],\n",
    "    { 'name' : genes, # we name proteins with their gene common names (aka, first letter lowercase) \n",
    "      'loc' : ['cyt', 'per', 'ex']})"
   ]
  },
  {
   "cell_type": "code",
   "execution_count": 4,
   "metadata": {},
   "outputs": [
    {
     "ename": "ValueError",
     "evalue": "'monomers.py' was not found in history, as a file, url, nor in the user namespace.",
     "output_type": "error",
     "traceback": [
      "\u001b[0;31m---------------------------------------------------------------------------\u001b[0m",
      "\u001b[0;31mNameError\u001b[0m                                 Traceback (most recent call last)",
      "\u001b[0;32m/usr/local/lib/python3.6/dist-packages/IPython/core/interactiveshell.py\u001b[0m in \u001b[0;36mfind_user_code\u001b[0;34m(self, target, raw, py_only, skip_encoding_cookie, search_ns)\u001b[0m\n\u001b[1;32m   3637\u001b[0m         \u001b[0;32mtry\u001b[0m\u001b[0;34m:\u001b[0m                                              \u001b[0;31m# User namespace\u001b[0m\u001b[0;34m\u001b[0m\u001b[0;34m\u001b[0m\u001b[0m\n\u001b[0;32m-> 3638\u001b[0;31m             \u001b[0mcodeobj\u001b[0m \u001b[0;34m=\u001b[0m \u001b[0meval\u001b[0m\u001b[0;34m(\u001b[0m\u001b[0mtarget\u001b[0m\u001b[0;34m,\u001b[0m \u001b[0mself\u001b[0m\u001b[0;34m.\u001b[0m\u001b[0muser_ns\u001b[0m\u001b[0;34m)\u001b[0m\u001b[0;34m\u001b[0m\u001b[0;34m\u001b[0m\u001b[0m\n\u001b[0m\u001b[1;32m   3639\u001b[0m         \u001b[0;32mexcept\u001b[0m \u001b[0mException\u001b[0m\u001b[0;34m:\u001b[0m\u001b[0;34m\u001b[0m\u001b[0;34m\u001b[0m\u001b[0m\n",
      "\u001b[0;32m<string>\u001b[0m in \u001b[0;36m<module>\u001b[0;34m\u001b[0m\n",
      "\u001b[0;31mNameError\u001b[0m: name 'monomers' is not defined",
      "\nDuring handling of the above exception, another exception occurred:\n",
      "\u001b[0;31mValueError\u001b[0m                                Traceback (most recent call last)",
      "\u001b[0;32m<ipython-input-4-ec0908c6dadb>\u001b[0m in \u001b[0;36m<module>\u001b[0;34m\u001b[0m\n\u001b[1;32m      1\u001b[0m \u001b[0;31m## paste here the result of \"Monomer+Initials+Observables from metabolic network\"\u001b[0m\u001b[0;34m\u001b[0m\u001b[0;34m\u001b[0m\u001b[0;34m\u001b[0m\u001b[0m\n\u001b[1;32m      2\u001b[0m \u001b[0;31m# Define observables and initials for metabolites\u001b[0m\u001b[0;34m\u001b[0m\u001b[0;34m\u001b[0m\u001b[0;34m\u001b[0m\u001b[0m\n\u001b[0;32m----> 3\u001b[0;31m \u001b[0mget_ipython\u001b[0m\u001b[0;34m(\u001b[0m\u001b[0;34m)\u001b[0m\u001b[0;34m.\u001b[0m\u001b[0mrun_line_magic\u001b[0m\u001b[0;34m(\u001b[0m\u001b[0;34m'load'\u001b[0m\u001b[0;34m,\u001b[0m \u001b[0;34m'monomers.py'\u001b[0m\u001b[0;34m)\u001b[0m\u001b[0;34m\u001b[0m\u001b[0;34m\u001b[0m\u001b[0m\n\u001b[0m",
      "\u001b[0;32m/usr/local/lib/python3.6/dist-packages/IPython/core/interactiveshell.py\u001b[0m in \u001b[0;36mrun_line_magic\u001b[0;34m(self, magic_name, line, _stack_depth)\u001b[0m\n\u001b[1;32m   2305\u001b[0m                 \u001b[0mkwargs\u001b[0m\u001b[0;34m[\u001b[0m\u001b[0;34m'local_ns'\u001b[0m\u001b[0;34m]\u001b[0m \u001b[0;34m=\u001b[0m \u001b[0msys\u001b[0m\u001b[0;34m.\u001b[0m\u001b[0m_getframe\u001b[0m\u001b[0;34m(\u001b[0m\u001b[0mstack_depth\u001b[0m\u001b[0;34m)\u001b[0m\u001b[0;34m.\u001b[0m\u001b[0mf_locals\u001b[0m\u001b[0;34m\u001b[0m\u001b[0;34m\u001b[0m\u001b[0m\n\u001b[1;32m   2306\u001b[0m             \u001b[0;32mwith\u001b[0m \u001b[0mself\u001b[0m\u001b[0;34m.\u001b[0m\u001b[0mbuiltin_trap\u001b[0m\u001b[0;34m:\u001b[0m\u001b[0;34m\u001b[0m\u001b[0;34m\u001b[0m\u001b[0m\n\u001b[0;32m-> 2307\u001b[0;31m                 \u001b[0mresult\u001b[0m \u001b[0;34m=\u001b[0m \u001b[0mfn\u001b[0m\u001b[0;34m(\u001b[0m\u001b[0;34m*\u001b[0m\u001b[0margs\u001b[0m\u001b[0;34m,\u001b[0m \u001b[0;34m**\u001b[0m\u001b[0mkwargs\u001b[0m\u001b[0;34m)\u001b[0m\u001b[0;34m\u001b[0m\u001b[0;34m\u001b[0m\u001b[0m\n\u001b[0m\u001b[1;32m   2308\u001b[0m             \u001b[0;32mreturn\u001b[0m \u001b[0mresult\u001b[0m\u001b[0;34m\u001b[0m\u001b[0;34m\u001b[0m\u001b[0m\n\u001b[1;32m   2309\u001b[0m \u001b[0;34m\u001b[0m\u001b[0m\n",
      "\u001b[0;32m</usr/local/lib/python3.6/dist-packages/decorator.py:decorator-gen-46>\u001b[0m in \u001b[0;36mload\u001b[0;34m(self, arg_s)\u001b[0m\n",
      "\u001b[0;32m/usr/local/lib/python3.6/dist-packages/IPython/core/magic.py\u001b[0m in \u001b[0;36m<lambda>\u001b[0;34m(f, *a, **k)\u001b[0m\n\u001b[1;32m    185\u001b[0m     \u001b[0;31m# but it's overkill for just that one bit of state.\u001b[0m\u001b[0;34m\u001b[0m\u001b[0;34m\u001b[0m\u001b[0;34m\u001b[0m\u001b[0m\n\u001b[1;32m    186\u001b[0m     \u001b[0;32mdef\u001b[0m \u001b[0mmagic_deco\u001b[0m\u001b[0;34m(\u001b[0m\u001b[0marg\u001b[0m\u001b[0;34m)\u001b[0m\u001b[0;34m:\u001b[0m\u001b[0;34m\u001b[0m\u001b[0;34m\u001b[0m\u001b[0m\n\u001b[0;32m--> 187\u001b[0;31m         \u001b[0mcall\u001b[0m \u001b[0;34m=\u001b[0m \u001b[0;32mlambda\u001b[0m \u001b[0mf\u001b[0m\u001b[0;34m,\u001b[0m \u001b[0;34m*\u001b[0m\u001b[0ma\u001b[0m\u001b[0;34m,\u001b[0m \u001b[0;34m**\u001b[0m\u001b[0mk\u001b[0m\u001b[0;34m:\u001b[0m \u001b[0mf\u001b[0m\u001b[0;34m(\u001b[0m\u001b[0;34m*\u001b[0m\u001b[0ma\u001b[0m\u001b[0;34m,\u001b[0m \u001b[0;34m**\u001b[0m\u001b[0mk\u001b[0m\u001b[0;34m)\u001b[0m\u001b[0;34m\u001b[0m\u001b[0;34m\u001b[0m\u001b[0m\n\u001b[0m\u001b[1;32m    188\u001b[0m \u001b[0;34m\u001b[0m\u001b[0m\n\u001b[1;32m    189\u001b[0m         \u001b[0;32mif\u001b[0m \u001b[0mcallable\u001b[0m\u001b[0;34m(\u001b[0m\u001b[0marg\u001b[0m\u001b[0;34m)\u001b[0m\u001b[0;34m:\u001b[0m\u001b[0;34m\u001b[0m\u001b[0;34m\u001b[0m\u001b[0m\n",
      "\u001b[0;32m/usr/local/lib/python3.6/dist-packages/IPython/core/magics/code.py\u001b[0m in \u001b[0;36mload\u001b[0;34m(self, arg_s)\u001b[0m\n\u001b[1;32m    331\u001b[0m         \u001b[0msearch_ns\u001b[0m \u001b[0;34m=\u001b[0m \u001b[0;34m'n'\u001b[0m \u001b[0;32min\u001b[0m \u001b[0mopts\u001b[0m\u001b[0;34m\u001b[0m\u001b[0;34m\u001b[0m\u001b[0m\n\u001b[1;32m    332\u001b[0m \u001b[0;34m\u001b[0m\u001b[0m\n\u001b[0;32m--> 333\u001b[0;31m         \u001b[0mcontents\u001b[0m \u001b[0;34m=\u001b[0m \u001b[0mself\u001b[0m\u001b[0;34m.\u001b[0m\u001b[0mshell\u001b[0m\u001b[0;34m.\u001b[0m\u001b[0mfind_user_code\u001b[0m\u001b[0;34m(\u001b[0m\u001b[0margs\u001b[0m\u001b[0;34m,\u001b[0m \u001b[0msearch_ns\u001b[0m\u001b[0;34m=\u001b[0m\u001b[0msearch_ns\u001b[0m\u001b[0;34m)\u001b[0m\u001b[0;34m\u001b[0m\u001b[0;34m\u001b[0m\u001b[0m\n\u001b[0m\u001b[1;32m    334\u001b[0m \u001b[0;34m\u001b[0m\u001b[0m\n\u001b[1;32m    335\u001b[0m         \u001b[0;32mif\u001b[0m \u001b[0;34m's'\u001b[0m \u001b[0;32min\u001b[0m \u001b[0mopts\u001b[0m\u001b[0;34m:\u001b[0m\u001b[0;34m\u001b[0m\u001b[0;34m\u001b[0m\u001b[0m\n",
      "\u001b[0;32m/usr/local/lib/python3.6/dist-packages/IPython/core/interactiveshell.py\u001b[0m in \u001b[0;36mfind_user_code\u001b[0;34m(self, target, raw, py_only, skip_encoding_cookie, search_ns)\u001b[0m\n\u001b[1;32m   3639\u001b[0m         \u001b[0;32mexcept\u001b[0m \u001b[0mException\u001b[0m\u001b[0;34m:\u001b[0m\u001b[0;34m\u001b[0m\u001b[0;34m\u001b[0m\u001b[0m\n\u001b[1;32m   3640\u001b[0m             raise ValueError((\"'%s' was not found in history, as a file, url, \"\n\u001b[0;32m-> 3641\u001b[0;31m                                 \"nor in the user namespace.\") % target)\n\u001b[0m\u001b[1;32m   3642\u001b[0m \u001b[0;34m\u001b[0m\u001b[0m\n\u001b[1;32m   3643\u001b[0m         \u001b[0;32mif\u001b[0m \u001b[0misinstance\u001b[0m\u001b[0;34m(\u001b[0m\u001b[0mcodeobj\u001b[0m\u001b[0;34m,\u001b[0m \u001b[0mstr\u001b[0m\u001b[0;34m)\u001b[0m\u001b[0;34m:\u001b[0m\u001b[0;34m\u001b[0m\u001b[0;34m\u001b[0m\u001b[0m\n",
      "\u001b[0;31mValueError\u001b[0m: 'monomers.py' was not found in history, as a file, url, nor in the user namespace."
     ]
    }
   ],
   "source": [
    "## paste here the result of \"Monomer+Initials+Observables from metabolic network\"\n",
    "# Define observables and initials for metabolites\n",
    "%load monomers.py"
   ]
  },
  {
   "cell_type": "code",
   "execution_count": null,
   "metadata": {},
   "outputs": [],
   "source": [
    "## paste here the results of \"Rules from metabolic network\"\n",
    "# section 1: metabolic rules\n",
    "ipython.magic('load reactions.py')"
   ]
  },
  {
   "cell_type": "code",
   "execution_count": null,
   "metadata": {},
   "outputs": [],
   "source": [
    "## paste here the results of \"Rules from protein-protein\"\n",
    "# section 2: protein-protein interactions\n"
   ]
  },
  {
   "cell_type": "code",
   "execution_count": null,
   "metadata": {},
   "outputs": [],
   "source": [
    "## paste here the result of either \"Rules from SigmaFactors x Architecture\" or \"Rules from genome architecture\"\n",
    "## the later do not consider sigma specificity and requires the declaration of an ad-hoc agent for RNAP:\n",
    "## Initial(cplx(name = 'RNAP', loc = 'cyt', dna = None, prot = None, rna = None), Parameter('t0_RNAP', 10))\n",
    "# section 3a: rna synthesis\n",
    "\n",
    "# section 3b: protein synthesis\n"
   ]
  },
  {
   "cell_type": "code",
   "execution_count": null,
   "metadata": {},
   "outputs": [],
   "source": [
    "## write dna parts. TODO automatization\n",
    "# section 3c: initialize dna and rna. Follow the code as example\n",
    "Initial(\n",
    "    dna(name = 'araC', type = 'ter1', prot = None, rna = None, up = None, dw = 17) %\n",
    "    dna(name = 'araC', type = 'cds', prot = None, rna = None, up = 17, dw = 16) %\n",
    "    dna(name = 'araC', type = 'rbs', prot = None, rna = None, up = 16, dw = 15) %\n",
    "    dna(name = 'BS_267_283', type = 'BS', prot = None, rna = None, up = 15, dw = 1) %\n",
    "    dna(name = 'araC', type = 'pro1', prot = None, rna = None, up = 1, dw = 2) %\n",
    "    dna(name = 'BS_130_146', type = 'BS', prot = None, rna = None, up = 2, dw = 3) %\n",
    "    dna(name = 'BS_109_125', type = 'BS', prot = None, rna = None, up = 3, dw = 4) %\n",
    "    dna(name = 'BS_83_104', type = 'BS', prot = None, rna = None, up = 4, dw = 5) %    \n",
    "    dna(name = 'BS_56_72', type = 'BS', prot = None, rna = None, up = 5, dw = 6) %\n",
    "    dna(name = 'BS_35_51', type = 'BS', prot = None, rna = None, up = 6, dw = 7) %\n",
    "    dna(name = 'araB', type = 'pro1', prot = None, rna = None, up = 7, dw = 8) %\n",
    "    dna(name = 'araB', type = 'rbs', prot = None, rna = None, up = 8, dw = 9) %\n",
    "    dna(name = 'araB', type = 'cds', prot = None, rna = None, up = 9, dw = 10) %\n",
    "    dna(name = 'araA', type = 'rbs', prot = None, rna = None, up = 10, dw = 11) %\n",
    "    dna(name = 'araA', type = 'cds', prot = None, rna = None, up = 11, dw = 12) %\n",
    "    dna(name = 'araD', type = 'rbs', prot = None, rna = None, up = 12, dw = 13) %\n",
    "    dna(name = 'araD', type = 'cds', prot = None, rna = None, up = 13, dw = 14) %\n",
    "    dna(name = 'araD', type = 'ter1', prot = None, rna = None, up = 14, dw = None),\n",
    "    Parameter('t0_araBAD_araC_operons', 1))\n",
    "\n",
    "Initial(\n",
    "    dna(name = 'BS_158_174', type = 'BS', prot = None, rna = None, up = None, dw = 1) %\n",
    "    dna(name = 'BS_137_153', type = 'BS', prot = None, rna = None, up = 1, dw = 2) %\n",
    "    dna(name = 'BS_83_99', type = 'BS', prot = None, rna = None, up = 2, dw = 3) %\n",
    "    dna(name = 'BS_62_78', type = 'BS', prot = None, rna = None, up = 3, dw = 4) %\n",
    "    dna(name = 'araE', type = 'pro1', prot = None, rna = None, up = 4, dw = 5) %\n",
    "    dna(name = 'araE', type = 'rbs', prot = None, rna = None, up = 5, dw = 6) %\n",
    "    dna(name = 'araE', type = 'cds', prot = None, rna = None, up = 6, dw = 7) %\n",
    "    dna(name = 'araE', type = 'ter1', prot = None, rna = None, up = 7, dw = None), \n",
    "    Parameter('t0_araE_operon', 1))\n",
    "\n",
    "Initial(\n",
    "    dna(name = 'BS_57_73', type = 'BS', prot = None, rna = None, up = None, dw = 1) %\n",
    "    dna(name = 'BS_36_52', type = 'BS', prot = None, rna = None, up = 1, dw = 2) %\n",
    "    dna(name = 'araF', type = 'pro1', prot = None, rna = None, up = 2, dw = 3) %\n",
    "    dna(name = 'araF', type = 'rbs', prot = None, rna = None, up = 3, dw = 4) %\n",
    "    dna(name = 'araF', type = 'cds', prot = None, rna = None, up = 4, dw = 5) %\n",
    "    dna(name = 'araG', type = 'rbs', prot = None, rna = None, up = 5, dw = 6) %\n",
    "    dna(name = 'araG', type = 'cds', prot = None, rna = None, up = 6, dw = 7) %\n",
    "    dna(name = 'araH', type = 'rbs', prot = None, rna = None, up = 7, dw = 8) %\n",
    "    dna(name = 'araH', type = 'cds', prot = None, rna = None, up = 8, dw = 9) %\n",
    "    dna(name = 'araH', type = 'ter1', prot = None, rna = None, up = 9, dw = None), \n",
    "    Parameter('t0_araFGH_operon', 1))"
   ]
  },
  {
   "cell_type": "code",
   "execution_count": null,
   "metadata": {},
   "outputs": [],
   "source": [
    "## paste here the result of \"Rules from tf-tfbs\"\n",
    "# section 4: regulation of gene expression\n"
   ]
  },
  {
   "cell_type": "code",
   "execution_count": null,
   "metadata": {},
   "outputs": [],
   "source": [
    "## paste here the result of \"Rules from protein-small compounds\"\n",
    "# section 5: protein and small compounds interactions\n"
   ]
  },
  {
   "cell_type": "code",
   "execution_count": null,
   "metadata": {},
   "outputs": [],
   "source": [
    "## write here ad-hoc rules.\n",
    "# section 6: ad-hoc rules\n",
    "Rule('araF_translocation',\n",
    "    prot(name = 'araF', loc = 'cyt') >>\n",
    "    prot(name = 'araF', loc = 'per'),\n",
    "    Parameter('translocation', 1))"
   ]
  },
  {
   "cell_type": "markdown",
   "metadata": {},
   "source": [
    "### Section 3: SImulation"
   ]
  },
  {
   "cell_type": "code",
   "execution_count": null,
   "metadata": {},
   "outputs": [],
   "source": [
    "## save model to kappa and bngl\n",
    "with open('model_arabinose.kappa', 'w') as outfile:\n",
    "    outfile.write(export(model, 'kappa'))\n",
    "    \n",
    "with open('model_arabinose.bngl', 'w') as outfile:\n",
    "    outfile.write(export(model, 'bngl'))"
   ]
  },
  {
   "cell_type": "code",
   "execution_count": null,
   "metadata": {},
   "outputs": [],
   "source": [
    "runs = 100\n",
    "data2 = BngSimulator(model, linspace(0, 200, 201)).run(method = 'nf', n_runs = runs).dataframe\n",
    "data2 = KappaSimulator(model, linspace(0, 1000, 201)).run(n_runs = runs).dataframe\n",
    "\n",
    "data = []\n",
    "for i in range(runs):\n",
    "    data.append(data2.xs(i))\n",
    "\n",
    "avrg = 0\n",
    "for i in range(runs):\n",
    "    avrg += data[i]\n",
    "avrg = avrg / runs\n",
    "\n",
    "stdv = []\n",
    "for i in range(runs):\n",
    "    stdv = (data[i] - avrg)**2\n",
    "stdv = (stdv / (runs-1))**0.5"
   ]
  },
  {
   "cell_type": "code",
   "execution_count": null,
   "metadata": {},
   "outputs": [],
   "source": [
    "fig, ax = plt.subplots(1, 2, figsize = (4*2, 3*1), dpi = 100)\n",
    "\n",
    "label = r'$\\alpha$-L-arabinopyranose' # use $$ for latex rendering\n",
    "observable = 'obs_alpha_L_arabinopyranose_cyt'\n",
    "ax[0].fill_between(avrg.index, \n",
    "                   avrg[observable] + stdv[observable], \n",
    "                   avrg[observable] - stdv[observable], \n",
    "                   label = label, **{'color' : palette[2], 'alpha' : 0.5})\n",
    "\n",
    "label = r'xylulose 5-phosphate'\n",
    "observable = 'obs_XYLULOSE_5_PHOSPHATE_cyt'\n",
    "ax[1].fill_between(avrg.index, \n",
    "                   avrg[observable] + stdv[observable], \n",
    "                   avrg[observable] - stdv[observable], \n",
    "                   label = label, **{'color' : palette[2], 'alpha' : 0.5})\n",
    "\n",
    "ax[0].set_xlabel('Time [A.U.]')\n",
    "ax[0].set_ylabel('Concentration [A.U.]')\n",
    "ax[0].set_title('Cytolasm')\n",
    "ax[0].set_ylim(top = 200, bottom = 0)\n",
    "\n",
    "ax[1].set_xlabel('Time [A.U.]')\n",
    "ax[1].set_title('Cytoplasm')\n",
    "ax[1].set_ylim(top = 200, bottom = 0)\n",
    "\n",
    "ax[0].legend(frameon = False)\n",
    "ax[1].legend(frameon = False)\n",
    "\n",
    "seaborn.despine()\n",
    "plt.savefig('model.png', format = 'png', bbox_inches = 'tight', dpi = 300)\n",
    "plt.show()"
   ]
  }
 ],
 "metadata": {
  "kernelspec": {
   "display_name": "Python 3",
   "language": "python",
   "name": "python3"
  },
  "language_info": {
   "codemirror_mode": {
    "name": "ipython",
    "version": 3
   },
   "file_extension": ".py",
   "mimetype": "text/x-python",
   "name": "python",
   "nbconvert_exporter": "python",
   "pygments_lexer": "ipython3",
   "version": "3.6.9"
  }
 },
 "nbformat": 4,
 "nbformat_minor": 2
}
