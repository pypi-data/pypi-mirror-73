{
 "cells": [
  {
   "cell_type": "code",
   "execution_count": null,
   "metadata": {},
   "outputs": [],
   "source": [
    "from IPython.core.display import display, HTML\n",
    "display(HTML(\"<style>.container { width: 95% !important; }</style>\"))"
   ]
  },
  {
   "cell_type": "code",
   "execution_count": null,
   "metadata": {},
   "outputs": [],
   "source": [
    "import os\n",
    "import re\n",
    "import numpy\n",
    "import pandas"
   ]
  },
  {
   "cell_type": "code",
   "execution_count": null,
   "metadata": {},
   "outputs": [],
   "source": [
    "with open('./data_metabolism.txt', 'r') as infile:\n",
    "    data = pandas.read_csv(infile, delimiter = '\\t', header = 0, comment = '#')\n",
    "# data"
   ]
  },
  {
   "cell_type": "code",
   "execution_count": null,
   "metadata": {},
   "outputs": [],
   "source": [
    "# find duplicates and inform the user\n",
    "data[data.duplicated(['REACTION'])].to_csv('./conflicting_reactions.txt', sep = '\\t', index = False)"
   ]
  },
  {
   "cell_type": "code",
   "execution_count": null,
   "metadata": {},
   "outputs": [],
   "source": [
    "# create metabolic reactions without duplicated\n",
    "data = data[~data.duplicated(['REACTION'], keep = 'first')]\n",
    "# data.duplicated()"
   ]
  },
  {
   "cell_type": "code",
   "execution_count": null,
   "metadata": {},
   "outputs": [],
   "source": [
    "try:\n",
    "    os.remove('reactions.py')\n",
    "except:\n",
    "    pass"
   ]
  },
  {
   "cell_type": "code",
   "execution_count": null,
   "metadata": {
    "scrolled": false
   },
   "outputs": [],
   "source": [
    "for rxn in data.values:\n",
    "    if 'CPLX' in rxn[0]: # a complex is the enzyme\n",
    "        enzyme = 'cplx(name = \\'{:s}\\', loc = \\'cyt\\')'.format(rxn[0].replace('-', '_'))\n",
    "        \n",
    "    elif rxn[0].startswith('['): # an enzymatic complex described by its monomers\n",
    "        monomers = rxn[0][1:-1].split(', ')\n",
    "        enzyme = []\n",
    "        \n",
    "        ## create link indexes\n",
    "        dw = [None] * len(monomers)\n",
    "        start_link = 1\n",
    "        for index in range(len(monomers)-1):\n",
    "            dw[index] = start_link\n",
    "            start_link += 1\n",
    "        up = dw[-1:] + dw[:-1]\n",
    "        \n",
    "        for index, monomer in enumerate(monomers):\n",
    "            enzyme.append('prot(name = \\'{:s}\\', loc = \\'cyt\\', up = {:s}, dw = {:s})'.format(monomer, str(up[index]), str(dw[index])))\n",
    "                \n",
    "        enzyme = ' %\\n    '.join(enzyme)\n",
    "        \n",
    "    else: # a monomer is the enzyme\n",
    "        enzyme = 'prot(name = \\'{:s}\\', loc = \\'cyt\\')'.format(rxn[0].replace('-', '_'))\n",
    "        \n",
    "    name = rxn[1].replace('-', '_')\n",
    "    if name[0].isdigit():\n",
    "        name = '_' + name\n",
    "    substrates = rxn[2].replace('-', '_').split(', ')\n",
    "    products = rxn[3].replace('-', '_').split(', ')\n",
    "\n",
    "    LHS = []\n",
    "    RHS = []\n",
    "    \n",
    "    for subs in substrates:\n",
    "        if subs[0].isdigit():\n",
    "            subs = '_' + subs\n",
    "        \n",
    "        if 'PER' in subs:\n",
    "            LHS.append('met(name = \\'{:s}\\', loc = \\'per\\', prot = None)'.format(subs.replace('PER_', '')))\n",
    "        else:\n",
    "            LHS.append('met(name = \\'{:s}\\', loc = \\'cyt\\', prot = None)'.format(subs))\n",
    "\n",
    "    for prod in products:\n",
    "        if prod[0].isdigit():\n",
    "            prod = '_' + prod\n",
    "        \n",
    "        if 'PER' in prod: # inverse transport reaction\n",
    "            RHS.append('met(name = \\'{:s}\\', loc = \\'per\\', prot = None)'.format(prod.replace('PER_', '')))\n",
    "        else:\n",
    "            RHS.append('met(name = \\'{:s}\\', loc = \\'cyt\\', prot = None)'.format(prod))\n",
    "            \n",
    "    if len(substrates) < len(products):\n",
    "        for index in range(len(substrates), len(products)):\n",
    "            LHS.append('None')\n",
    "    elif len(products) < len(substrates):\n",
    "        for index in range(len(products), len(substrates)):\n",
    "            RHS.append('None')\n",
    "            \n",
    "    LHS = ' +\\n    '.join(LHS)\n",
    "    RHS = ' +\\n    '.join(RHS)\n",
    "        \n",
    "    if rxn[0] == 'spontaneous':\n",
    "        Rule = 'Rule(\\'{:s}\\,\\n' \\\n",
    "               '    {:s} |\\n'\\\n",
    "               '    {:s}, \\n' \\\n",
    "               '    Parameter(\\'fwd_{:s}\\', 1), \\n' \\\n",
    "               '    Parameter(\\'rvs_{:s}\\', 1))' \\\n",
    "               .format(name, LHS, RHS, name, name)\n",
    "    \n",
    "    else: # need an enzyme\n",
    "        Rule = 'Rule(\\'{:s}\\',\\n' \\\n",
    "               '    {:s} +\\n    {:s} | \\n' \\\n",
    "               '    {:s} +\\n    {:s}, \\n' \\\n",
    "               '    Parameter(\\'fwd_{:s}\\', 1), \\n' \\\n",
    "               '    Parameter(\\'rvs_{:s}\\', 0))' \\\n",
    "               .format(name, enzyme, LHS, enzyme, RHS, name, name).replace('.', '_')\n",
    "        \n",
    "    print(Rule)\n",
    "    print()\n",
    "        \n",
    "    with open('reactions.py', 'a+') as outfile:\n",
    "        outfile.write(Rule)\n",
    "        outfile.write('\\n\\n')"
   ]
  },
  {
   "cell_type": "code",
   "execution_count": null,
   "metadata": {},
   "outputs": [],
   "source": []
  }
 ],
 "metadata": {
  "kernelspec": {
   "display_name": "Python 3",
   "language": "python",
   "name": "python3"
  }
 },
 "nbformat": 4,
 "nbformat_minor": 2
}
