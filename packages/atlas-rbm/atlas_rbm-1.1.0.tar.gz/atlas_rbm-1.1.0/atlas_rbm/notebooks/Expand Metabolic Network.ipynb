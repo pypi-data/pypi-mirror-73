{
 "cells": [
  {
   "cell_type": "code",
   "execution_count": 1,
   "metadata": {},
   "outputs": [],
   "source": [
    "import pandas"
   ]
  },
  {
   "cell_type": "code",
   "execution_count": 2,
   "metadata": {},
   "outputs": [],
   "source": [
    "data = pandas.read_csv('./data_metabolism.txt', header = 0, delimiter = '\\t')\n",
    "# data"
   ]
  },
  {
   "cell_type": "code",
   "execution_count": 3,
   "metadata": {
    "scrolled": false
   },
   "outputs": [],
   "source": [
    "with open('expanded.txt', 'a+') as outfile:\n",
    "    for enzyme, reaction in zip(data.iloc[:,0], data.iloc[:,1]):\n",
    "        outfile.write('{:s}\\tGENE_PROD\\t{:s}\\tRXN\\n'.format(enzyme, reaction))"
   ]
  },
  {
   "cell_type": "code",
   "execution_count": 4,
   "metadata": {
    "scrolled": false
   },
   "outputs": [],
   "source": [
    "with open('expanded.txt', 'a') as outfile:\n",
    "    for reaction, substrates in zip(data.iloc[:,1], data.iloc[:,2]):\n",
    "        for substrate in substrates.split(', '):\n",
    "            outfile.write('{:s}\\tRXN\\t{:s}\\tMET\\n'.format(reaction, substrate))"
   ]
  },
  {
   "cell_type": "code",
   "execution_count": 5,
   "metadata": {
    "scrolled": false
   },
   "outputs": [],
   "source": [
    "with open('expanded.txt', 'a') as outfile:\n",
    "    for reaction, products in zip(data.iloc[:,1], data.iloc[:,3]):\n",
    "        for product in products.split(', '):\n",
    "            outfile.write('{:s}\\tRXN\\t{:s}\\tMET\\n'.format(reaction, product))"
   ]
  },
  {
   "cell_type": "code",
   "execution_count": null,
   "metadata": {},
   "outputs": [],
   "source": []
  }
 ],
 "metadata": {
  "kernelspec": {
   "display_name": "Python 3",
   "language": "python",
   "name": "python3"
  },
  "language_info": {
   "codemirror_mode": {
    "name": "ipython",
    "version": 3
   },
   "file_extension": ".py",
   "mimetype": "text/x-python",
   "name": "python",
   "nbconvert_exporter": "python",
   "pygments_lexer": "ipython3",
   "version": "3.6.9"
  }
 },
 "nbformat": 4,
 "nbformat_minor": 2
}
