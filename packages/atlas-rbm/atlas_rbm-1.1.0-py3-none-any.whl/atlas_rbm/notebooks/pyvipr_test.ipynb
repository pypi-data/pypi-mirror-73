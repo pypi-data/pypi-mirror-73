{
 "cells": [
  {
   "cell_type": "code",
   "execution_count": 1,
   "metadata": {},
   "outputs": [],
   "source": [
    "import glob\n",
    "import numpy\n",
    "import pandas\n",
    "import seaborn\n",
    "import matplotlib.pyplot as plt"
   ]
  },
  {
   "cell_type": "code",
   "execution_count": 7,
   "metadata": {},
   "outputs": [],
   "source": [
    "import os\n",
    "import pysb.pathfinder as pathfinder\n",
    "import pyvipr.pysb_viz as viz\n",
    "import pyvipr.examples_models as models\n",
    "models_path = os.path.dirname(models.__file__)\n",
    "organelle_model_path = os.path.join(models_path, 'organelle_transport.bngl')"
   ]
  },
  {
   "cell_type": "code",
   "execution_count": 9,
   "metadata": {},
   "outputs": [],
   "source": [
    "bng = '/opt/git-repositories/bionetgen.RuleWorld/bng2/'\n",
    "pathfinder.set_path('bng', bng)"
   ]
  },
  {
   "cell_type": "code",
   "execution_count": 10,
   "metadata": {},
   "outputs": [
    {
     "data": {
      "application/vnd.jupyter.widget-view+json": {
       "model_id": "eb3d63a39fc449dd85e0cc39e70aa4b4",
       "version_major": 2,
       "version_minor": 0
      },
      "text/plain": [
       "Viz(data='/usr/local/lib/python3.6/dist-packages/pyvipr/examples_models/organelle_transport.bngl', layout_name…"
      ]
     },
     "metadata": {},
     "output_type": "display_data"
    }
   ],
   "source": [
    "viz.sp_view(organelle_model_path)"
   ]
  },
  {
   "cell_type": "code",
   "execution_count": 11,
   "metadata": {},
   "outputs": [
    {
     "data": {
      "application/vnd.jupyter.widget-view+json": {
       "model_id": "8410f6c9ab994c3e88689eec40cadaf0",
       "version_major": 2,
       "version_minor": 0
      },
      "text/plain": [
       "Viz(data={'data': {'name': 'ensemble_1', 'style': 'atom'}, 'elements': {'nodes': [{'data': {'label': '_R1', 'b…"
      ]
     },
     "metadata": {},
     "output_type": "display_data"
    }
   ],
   "source": [
    "opts_path = os.path.join(models_path, 'ensemble_1_bng/ensemble_1_opts.txt')\n",
    "ensemble_model_path = os.path.join(models_path, 'ensemble_1_bng/ensemble_1.bngl')\n",
    "visualize_compressed = {'type': 'regulatory',\n",
    "                        'opts': opts_path,\n",
    "                        'groups': 1, 'collapse': 1, 'doNotUseContextWhenGrouping': 1, 'ruleNames': 1,\n",
    "                        'removeReactantContext': 1, 'suffix': 'compressed'}\n",
    "viz.atom_rules_view(ensemble_model_path, visualize_compressed)"
   ]
  },
  {
   "cell_type": "code",
   "execution_count": 13,
   "metadata": {},
   "outputs": [],
   "source": [
    "import numpy as np\n",
    "from pyvipr.examples_models.lopez_embedded import model\n",
    "from pysb.simulator import ScipyOdeSimulator\n",
    "from pyvipr.examples_models.mm_two_paths_model import model as model_dynamic\n",
    "\n",
    "tspan = np.linspace(0, 20000, 100)\n",
    "sim_compartments = ScipyOdeSimulator(model, tspan, compiler='python').run()"
   ]
  },
  {
   "cell_type": "code",
   "execution_count": 14,
   "metadata": {},
   "outputs": [
    {
     "data": {
      "application/vnd.jupyter.widget-view+json": {
       "model_id": "d22dc74446084f219425651809f13ca9",
       "version_major": 2,
       "version_minor": 0
      },
      "text/plain": [
       "Viz(data=<pysb.simulator.base.SimulationResult object at 0x7f8926d25f28>, layout_name='klay', process='consump…"
      ]
     },
     "metadata": {},
     "output_type": "display_data"
    }
   ],
   "source": [
    "viz.sp_comm_dyn_view(sim_compartments, random_state=1)"
   ]
  },
  {
   "cell_type": "code",
   "execution_count": null,
   "metadata": {},
   "outputs": [],
   "source": []
  }
 ],
 "metadata": {
  "kernelspec": {
   "display_name": "Python 3",
   "language": "python",
   "name": "python3"
  },
  "language_info": {
   "codemirror_mode": {
    "name": "ipython",
    "version": 3
   },
   "file_extension": ".py",
   "mimetype": "text/x-python",
   "name": "python",
   "nbconvert_exporter": "python",
   "pygments_lexer": "ipython3",
   "version": "3.6.9"
  }
 },
 "nbformat": 4,
 "nbformat_minor": 2
}
