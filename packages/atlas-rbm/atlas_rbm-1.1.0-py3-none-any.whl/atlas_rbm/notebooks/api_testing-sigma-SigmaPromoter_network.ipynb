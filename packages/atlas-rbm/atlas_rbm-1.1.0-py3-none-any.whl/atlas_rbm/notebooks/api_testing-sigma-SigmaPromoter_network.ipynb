{
 "cells": [
  {
   "cell_type": "code",
   "execution_count": 1,
   "metadata": {},
   "outputs": [
    {
     "data": {
      "text/html": [
       "<style>.container { width: 95% !important; }</style>"
      ],
      "text/plain": [
       "<IPython.core.display.HTML object>"
      ]
     },
     "metadata": {},
     "output_type": "display_data"
    }
   ],
   "source": [
    "from IPython.core.display import display, HTML\n",
    "display(HTML(\"<style>.container { width: 95% !important; }</style>\"))"
   ]
  },
  {
   "cell_type": "code",
   "execution_count": 2,
   "metadata": {},
   "outputs": [],
   "source": [
    "# testing code source\n",
    "import sys\n",
    "sys.path.append(\"..\")"
   ]
  },
  {
   "cell_type": "code",
   "execution_count": 3,
   "metadata": {},
   "outputs": [],
   "source": [
    "import atlas_rbm.atlas as atlas\n",
    "import atlas_rbm.export as export\n",
    "import atlas_rbm.simulation as simulation"
   ]
  },
  {
   "cell_type": "code",
   "execution_count": 4,
   "metadata": {
    "scrolled": false
   },
   "outputs": [],
   "source": [
    "model1 = atlas.construct_model_from_interaction_network('../docs/networks/ProtProt_network4-sigma.txt', verbose = False)\n",
    "model2 = atlas.construct_model_from_sigma_specificity_network(\n",
    "    architecture='../docs/networks/genomegraphs_network3_sigma.tsv', \n",
    "    promoters='../docs/networks/SigmaPromoters_network1.tsv', verbose = False)"
   ]
  },
  {
   "cell_type": "code",
   "execution_count": 5,
   "metadata": {},
   "outputs": [
    {
     "data": {
      "text/plain": [
       "<Model 'atlas_rbm.construct_model_from_sigma_specificity_network' (monomers: 4, rules: 88, parameters: 172, expressions: 0, compartments: 0) at 0x7fd4a22fb748>"
      ]
     },
     "execution_count": 5,
     "metadata": {},
     "output_type": "execute_result"
    }
   ],
   "source": [
    "atlas.combine_models(model1, model2)"
   ]
  },
  {
   "cell_type": "code",
   "execution_count": 6,
   "metadata": {},
   "outputs": [
    {
     "data": {
      "text/latex": [
       "$\\displaystyle obs_{rna fecI}$"
      ],
      "text/plain": [
       "Observable('obs_rna_fecI', rna(name='fecI', type='cds', prot=None))"
      ]
     },
     "execution_count": 6,
     "metadata": {},
     "output_type": "execute_result"
    }
   ],
   "source": [
    "from pysb import *\n",
    "from pysb.util import alias_model_components\n",
    "alias_model_components(model2)\n",
    "\n",
    "simulation.set_initial.prot(model2, 'rpoA', new_value = 56)\n",
    "simulation.set_initial.prot(model2, 'rpoB', new_value = 28)\n",
    "simulation.set_initial.prot(model2, 'rpoC', new_value = 28)\n",
    "simulation.set_initial.prot(model2, 'rpoD', new_value = 9)\n",
    "simulation.set_initial.prot(model2, 'rpoE', new_value = 4)\n",
    "simulation.set_initial.prot(model2, 'rpoH', new_value = 2)\n",
    "simulation.set_initial.prot(model2, 'rpoN', new_value = 3)\n",
    "simulation.set_initial.prot(model2, 'rpoS', new_value = 7)\n",
    "simulation.set_initial.prot(model2, 'fliA', new_value = 3)\n",
    "simulation.set_initial.prot(model2, 'fecI', new_value = 0)\n",
    "\n",
    "Observable('obs_rpoA_total_prot', prot(name = 'rpoA'))\n",
    "Observable('obs_rpoB_total_prot', prot(name = 'rpoB'))\n",
    "Observable('obs_rpoC_total_prot', prot(name = 'rpoC'))\n",
    "Observable('obs_rpoD_total_prot', prot(name = 'rpoD'))\n",
    "Observable('obs_rpoE_total_prot', prot(name = 'rpoE'))\n",
    "Observable('obs_rpoH_total_prot', prot(name = 'rpoH'))\n",
    "Observable('obs_rpoN_total_prot', prot(name = 'rpoN'))\n",
    "Observable('obs_rpoS_total_prot', prot(name = 'rpoS'))\n",
    "Observable('obs_fliA_total_prot', prot(name = 'fliA'))\n",
    "Observable('obs_fecI_total_prot', prot(name = 'fecI'))\n",
    "\n",
    "Observable('obs_rpoA_free_prot', prot(name = 'rpoA', up = None, dw = None))\n",
    "Observable('obs_rpoB_free_prot', prot(name = 'rpoB', up = None, dw = None))\n",
    "Observable('obs_rpoC_free_prot', prot(name = 'rpoC', up = None, dw = None))\n",
    "Observable('obs_rpoD_free_prot', prot(name = 'rpoD', up = None, dw = None))\n",
    "Observable('obs_rpoE_free_prot', prot(name = 'rpoE', up = None, dw = None))\n",
    "Observable('obs_rpoH_free_prot', prot(name = 'rpoH', up = None, dw = None))\n",
    "Observable('obs_rpoN_free_prot', prot(name = 'rpoN', up = None, dw = None))\n",
    "Observable('obs_rpoS_free_prot', prot(name = 'rpoS', up = None, dw = None))\n",
    "Observable('obs_fliA_free_prot', prot(name = 'fliA', up = None, dw = None))\n",
    "Observable('obs_fecI_free_prot', prot(name = 'fecI', up = None, dw = None))\n",
    "\n",
    "Observable('obs_rna_rpoA', rna(name = 'rpoA', type = 'cds', prot = None))\n",
    "Observable('obs_rna_rpoB', rna(name = 'rpoB', type = 'cds', prot = None))\n",
    "Observable('obs_rna_rpoC', rna(name = 'rpoC', type = 'cds', prot = None))\n",
    "Observable('obs_rna_rpoD', rna(name = 'rpoD', type = 'cds', prot = None))\n",
    "Observable('obs_rna_rpoE', rna(name = 'rpoE', type = 'cds', prot = None))\n",
    "Observable('obs_rna_rpoH', rna(name = 'rpoH', type = 'cds', prot = None))\n",
    "Observable('obs_rna_rpoN', rna(name = 'rpoN', type = 'cds', prot = None))\n",
    "Observable('obs_rna_rpoS', rna(name = 'rpoS', type = 'cds', prot = None))\n",
    "Observable('obs_rna_fliA', rna(name = 'fliA', type = 'cds', prot = None))\n",
    "Observable('obs_rna_fecI', rna(name = 'fecI', type = 'cds', prot = None))"
   ]
  },
  {
   "cell_type": "code",
   "execution_count": 7,
   "metadata": {},
   "outputs": [
    {
     "data": {
      "text/plain": [
       "Initial(dna(name='fecI', type='pro1', prot=None, rna=None, up=None, dw=1) % dna(name='fecI', type='rbs', prot=None, rna=None, up=1, dw=2) % dna(name='fecI', type='cds', prot=None, rna=None, up=2, dw=3) % dna(name='fecI', type='ter1', prot=None, rna=None, up=3, dw=None), t0_fecI_operon)"
      ]
     },
     "execution_count": 7,
     "metadata": {},
     "output_type": "execute_result"
    }
   ],
   "source": [
    "Initial(\n",
    "    dna(name = 'rpoA', type = 'pro1', prot = None, rna = None, up = None, dw = 1) %\n",
    "    dna(name = 'rpoA', type = 'rbs', prot = None, rna = None, up = 1, dw = 2) %\n",
    "    dna(name = 'rpoA', type = 'cds', prot = None, rna = None, up = 2, dw = 3) %\n",
    "    dna(name = 'rpoA', type = 'ter1', prot = None, rna = None, up = 3, dw = None),\n",
    "    Parameter('t0_rpoA_operon', 1))\n",
    "\n",
    "Initial(\n",
    "    dna(name = 'rpoB', type = 'pro1', prot = None, rna = None, up = None, dw = 1) %\n",
    "    dna(name = 'rpoB', type = 'rbs', prot = None, rna = None, up = 1, dw = 2) %\n",
    "    dna(name = 'rpoB', type = 'cds', prot = None, rna = None, up = 2, dw = 3) %\n",
    "    dna(name = 'rpoC', type = 'rbs', prot = None, rna = None, up = 3, dw = 4) %\n",
    "    dna(name = 'rpoC', type = 'cds', prot = None, rna = None, up = 4, dw = 5) %\n",
    "    dna(name = 'rpoC', type = 'ter1', prot = None, rna = None, up = 5, dw = None),\n",
    "    Parameter('t0_rpoBC_operon', 1))\n",
    "\n",
    "Initial(\n",
    "    dna(name = 'rpoD', type = 'pro1', prot = None, rna = None, up = None, dw = 1) %\n",
    "    dna(name = 'rpoD', type = 'rbs', prot = None, rna = None, up = 1, dw = 2) %\n",
    "    dna(name = 'rpoD', type = 'cds', prot = None, rna = None, up = 2, dw = 3) %\n",
    "    dna(name = 'rpoD', type = 'ter1', prot = None, rna = None, up = 3, dw = None),\n",
    "    Parameter('t0_rpoD_operon', 1))\n",
    "\n",
    "Initial(\n",
    "    dna(name = 'rpoE', type = 'pro1', prot = None, rna = None, up = None, dw = 1) %\n",
    "    dna(name = 'rpoE', type = 'rbs', prot = None, rna = None, up = 1, dw = 2) %\n",
    "    dna(name = 'rpoE', type = 'cds', prot = None, rna = None, up = 2, dw = 3) %\n",
    "    dna(name = 'rpoE', type = 'ter1', prot = None, rna = None, up = 3, dw = None),\n",
    "    Parameter('t0_rpoE_operon', 1))\n",
    "\n",
    "Initial(\n",
    "    dna(name = 'rpoH', type = 'pro1', prot = None, rna = None, up = None, dw = 1) %\n",
    "    dna(name = 'rpoH', type = 'rbs', prot = None, rna = None, up = 1, dw = 2) %\n",
    "    dna(name = 'rpoH', type = 'cds', prot = None, rna = None, up = 2, dw = 3) %\n",
    "    dna(name = 'rpoH', type = 'ter1', prot = None, rna = None, up = 3, dw = None),\n",
    "    Parameter('t0_rpoH_operon', 1))\n",
    "\n",
    "Initial(\n",
    "    dna(name = 'rpoN', type = 'pro1', prot = None, rna = None, up = None, dw = 1) %\n",
    "    dna(name = 'rpoN', type = 'rbs', prot = None, rna = None, up = 1, dw = 2) %\n",
    "    dna(name = 'rpoN', type = 'cds', prot = None, rna = None, up = 2, dw = 3) %\n",
    "    dna(name = 'rpoN', type = 'ter1', prot = None, rna = None, up = 3, dw = None),\n",
    "    Parameter('t0_rpoN_operon', 1))\n",
    "\n",
    "Initial(\n",
    "    dna(name = 'rpoS', type = 'pro1', prot = None, rna = None, up = None, dw = 1) %\n",
    "    dna(name = 'rpoS', type = 'rbs', prot = None, rna = None, up = 1, dw = 2) %\n",
    "    dna(name = 'rpoS', type = 'cds', prot = None, rna = None, up = 2, dw = 3) %\n",
    "    dna(name = 'rpoS', type = 'ter1', prot = None, rna = None, up = 3, dw = None),\n",
    "    Parameter('t0_rpoS_operon', 1))\n",
    "\n",
    "Initial(\n",
    "    dna(name = 'fliA', type = 'pro1', prot = None, rna = None, up = None, dw = 1) %\n",
    "    dna(name = 'fliA', type = 'rbs', prot = None, rna = None, up = 1, dw = 2) %\n",
    "    dna(name = 'fliA', type = 'cds', prot = None, rna = None, up = 2, dw = 3) %\n",
    "    dna(name = 'fliA', type = 'ter1', prot = None, rna = None, up = 3, dw = None),\n",
    "    Parameter('t0_fliA_operon', 1))\n",
    "\n",
    "Initial(\n",
    "    dna(name = 'fecI', type = 'pro1', prot = None, rna = None, up = None, dw = 1) %\n",
    "    dna(name = 'fecI', type = 'rbs', prot = None, rna = None, up = 1, dw = 2) %\n",
    "    dna(name = 'fecI', type = 'cds', prot = None, rna = None, up = 2, dw = 3) %\n",
    "    dna(name = 'fecI', type = 'ter1', prot = None, rna = None, up = 3, dw = None),\n",
    "    Parameter('t0_fecI_operon', 1))"
   ]
  },
  {
   "cell_type": "code",
   "execution_count": 8,
   "metadata": {},
   "outputs": [],
   "source": [
    "bng = '/opt/git-repositories/bionetgen.RuleWorld/bng2'\n",
    "export.to_bngl(model2, 'test.bngl', bng)\n",
    "export.to_kappa(model2, 'test.kappa')"
   ]
  },
  {
   "cell_type": "code",
   "execution_count": 9,
   "metadata": {},
   "outputs": [],
   "source": [
    "data = simulation.kasim(model2, finish=100, path = '/opt/git-repositories/KaSim.Kappa-Dev/')"
   ]
  },
  {
   "cell_type": "code",
   "execution_count": 11,
   "metadata": {},
   "outputs": [
    {
     "data": {
      "image/png": "[encoded data removed]",
      "text/plain": [
       "<Figure size 400x300 with 1 Axes>"
      ]
     },
     "metadata": {
      "needs_background": "light"
     },
     "output_type": "display_data"
    }
   ],
   "source": [
    "import seaborn\n",
    "import matplotlib.pyplot as plt\n",
    "\n",
    "palette = seaborn.color_palette('colorblind', 5)\n",
    "fig, ax = plt.subplots(1, 1, figsize = (4*1, 3*1), dpi = 100)\n",
    "\n",
    "simulation.plot.rna(data, 'rpoA', **{'kind' : 'fill_between'}, plt_kws = {'color' : palette[0], 'alpha' : 0.5, 'label' : 'rpoA'})\n",
    "simulation.plot.rna(data, 'rpoB', **{'kind' : 'fill_between'}, plt_kws = {'color' : palette[1], 'alpha' : 0.5, 'label' : 'rpoB'})\n",
    "simulation.plot.rna(data, 'rpoC', **{'kind' : 'fill_between'}, plt_kws = {'color' : palette[2], 'alpha' : 0.5, 'label' : 'rpoC'})\n",
    "simulation.plot.rna(data, 'rpoD', **{'kind' : 'fill_between'}, plt_kws = {'color' : palette[3], 'alpha' : 0.5, 'label' : 'rpoD'})\n",
    "simulation.plot.rna(data, 'rpoE', **{'kind' : 'fill_between'}, plt_kws = {'color' : palette[4], 'alpha' : 0.5, 'label' : 'rpoE'})\n",
    "\n",
    "ax.set_xlabel('Time [A.U.]')\n",
    "ax.set_ylabel('Concentration [A.U.]')\n",
    "ax.set_xlim(left = 0, right = 100)\n",
    "# ax.set_ylim(bottom = 0, top = 50)\n",
    "\n",
    "ax.legend(frameon = False, loc = 'upper left')\n",
    "\n",
    "seaborn.despine()\n",
    "# plt.savefig('model_complete_fig1.png', format = 'png', bbox_inches = 'tight', dpi = 300)\n",
    "plt.show()"
   ]
  },
  {
   "cell_type": "code",
   "execution_count": null,
   "metadata": {},
   "outputs": [],
   "source": []
  }
 ],
 "metadata": {
  "kernelspec": {
   "display_name": "Python 3",
   "language": "python",
   "name": "python3"
  },
  "language_info": {
   "codemirror_mode": {
    "name": "ipython",
    "version": 3
   },
   "file_extension": ".py",
   "mimetype": "text/x-python",
   "name": "python",
   "nbconvert_exporter": "python",
   "pygments_lexer": "ipython3",
   "version": "3.6.9"
  }
 },
 "nbformat": 4,
 "nbformat_minor": 2
}
