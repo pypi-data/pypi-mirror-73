{
 "cells": [
  {
   "cell_type": "code",
   "execution_count": 1,
   "metadata": {},
   "outputs": [
    {
     "data": {
      "text/html": [
       "<style>.container { width: 95% !important; }</style>"
      ],
      "text/plain": [
       "<IPython.core.display.HTML object>"
      ]
     },
     "metadata": {},
     "output_type": "display_data"
    }
   ],
   "source": [
    "from IPython.core.display import display, HTML\n",
    "display(HTML(\"<style>.container { width: 95% !important; }</style>\"))"
   ]
  },
  {
   "cell_type": "code",
   "execution_count": 2,
   "metadata": {},
   "outputs": [],
   "source": [
    "# testing code source\n",
    "import sys\n",
    "sys.path.append(\"..\")"
   ]
  },
  {
   "cell_type": "code",
   "execution_count": 3,
   "metadata": {},
   "outputs": [],
   "source": [
    "import atlas_rbm.atlas as atlas\n",
    "import atlas_rbm.export as export\n",
    "import atlas_rbm.simulation as simulation"
   ]
  },
  {
   "cell_type": "code",
   "execution_count": 4,
   "metadata": {
    "scrolled": false
   },
   "outputs": [
    {
     "data": {
      "text/plain": [
       "<Model 'atlas_rbm.construct_model_from_genome_graph' (monomers: 5, rules: 110, parameters: 261, expressions: 0, compartments: 0) at 0x7f269f774358>"
      ]
     },
     "execution_count": 4,
     "metadata": {},
     "output_type": "execute_result"
    }
   ],
   "source": [
    "model1 = atlas.construct_model_from_interaction_network('../docs/networks/ProtProt+ProtMet+ProtDNA_network1.tsv', verbose = False)\n",
    "model2 = atlas.construct_model_from_metabolic_network('../docs/networks/metabolic_network4_arabinose.tsv', verbose = False)\n",
    "atlas.combine_models(model1, model2, verbose = False)\n",
    "\n",
    "model3 = atlas.construct_model_from_genome_graph('../docs/networks/genomegraphs_network2_arabinose.tsv', verbose = False)\n",
    "atlas.combine_models(model2, model3, verbose = False)"
   ]
  },
  {
   "cell_type": "code",
   "execution_count": 5,
   "metadata": {},
   "outputs": [
    {
     "data": {
      "text/plain": [
       "<Model 'atlas_rbm.construct_model_from_genome_graph' (monomers: 5, rules: 110, parameters: 261, expressions: 0, compartments: 0) at 0x7f269f774358>"
      ]
     },
     "execution_count": 5,
     "metadata": {},
     "output_type": "execute_result"
    }
   ],
   "source": [
    "# model initial condition\n",
    "simulation.set_initial.met(model3, 'ATP', 'cyt', 100)\n",
    "simulation.set_initial.met(model3, 'PROTON', 'per', 100)\n",
    "simulation.set_initial.met(model3, 'WATER', 'cyt', 100)\n",
    "simulation.set_initial.met(model3, 'alpha_L_arabinopyranose', 'per', 100)\n",
    "\n",
    "simulation.set_initial.prot(model3, 'araA', 'cyt', 1)\n",
    "simulation.set_initial.prot(model3, 'araB', 'cyt', 1)\n",
    "simulation.set_initial.prot(model3, 'araC', 'cyt', 1)\n",
    "simulation.set_initial.prot(model3, 'araD', 'cyt', 1)\n",
    "simulation.set_initial.prot(model3, 'araE', 'cyt', 1)\n",
    "simulation.set_initial.prot(model3, 'araF', 'cyt', 1)\n",
    "simulation.set_initial.prot(model3, 'araG', 'cyt', 2)\n",
    "simulation.set_initial.prot(model3, 'araH', 'cyt', 2)"
   ]
  },
  {
   "cell_type": "code",
   "execution_count": 6,
   "metadata": {},
   "outputs": [
    {
     "data": {
      "text/plain": [
       "Rule('araF_translocation', prot(loc='cyt', name='araF') >> prot(loc='per', name='araF'), translocation)"
      ]
     },
     "execution_count": 6,
     "metadata": {},
     "output_type": "execute_result"
    }
   ],
   "source": [
    "from pysb import *\n",
    "from pysb.util import alias_model_components\n",
    "\n",
    "alias_model_components(model3)\n",
    "Initial(\n",
    "    dna(name = 'araC', type = 'ter1', prot = None, rna = None, up = None, dw = 17) %\n",
    "    dna(name = 'araC', type = 'cds', prot = None, rna = None, up = 17, dw = 16) %\n",
    "    dna(name = 'araC', type = 'rbs', prot = None, rna = None, up = 16, dw = 15) %\n",
    "    dna(name = 'BS_267_283', type = 'BS', prot = None, rna = None, up = 15, dw = 1) %\n",
    "    dna(name = 'araC', type = 'pro1', prot = None, rna = None, up = 1, dw = 2) %\n",
    "    dna(name = 'BS_130_146', type = 'BS', prot = None, rna = None, up = 2, dw = 3) %\n",
    "    dna(name = 'BS_109_125', type = 'BS', prot = None, rna = None, up = 3, dw = 4) %\n",
    "    dna(name = 'BS_83_104', type = 'BS', prot = None, rna = None, up = 4, dw = 5) %    \n",
    "    dna(name = 'BS_56_72', type = 'BS', prot = None, rna = None, up = 5, dw = 6) %\n",
    "    dna(name = 'BS_35_51', type = 'BS', prot = None, rna = None, up = 6, dw = 7) %\n",
    "    dna(name = 'araB', type = 'pro1', prot = None, rna = None, up = 7, dw = 8) %\n",
    "    dna(name = 'araB', type = 'rbs', prot = None, rna = None, up = 8, dw = 9) %\n",
    "    dna(name = 'araB', type = 'cds', prot = None, rna = None, up = 9, dw = 10) %\n",
    "    dna(name = 'araA', type = 'rbs', prot = None, rna = None, up = 10, dw = 11) %\n",
    "    dna(name = 'araA', type = 'cds', prot = None, rna = None, up = 11, dw = 12) %\n",
    "    dna(name = 'araD', type = 'rbs', prot = None, rna = None, up = 12, dw = 13) %\n",
    "    dna(name = 'araD', type = 'cds', prot = None, rna = None, up = 13, dw = 14) %\n",
    "    dna(name = 'araD', type = 'ter1', prot = None, rna = None, up = 14, dw = None),\n",
    "    Parameter('t0_araBAD_araC_operons', 1))\n",
    "\n",
    "Initial(\n",
    "    dna(name = 'BS_158_174', type = 'BS', prot = None, rna = None, up = None, dw = 1) %\n",
    "    dna(name = 'BS_137_153', type = 'BS', prot = None, rna = None, up = 1, dw = 2) %\n",
    "    dna(name = 'BS_83_99', type = 'BS', prot = None, rna = None, up = 2, dw = 3) %\n",
    "    dna(name = 'BS_62_78', type = 'BS', prot = None, rna = None, up = 3, dw = 4) %\n",
    "    dna(name = 'araE', type = 'pro1', prot = None, rna = None, up = 4, dw = 5) %\n",
    "    dna(name = 'araE', type = 'rbs', prot = None, rna = None, up = 5, dw = 6) %\n",
    "    dna(name = 'araE', type = 'cds', prot = None, rna = None, up = 6, dw = 7) %\n",
    "    dna(name = 'araE', type = 'ter1', prot = None, rna = None, up = 7, dw = None), \n",
    "    Parameter('t0_araE_operon', 1))\n",
    "\n",
    "Initial(\n",
    "    dna(name = 'BS_57_73', type = 'BS', prot = None, rna = None, up = None, dw = 1) %\n",
    "    dna(name = 'BS_36_52', type = 'BS', prot = None, rna = None, up = 1, dw = 2) %\n",
    "    dna(name = 'araF', type = 'pro1', prot = None, rna = None, up = 2, dw = 3) %\n",
    "    dna(name = 'araF', type = 'rbs', prot = None, rna = None, up = 3, dw = 4) %\n",
    "    dna(name = 'araF', type = 'cds', prot = None, rna = None, up = 4, dw = 5) %\n",
    "    dna(name = 'araG', type = 'rbs', prot = None, rna = None, up = 5, dw = 6) %\n",
    "    dna(name = 'araG', type = 'cds', prot = None, rna = None, up = 6, dw = 7) %\n",
    "    dna(name = 'araH', type = 'rbs', prot = None, rna = None, up = 7, dw = 8) %\n",
    "    dna(name = 'araH', type = 'cds', prot = None, rna = None, up = 8, dw = 9) %\n",
    "    dna(name = 'araH', type = 'ter1', prot = None, rna = None, up = 9, dw = None), \n",
    "    Parameter('t0_araFGH_operon', 1))\n",
    "\n",
    "Initial(cplx(name = 'RNAP', loc = 'cyt', dna = None, prot = None, rna = None), Parameter('t0_RNAP', 10))\n",
    "Initial(cplx(name = 'Ribosome', loc = 'cyt', dna = None, prot = None, rna = None), Parameter('t0_ribosome', 10))\n",
    "\n",
    "Observable('obs_rnap', cplx(name = 'RNAP', dna = None))\n",
    "Observable('obs_ribosome', cplx(name = 'Ribosome', rna = None))\n",
    "\n",
    "Rule('araF_translocation',\n",
    "    prot(name = 'araF', loc = 'cyt') >>\n",
    "    prot(name = 'araF', loc = 'per'),\n",
    "    Parameter('translocation', 1))"
   ]
  },
  {
   "cell_type": "code",
   "execution_count": 7,
   "metadata": {},
   "outputs": [],
   "source": [
    "bng = '/opt/git-repositories/bionetgen.RuleWorld/bng2/'\n",
    "kasim = '/opt/git-repositories/KaSim4.Kappa-Dev/'\n",
    "# export.to_bngl(model3, 'test.bngl', bng)\n",
    "export.to_kappa(model3, 'test.kappa')"
   ]
  },
  {
   "cell_type": "code",
   "execution_count": null,
   "metadata": {},
   "outputs": [],
   "source": []
  }
 ],
 "metadata": {
  "kernelspec": {
   "display_name": "Python 3",
   "language": "python",
   "name": "python3"
  },
  "language_info": {
   "codemirror_mode": {
    "name": "ipython",
    "version": 3
   },
   "file_extension": ".py",
   "mimetype": "text/x-python",
   "name": "python",
   "nbconvert_exporter": "python",
   "pygments_lexer": "ipython3",
   "version": "3.6.9"
  }
 },
 "nbformat": 4,
 "nbformat_minor": 2
}
