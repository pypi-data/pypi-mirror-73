{
 "cells": [
  {
   "cell_type": "code",
   "execution_count": null,
   "metadata": {},
   "outputs": [],
   "source": [
    "import nest_asyncio\n",
    "\n",
    "import aiokef\n",
    "\n",
    "nest_asyncio.apply()\n",
    "\n",
    "ip_ls50 = \"192.168.1.5\"\n",
    "ip_lsx = \"192.168.1.6\""
   ]
  },
  {
   "cell_type": "code",
   "execution_count": null,
   "metadata": {},
   "outputs": [],
   "source": [
    "ip = ip_lsx\n",
    "for inverse_mode in [True, False]:\n",
    "    for standby_time in [20, 60, None]:\n",
    "        s = aiokef.AsyncKefSpeaker(\n",
    "            ip, inverse_speaker_mode=inverse_mode, standby_time=standby_time\n",
    "        )\n",
    "        for source in [\"Bluetooth\", \"Opt\", \"Aux\", \"Wifi\"]:\n",
    "\n",
    "            await s.set_source(source)\n",
    "            print(source, standby_time, inverse_mode)\n",
    "            print(await s.get_state())\n",
    "            print(\"\\n\\n\")"
   ]
  },
  {
   "cell_type": "code",
   "execution_count": null,
   "metadata": {},
   "outputs": [],
   "source": [
    "import logging\n",
    "logger = logging.getLogger()\n",
    "logger.setLevel(logging.DEBUG)\n",
    "logging.debug(\"test\")"
   ]
  },
  {
   "cell_type": "code",
   "execution_count": null,
   "metadata": {},
   "outputs": [],
   "source": [
    "lsx = aiokef.AsyncKefSpeaker(ip_lsx, inverse_speaker_mode=True, standby_time=60)\n",
    "ls50 = aiokef.AsyncKefSpeaker(ip_ls50, inverse_speaker_mode=True, standby_time=60)"
   ]
  },
  {
   "cell_type": "code",
   "execution_count": null,
   "metadata": {},
   "outputs": [],
   "source": [
    "await lsx.set_source(\"Wifi\")"
   ]
  },
  {
   "cell_type": "code",
   "execution_count": null,
   "metadata": {},
   "outputs": [],
   "source": [
    "await lsx.turn_off()"
   ]
  },
  {
   "cell_type": "code",
   "execution_count": null,
   "metadata": {},
   "outputs": [],
   "source": [
    "await lsx.get_state()"
   ]
  },
  {
   "cell_type": "code",
   "execution_count": null,
   "metadata": {},
   "outputs": [],
   "source": [
    "aiokef.aiokef.INPUT_SOURCES_RESPONSE"
   ]
  }
 ],
 "metadata": {
  "kernelspec": {
   "display_name": "Python 3",
   "language": "python",
   "name": "python3"
  },
  "language_info": {
   "codemirror_mode": {
    "name": "ipython",
    "version": 3
   },
   "file_extension": ".py",
   "mimetype": "text/x-python",
   "name": "python",
   "nbconvert_exporter": "python",
   "pygments_lexer": "ipython3",
   "version": "3.7.3"
  }
 },
 "nbformat": 4,
 "nbformat_minor": 2
}
