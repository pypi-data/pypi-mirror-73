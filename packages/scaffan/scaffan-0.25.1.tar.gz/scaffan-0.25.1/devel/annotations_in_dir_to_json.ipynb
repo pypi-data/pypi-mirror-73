{
 "cells": [
  {
   "cell_type": "code",
   "execution_count": 1,
   "metadata": {},
   "outputs": [
    {
     "name": "stdout",
     "output_type": "stream",
     "text": [
      "Populating the interactive namespace from numpy and matplotlib\n"
     ]
    }
   ],
   "source": [
    "%pylab inline\n",
    "\n",
    "import lxml\n",
    "from lxml import etree\n",
    "import json\n",
    "import os.path as op\n",
    "import glob"
   ]
  },
  {
   "cell_type": "code",
   "execution_count": 2,
   "metadata": {},
   "outputs": [],
   "source": [
    "annotataion_dir  = r\"e:data/scaffold/Hamamatsu/\"\n",
    "# annotataion_dir  = r\"e:data/medical/orig/\""
   ]
  },
  {
   "cell_type": "markdown",
   "metadata": {},
   "source": [
    "# Function"
   ]
  },
  {
   "cell_type": "code",
   "execution_count": 3,
   "metadata": {},
   "outputs": [],
   "source": [
    "def get_one_annotation(viewstate):\n",
    "    titles_list = viewstate.xpath(\".//title/text()\")\n",
    "    if len(titles_list) == 0:\n",
    "        an_title = \"\"\n",
    "    elif len(titles_list) == 1:\n",
    "        an_title = titles_list[0]\n",
    "    else:\n",
    "        raise ValueError(\"More than one title in viewstate\")\n",
    "    \n",
    "    annotations = viewstate.xpath(\".//annotation\")\n",
    "    if len(annotations) > 1:\n",
    "        raise ValueError(\"More than one annotation found\")\n",
    "    annot = annotations[0]\n",
    "    an_color = annot.get(\"color\")\n",
    "#     display(len(annotation))\n",
    "    an_x = list(map(int, annot.xpath(\".//pointlist/point/x/text()\")))\n",
    "    an_y = list(map(int, annot.xpath(\".//pointlist/point/y/text()\")))\n",
    "    return dict(title=an_title, color=an_color, x=an_x, y=an_y)\n",
    "    \n",
    "    \n",
    "# get_one_annotation(viewstates[2])"
   ]
  },
  {
   "cell_type": "markdown",
   "metadata": {},
   "source": [
    "# Convert from .ndpa to .json"
   ]
  },
  {
   "cell_type": "code",
   "execution_count": 4,
   "metadata": {},
   "outputs": [],
   "source": [
    "\n",
    "\n",
    "def ndpa_file_to_json(pth):\n",
    "    tree = etree.parse(pth)\n",
    "    viewstates = tree.xpath(\"//ndpviewstate\")\n",
    "    all_anotations = list(map(get_one_annotation, viewstates))\n",
    "    fn = pth + \".json\"\n",
    "    with open(fn, 'w') as outfile:\n",
    "        json.dump(all_anotations, outfile)"
   ]
  },
  {
   "cell_type": "code",
   "execution_count": 5,
   "metadata": {},
   "outputs": [],
   "source": [
    "# pth = r\"E:\\data\\scaffold\\Hamamatsu\\PIG-003_J-18-0165_HE.ndpi.ndpa\"\n",
    "# ndpa_file_to_json(pth)"
   ]
  },
  {
   "cell_type": "markdown",
   "metadata": {},
   "source": [
    "# Convert whole directory"
   ]
  },
  {
   "cell_type": "code",
   "execution_count": 6,
   "metadata": {},
   "outputs": [],
   "source": [
    "def ndpa_to_json(path):\n",
    "    \"\"\"\n",
    "    :param path: path to file or dir contaning .ndpa files\n",
    "    \"\"\"\n",
    "    if op.isfile(path):\n",
    "        ndpa_file_to_json(path)\n",
    "    else:\n",
    "        extended_path = op.join(path, \"*.ndpa\")\n",
    "#         print(extended_path)\n",
    "        files = glob.glob(extended_path)\n",
    "        for fl in files:\n",
    "            ndpa_file_to_json(fl)\n",
    "        \n",
    "    \n",
    "    "
   ]
  },
  {
   "cell_type": "code",
   "execution_count": 7,
   "metadata": {},
   "outputs": [],
   "source": [
    "ndpa_to_json(annotataion_dir)"
   ]
  }
 ],
 "metadata": {
  "kernelspec": {
   "display_name": "Python 3",
   "language": "python",
   "name": "python3"
  },
  "language_info": {
   "codemirror_mode": {
    "name": "ipython",
    "version": 3
   },
   "file_extension": ".py",
   "mimetype": "text/x-python",
   "name": "python",
   "nbconvert_exporter": "python",
   "pygments_lexer": "ipython3",
   "version": "3.6.5"
  }
 },
 "nbformat": 4,
 "nbformat_minor": 2
}
