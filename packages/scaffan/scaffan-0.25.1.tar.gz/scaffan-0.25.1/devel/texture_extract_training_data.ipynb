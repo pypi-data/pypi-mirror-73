{
 "cells": [
  {
   "cell_type": "code",
   "execution_count": 1,
   "metadata": {},
   "outputs": [
    {
     "name": "stdout",
     "output_type": "stream",
     "text": [
      "Populating the interactive namespace from numpy and matplotlib\n",
      "add path C:\\Users\\Jirik\\Downloads\\openslide-win64-20171122\\bin\n"
     ]
    }
   ],
   "source": [
    "%pylab inline\n",
    "import os.path as op\n",
    "import sys\n",
    "import os\n",
    "import json\n",
    "import skimage.color\n",
    "import skimage.filters\n",
    "import morphsnakes as ms\n",
    "import io3d.datasets\n",
    "import scipy.ndimage\n",
    "\n",
    "pth = op.abspath(\"..\")\n",
    "sys.path.insert(0, pth)\n",
    "import scaffan\n",
    "import scaffan.annotation as scan\n",
    "import scaffan.image as scim\n",
    "import scaffan.texture as satex\n",
    "import scaffan.texture_lbp as salbp\n",
    "scaffan.image.import_openslide()\n",
    "import openslide"
   ]
  },
  {
   "cell_type": "code",
   "execution_count": 2,
   "metadata": {},
   "outputs": [
    {
     "name": "stderr",
     "output_type": "stream",
     "text": [
      "2019-07-09 19:03:51.257 | DEBUG    | scaffan.image:__init__:166 - Reading file C:\\Users\\Jirik/data/medical\\orig\\CMU-1.ndpi\n",
      "2019-07-09 19:03:51.281 | DEBUG    | scaffan.image:__init__:180 - Reading the annotation\n",
      "2019-07-09 19:03:52.900 | DEBUG    | scaffan.annotation:read_annotations:112 - windows annotation output:b'2019-07-09 19:03:52.711 | DEBUG    | scaffan.annotation:ndpa_to_json:64 - PATH: C:\\\\Users\\\\Jirik\\\\Miniconda3\\\\envs\\\\scaffan\\\\Library\\\\bin;C:\\\\Users\\\\Jirik\\\\Downloads\\\\openslide-win64-20171122\\\\bin;C:\\\\Users\\\\Jirik\\\\Downloads\\\\openslide-win64-20171122\\\\bin;C:\\\\Users\\\\Jirik\\\\Miniconda3\\\\envs\\\\scaffan\\\\Library\\\\bin;C:\\\\Users\\\\Jirik\\\\Miniconda3\\\\envs\\\\scaffan\\\\Library\\\\bin;C:\\\\Users\\\\Jirik\\\\Miniconda3\\\\envs\\\\scaffan\\\\Library\\\\bin;C:\\\\Users\\\\Jirik\\\\Miniconda3\\\\envs\\\\scaffan;C:\\\\Users\\\\Jirik\\\\Miniconda3\\\\envs\\\\scaffan\\\\Library\\\\mingw-w64\\\\bin;C:\\\\Users\\\\Jirik\\\\Miniconda3\\\\envs\\\\scaffan\\\\Library\\\\usr\\\\bin;C:\\\\Users\\\\Jirik\\\\Miniconda3\\\\envs\\\\scaffan\\\\Library\\\\bin;C:\\\\Users\\\\Jirik\\\\Miniconda3\\\\envs\\\\scaffan\\\\Scripts;C:\\\\Users\\\\Jirik\\\\Miniconda3\\\\envs\\\\scaffan\\\\bin;C:\\\\Users\\\\Jirik\\\\Miniconda3\\\\condabin;C:\\\\Users\\\\Jirik\\\\AppData\\\\Local\\\\cmder\\\\bin;C:\\\\Users\\\\Jirik\\\\AppData\\\\Local\\\\cmder\\\\vendor\\\\bin;C:\\\\Users\\\\Jirik\\\\AppData\\\\Local\\\\cmder\\\\vendor\\\\conemu-maximus5\\\\ConEmu\\\\Scripts;C:\\\\Users\\\\Jirik\\\\AppData\\\\Local\\\\cmder\\\\vendor\\\\conemu-maximus5;C:\\\\Users\\\\Jirik\\\\AppData\\\\Local\\\\cmder\\\\vendor\\\\conemu-maximus5\\\\ConEmu;C:\\\\Program Files (x86)\\\\Intel\\\\Intel(R) Management Engine Components\\\\iCLS;C:\\\\Program Files\\\\Intel\\\\Intel(R) Management Engine Components\\\\iCLS;C:\\\\WINDOWS\\\\system32;C:\\\\WINDOWS;C:\\\\WINDOWS\\\\System32\\\\Wbem;C:\\\\WINDOWS\\\\System32\\\\WindowsPowerShell\\\\v1.0;C:\\\\WINDOWS\\\\System32\\\\OpenSSH;C:\\\\Program Files (x86)\\\\Intel\\\\Intel(R) Management Engine Components\\\\DAL;C:\\\\Program Files\\\\Intel\\\\Intel(R) Management Engine Components\\\\DAL;C:\\\\Program Files (x86)\\\\Intel\\\\Intel(R) Management Engine Components\\\\IPT;C:\\\\Program Files\\\\Intel\\\\Intel(R) Management Engine Components\\\\IPT;C:\\\\Program Files\\\\PuTTY;C:\\\\Users\\\\Jirik\\\\AppData\\\\Local\\\\Julia-1.1.0\\\\bin;C:\\\\Program Files\\\\Intel\\\\WiFi\\\\bin;C:\\\\Program Files\\\\Common Files\\\\Intel\\\\WirelessCommon;C:\\\\Program Files\\\\MIT\\\\Kerberos\\\\bin;C:\\\\Users\\\\Jirik\\\\Miniconda3;C:\\\\Users\\\\Jirik\\\\Miniconda3\\\\Library\\\\mingw-w64\\\\bin;C:\\\\Users\\\\Jirik\\\\Miniconda3\\\\Library\\\\usr\\\\bin;C:\\\\Users\\\\Jirik\\\\Miniconda3\\\\Library\\\\bin;C:\\\\Users\\\\Jirik\\\\Miniconda3\\\\Scripts;C:\\\\Users\\\\Jirik\\\\AppData\\\\Local\\\\Microsoft\\\\WindowsApps;C:\\\\Users\\\\Jirik\\\\AppData\\\\Local\\\\Programs\\\\Git\\\\cmd;C:\\\\Users\\\\Jirik\\\\AppData\\\\Local\\\\atom\\\\bin;C:\\\\Users\\\\Jirik\\\\AppData\\\\Local\\\\Julia-1.1.1\\\\bin;C:\\\\Users\\\\Jirik\\\\AppData\\\\Local\\\\Programs\\\\MiKTeX 2.9\\\\miktex\\\\bin\\\\x64;C:\\\\Users\\\\Jirik\\\\Miniconda3\\\\Library\\\\bin\\\\usr\\\\bin;C:\\\\Users\\\\Jirik\\\\AppData\\\\Local\\\\cmder\\r\\n'\n"
     ]
    }
   ],
   "source": [
    "# pth = r\"e:data/scaffold/Hamamatsu/PIG-008_P008 LL-P_HE_parenchyme perif..ndpi\"\n",
    "fn = io3d.datasets.join_path(\"medical\", \"orig\", \"CMU-1.ndpi\", get_root=True)\n",
    "anim = scim.AnnotatedImage(fn)\n",
    "\n",
    "\n",
    "tile_size = 100"
   ]
  },
  {
   "cell_type": "code",
   "execution_count": 3,
   "metadata": {},
   "outputs": [
    {
     "ename": "AttributeError",
     "evalue": "'AnnotatedImage' object has no attribute 'get_view_on_annotations'",
     "output_type": "error",
     "traceback": [
      "\u001b[1;31m---------------------------------------------------------------------------\u001b[0m",
      "\u001b[1;31mAttributeError\u001b[0m                            Traceback (most recent call last)",
      "\u001b[1;32m<ipython-input-3-84ad5863d492>\u001b[0m in \u001b[0;36m<module>\u001b[1;34m\u001b[0m\n\u001b[0;32m      1\u001b[0m \u001b[1;33m\u001b[0m\u001b[0m\n\u001b[1;32m----> 2\u001b[1;33m \u001b[0mview1\u001b[0m \u001b[1;33m=\u001b[0m \u001b[0manim\u001b[0m\u001b[1;33m.\u001b[0m\u001b[0mget_view_on_annotations\u001b[0m\u001b[1;33m(\u001b[0m\u001b[1;34m\"obj1\"\u001b[0m\u001b[1;33m,\u001b[0m \u001b[0mlevel\u001b[0m\u001b[1;33m=\u001b[0m\u001b[1;36m3\u001b[0m\u001b[1;33m)\u001b[0m\u001b[1;33m\u001b[0m\u001b[0m\n\u001b[0m\u001b[0;32m      3\u001b[0m \u001b[1;33m\u001b[0m\u001b[0m\n\u001b[0;32m      4\u001b[0m \u001b[0mregion\u001b[0m \u001b[1;33m=\u001b[0m \u001b[0mview1\u001b[0m\u001b[1;33m.\u001b[0m\u001b[0mget_region_image\u001b[0m\u001b[1;33m(\u001b[0m\u001b[1;33m)\u001b[0m\u001b[1;33m\u001b[0m\u001b[0m\n\u001b[0;32m      5\u001b[0m \u001b[0mimshow\u001b[0m\u001b[1;33m(\u001b[0m\u001b[0mregion\u001b[0m\u001b[1;33m)\u001b[0m\u001b[1;33m\u001b[0m\u001b[0m\n",
      "\u001b[1;31mAttributeError\u001b[0m: 'AnnotatedImage' object has no attribute 'get_view_on_annotations'"
     ]
    }
   ],
   "source": [
    "\n",
    "view1 = anim.get_view_on_annotations(\"obj1\", level=3)\n",
    "\n",
    "region = view1.get_region_image()\n",
    "imshow(region)\n",
    "view1.plot_annotations(\"obj1\")"
   ]
  },
  {
   "cell_type": "code",
   "execution_count": null,
   "metadata": {},
   "outputs": [],
   "source": [
    "view1.annotations\n"
   ]
  },
  {
   "cell_type": "code",
   "execution_count": null,
   "metadata": {},
   "outputs": [],
   "source": [
    "anim.annotations"
   ]
  },
  {
   "cell_type": "code",
   "execution_count": null,
   "metadata": {},
   "outputs": [],
   "source": [
    "view1.get_annotation_region_raster(\"obj1\")"
   ]
  },
  {
   "cell_type": "code",
   "execution_count": null,
   "metadata": {},
   "outputs": [],
   "source": [
    "view2 = anim.get_view(center=[x, y], level=3, size=[512, 512])\n",
    "region = view2.get_region_image()\n",
    "imshow(region)\n",
    "annotation = view2.annotations[0]\n",
    "x = np.mean(annotation[\"x_px\"])\n",
    "y = np.mean(annotation[\"y_px\"])\n",
    "plot(annotation[\"region_x_px\"], annotation[\"region_y_px\"])"
   ]
  },
  {
   "cell_type": "code",
   "execution_count": null,
   "metadata": {},
   "outputs": [],
   "source": [
    "view1 = anim.get_view_on_annotations(\"obj1\", level=1)\n",
    "region = view1.get_region_image()\n",
    "imshow(region)\n",
    "view1.plot_annotations(\"obj1\")\n",
    "plt.figure()\n",
    "mask = view1.get_annotation_region_raster(\"obj1\")\n",
    "region = view1.get_region_image()\n",
    "imshow(mask)"
   ]
  },
  {
   "cell_type": "code",
   "execution_count": null,
   "metadata": {},
   "outputs": [],
   "source": [
    "plt.imshow(region)\n",
    "plt.contour(mask)"
   ]
  },
  {
   "cell_type": "code",
   "execution_count": null,
   "metadata": {},
   "outputs": [],
   "source": [
    "dst = scipy.ndimage.morphology.distance_transform_edt(mask)\n",
    "plt.imshow(dst)"
   ]
  },
  {
   "cell_type": "code",
   "execution_count": null,
   "metadata": {},
   "outputs": [],
   "source": [
    "middle_pixels = dst > (tile_size/2)\n",
    "plt.imshow(middle_pixels)"
   ]
  },
  {
   "cell_type": "code",
   "execution_count": null,
   "metadata": {},
   "outputs": [],
   "source": [
    "def nonzero_with_step(data, step):\n",
    "    print(data.shape)\n",
    "    datastep = data[::step, ::step]\n",
    "    print(datastep.shape)\n",
    "    nzx, nzy = np.nonzero(datastep)\n",
    "    \n",
    "    return nzx* step, nzy * step"
   ]
  },
  {
   "cell_type": "code",
   "execution_count": null,
   "metadata": {},
   "outputs": [],
   "source": [
    "nz = nonzero_with_step(middle_pixels, 50 )"
   ]
  },
  {
   "cell_type": "code",
   "execution_count": null,
   "metadata": {},
   "outputs": [],
   "source": [
    "nz"
   ]
  },
  {
   "cell_type": "code",
   "execution_count": null,
   "metadata": {},
   "outputs": [],
   "source": [
    "view1 = anim.get_view_on_annotations(\"obj1\", level=2, show=True)\n",
    "nz = satex.select_texture_patch_centers_from_one_annotation(anim, \"obj1\", tile_size=32, step=20)\n",
    "\n",
    "plt.plot(nz[0], nz[1], \"bo\")\n",
    "# nz"
   ]
  },
  {
   "cell_type": "code",
   "execution_count": null,
   "metadata": {},
   "outputs": [],
   "source": [
    "imshow(region)\n",
    "scan.plot_annotations(anim.annotations, in_region=True)"
   ]
  },
  {
   "cell_type": "code",
   "execution_count": null,
   "metadata": {},
   "outputs": [],
   "source": [
    "annotation"
   ]
  },
  {
   "cell_type": "code",
   "execution_count": null,
   "metadata": {},
   "outputs": [],
   "source": []
  },
  {
   "cell_type": "markdown",
   "metadata": {},
   "source": [
    "# Get Features"
   ]
  },
  {
   "cell_type": "code",
   "execution_count": null,
   "metadata": {},
   "outputs": [],
   "source": []
  },
  {
   "cell_type": "code",
   "execution_count": null,
   "metadata": {},
   "outputs": [],
   "source": [
    "def show_lbp(lbp):\n",
    "    n_bins = int(lbp.max() + 1)\n",
    "    plt.hist(lbp.ravel(), range=(0, n_bins), bins=n_bins, normed=True)\n",
    "    plt.xlim(xmax=n_points + 2)\n"
   ]
  },
  {
   "cell_type": "code",
   "execution_count": null,
   "metadata": {},
   "outputs": [],
   "source": [
    "anim.region_location"
   ]
  },
  {
   "cell_type": "code",
   "execution_count": null,
   "metadata": {},
   "outputs": [],
   "source": [
    "def coords_region_px_to_global_px(anim, points):\n",
    "    px_factor = anim.openslide.level_downsamples[anim.region_level]\n",
    "    print(px_factor)\n",
    "    x_px = anim.region_location[0] + points[0] * px_factor\n",
    "    y_px = anim.region_location[1] + points[1] * px_factor\n",
    "    \n",
    "    return x_px, y_px"
   ]
  },
  {
   "cell_type": "code",
   "execution_count": null,
   "metadata": {},
   "outputs": [],
   "source": [
    "\n",
    "nz_base_px = coords_region_px_to_global_px(anim, nz)\n",
    "points = list(zip(nz_base_px[0], nz_base_px[1]))\n",
    "print(len(points))"
   ]
  },
  {
   "cell_type": "code",
   "execution_count": null,
   "metadata": {},
   "outputs": [],
   "source": [
    "from skimage.feature import local_binary_pattern\n",
    "\n",
    "\n",
    "i = 12\n",
    "anim.set_region(center=points[i], level=0, size=[128, 128])\n",
    "# anim.set_region(center=anim.region_location, level=4, size=[320, 320])\n",
    "region_gray = anim.get_region_image(as_gray=True)\n",
    "\n",
    "# settings for LBP\n",
    "radius = 3\n",
    "n_points = 8 * radius\n",
    "METHOD=\"uniform\"\n",
    "lbp = local_binary_pattern(region_gray, n_points, radius, METHOD)\n",
    "lbp.shape\n",
    "figure()\n",
    "imshow(region_gray, cmap=\"gray\")\n",
    "figure()\n",
    "show_lbp(lbp)"
   ]
  },
  {
   "cell_type": "code",
   "execution_count": null,
   "metadata": {},
   "outputs": [],
   "source": [
    "from skimage.feature import local_binary_pattern\n",
    "\n",
    "points = list(zip(nz[0], nz[1]))\n",
    "i = 2\n",
    "\n",
    "# anim.set_region(center=points[i], level=4, size=[320, 320])\n",
    "anim.set_region(center=anim.region_location, level=4, size=[320, 320])\n",
    "region_gray = anim.get_region_image(as_gray=True)\n",
    "\n",
    "# settings for LBP\n",
    "radius = 3\n",
    "n_points = 8 * radius\n",
    "METHOD=\"uniform\"\n",
    "lbp = local_binary_pattern(region_gray, n_points, radius, METHOD)\n",
    "lbp.shape\n",
    "figure()\n",
    "imshow(region_gray, cmap=\"gray\")\n",
    "figure()\n",
    "show_lbp(lbp)"
   ]
  },
  {
   "cell_type": "code",
   "execution_count": null,
   "metadata": {},
   "outputs": [],
   "source": []
  },
  {
   "cell_type": "markdown",
   "metadata": {},
   "source": [
    "# Get features from non rectangular area"
   ]
  },
  {
   "cell_type": "code",
   "execution_count": null,
   "metadata": {},
   "outputs": [],
   "source": [
    "anim.set_region_on_annotations(\"obj1\", level=2, show=True)\n",
    "region_gray = anim.get_region_image(as_gray=True)\n",
    "mask = anim.get_annotation_region_raster(i=\"obj1\")\n",
    "plt.figure()\n",
    "plt.imshow(region_gray)\n",
    "plt.figure()\n",
    "plt.imshow(mask)\n",
    "\n",
    "\n",
    "lbp = local_binary_pattern(region_gray, n_points, radius, METHOD)\n",
    "len(lbp[mask])\n",
    "\n",
    "plt.figure()\n",
    "show_lbp(lbp[mask].ravel())\n",
    "\n",
    "\n",
    "                                         \n",
    "                                         "
   ]
  }
 ],
 "metadata": {
  "kernelspec": {
   "display_name": "Python 3",
   "language": "python",
   "name": "python3"
  },
  "language_info": {
   "codemirror_mode": {
    "name": "ipython",
    "version": 3
   },
   "file_extension": ".py",
   "mimetype": "text/x-python",
   "name": "python",
   "nbconvert_exporter": "python",
   "pygments_lexer": "ipython3",
   "version": "3.6.6"
  },
  "toc": {
   "base_numbering": 1,
   "nav_menu": {},
   "number_sections": true,
   "sideBar": true,
   "skip_h1_title": false,
   "title_cell": "Table of Contents",
   "title_sidebar": "Contents",
   "toc_cell": false,
   "toc_position": {},
   "toc_section_display": true,
   "toc_window_display": true
  }
 },
 "nbformat": 4,
 "nbformat_minor": 2
}
