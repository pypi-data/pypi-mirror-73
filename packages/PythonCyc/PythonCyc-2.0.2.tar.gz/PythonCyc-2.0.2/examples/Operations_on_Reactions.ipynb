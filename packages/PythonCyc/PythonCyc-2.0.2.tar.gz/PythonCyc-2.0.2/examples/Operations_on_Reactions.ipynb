{
 "cells": [
  {
   "cell_type": "code",
   "execution_count": 1,
   "metadata": {},
   "outputs": [
    {
     "data": {
      "text/plain": [
       "0"
      ]
     },
     "execution_count": 1,
     "metadata": {},
     "output_type": "execute_result"
    }
   ],
   "source": [
    "# to run the script, you need to start pathway tools form the command line \n",
    "# using the -lisp -python options. Example (from the pathway tools github repository)\n",
    "\n",
    "import os\n",
    "# os.system('nohup /opt/pathway-tools/pathway-tools -lisp -python &')\n",
    "os.system('nohup pathway-tools -lisp -python-local-only &') # added cybersecurity"
   ]
  },
  {
   "cell_type": "code",
   "execution_count": 2,
   "metadata": {},
   "outputs": [],
   "source": [
    "# modify sys.path to recognize local pythoncyc\n",
    "import sys\n",
    "\n",
    "module_path = os.path.abspath(os.path.join('../'))\n",
    "sys.path = [module_path]\n",
    "\n",
    "# sys.path"
   ]
  },
  {
   "cell_type": "code",
   "execution_count": 3,
   "metadata": {},
   "outputs": [
    {
     "name": "stdout",
     "output_type": "stream",
     "text": [
      "['|META|', '|ECOLI|']\n"
     ]
    }
   ],
   "source": [
    "import pythoncyc\n",
    "all_orgids = pythoncyc.all_orgids()\n",
    "print(all_orgids)\n",
    "\n",
    "meta = pythoncyc.select_organism(u'|META|')\n",
    "ecoli = pythoncyc.select_organism(u'|ECOLI|')"
   ]
  },
  {
   "cell_type": "code",
   "execution_count": 4,
   "metadata": {},
   "outputs": [
    {
     "data": {
      "text/plain": [
       "[['|G6350|'],\n",
       " ['|EG10754|'],\n",
       " [],\n",
       " [],\n",
       " [],\n",
       " ['|EG10068|'],\n",
       " ['|EG10278|', '|G7213|'],\n",
       " [],\n",
       " ['|G7590|'],\n",
       " []]"
      ]
     },
     "execution_count": 4,
     "metadata": {},
     "output_type": "execute_result"
    }
   ],
   "source": [
    "lst = []\n",
    "for rxn in ecoli.all_rxns(type_of_reactions = ':all'):\n",
    "    lst.append(ecoli.genes_of_reaction(rxn = rxn))\n",
    "lst[-10:]"
   ]
  },
  {
   "cell_type": "code",
   "execution_count": 5,
   "metadata": {},
   "outputs": [
    {
     "data": {
      "text/plain": [
       "[['|NICOTINATE_NUCLEOTIDE|', '|ATP|', '|PROTON|', '|PPI|', '|DEAMIDO-NAD|'],\n",
       " ['|ACETALD|', '|PYRUVATE|', '|PROTON|', '|ACETOIN|', '|CARBON-DIOXIDE|'],\n",
       " ['|Protein-Red-Disulfides|',\n",
       "  '|MONOMER0-4152|',\n",
       "  '|MONOMER0-4438|',\n",
       "  '|Protein-Ox-Disulfides|'],\n",
       " ['|PROTON|', '|AMINO-OXOBUT|', '|AMINO-ACETONE|', '|CARBON-DIOXIDE|'],\n",
       " ['|Cytochromes-B-Reduced|', '|Cytochromes-B|', '|Reduced-Cytochromes-o|'],\n",
       " ['|ATP|',\n",
       "  '|L-CITRULLINE|',\n",
       "  '|L-ASPARTATE|',\n",
       "  '|PROTON|',\n",
       "  '|L-ARGININO-SUCCINATE|',\n",
       "  '|PPI|',\n",
       "  '|AMP|'],\n",
       " ['|ACETYL-COA|', '|CPD-7221|', '|CPD-15244|', '|CO-A|'],\n",
       " ['|MONOMER0-1641|', '|TORR-CPLX|', '|CPLX0-2821|'],\n",
       " ['|ATP|',\n",
       "  '|D-BETA-D-HEPTOSE-1-P|',\n",
       "  '|PROTON|',\n",
       "  '|ADP-D-GLYCERO-D-MANNO-HEPTOSE|',\n",
       "  '|PPI|'],\n",
       " ['|DSBD-MONOMER|', '|CPLX0-8004|', '|DSBG-MONOMER|', '|DSBDOXI-MONOMER|']]"
      ]
     },
     "execution_count": 5,
     "metadata": {},
     "output_type": "execute_result"
    }
   ],
   "source": [
    "lst = []\n",
    "for rxn in ecoli.all_rxns(type_of_reactions = ':all'):\n",
    "    lst.append(ecoli.substrates_of_reaction(rxn = rxn))\n",
    "lst[-10:]"
   ]
  },
  {
   "cell_type": "code",
   "execution_count": 6,
   "metadata": {},
   "outputs": [
    {
     "data": {
      "text/plain": [
       "[['|NICONUCADENYLYLTRAN-MONOMER|'],\n",
       " ['|PYRUVOXID-CPLX|'],\n",
       " [],\n",
       " [],\n",
       " [],\n",
       " ['|CPLX0-238|'],\n",
       " ['|G7213-MONOMER|', '|FADA-CPLX|'],\n",
       " [],\n",
       " ['|CPLX0-3661|'],\n",
       " []]"
      ]
     },
     "execution_count": 6,
     "metadata": {},
     "output_type": "execute_result"
    }
   ],
   "source": [
    "\"\"\"\n",
    "rxn\n",
    "An instance of the class |Reactions|. \n",
    "species\n",
    "Keyword, Optional A list of species, such that in a multi-organism PGDB such as \n",
    "MetaCyc, only proteins found in those organisms will be returned. This list can \n",
    "include valid org‑ids, children of class |Organisms|, and strings. Please see \n",
    "the documentation for the 'species slot‑unit for more information. Default value \n",
    "is nil. \n",
    "experimental-only?\n",
    "Keyword, Optional When true, only return enzymes that have a non-computational \n",
    "evidence code associated with it. \n",
    "local-only-p\n",
    "Keyword, Optional When true, only return enzymes that catalyze the specific form \n",
    "of the reaction, as opposed to enzymes that are known to catalyze a more general \n",
    "form (i.e., class) of the reaction. \n",
    "\"\"\"\n",
    "\n",
    "lst = []\n",
    "for rxn in ecoli.all_rxns(type_of_reactions = ':all'):\n",
    "    lst.append(ecoli.enzymes_of_reaction(rxn = rxn, species = u'|ECOLI|', \n",
    "                                         experimental_only = False, local_only_p = False))\n",
    "lst[-10:]"
   ]
  },
  {
   "cell_type": "code",
   "execution_count": 7,
   "metadata": {},
   "outputs": [
    {
     "data": {
      "text/plain": [
       "[[['|PROTON|', '|ATP|', '|NICOTINATE_NUCLEOTIDE|'],\n",
       "  ['|PPI|', '|DEAMIDO-NAD|']],\n",
       " [['|PROTON|', '|PYRUVATE|', '|ACETALD|'], ['|ACETOIN|', '|CARBON-DIOXIDE|']],\n",
       " [['|MONOMER0-4152|', '|Protein-Red-Disulfides|'],\n",
       "  ['|MONOMER0-4438|', '|Protein-Ox-Disulfides|']],\n",
       " [['|AMINO-OXOBUT|', '|PROTON|'], ['|AMINO-ACETONE|', '|CARBON-DIOXIDE|']],\n",
       " [['|Cytochromes-B-Reduced|', '|Cytochromes-B|'],\n",
       "  ['|Cytochromes-B|', '|Reduced-Cytochromes-o|']],\n",
       " [['|L-ASPARTATE|', '|L-CITRULLINE|', '|ATP|'],\n",
       "  ['|PROTON|', '|L-ARGININO-SUCCINATE|', '|PPI|', '|AMP|']],\n",
       " [['|CPD-15244|', '|CO-A|'], ['|CPD-7221|', '|ACETYL-COA|']],\n",
       " None,\n",
       " [['|PROTON|', '|D-BETA-D-HEPTOSE-1-P|', '|ATP|'],\n",
       "  ['|ADP-D-GLYCERO-D-MANNO-HEPTOSE|', '|PPI|']],\n",
       " None]"
      ]
     },
     "execution_count": 7,
     "metadata": {},
     "output_type": "execute_result"
    }
   ],
   "source": [
    "\"\"\"\n",
    "rxn\n",
    "An instance of the class |Reactions|. \n",
    "direction\n",
    "Keyword, Optional Can take on the following values:\n",
    "\n",
    ":L2R\n",
    "The reaction direction goes from ‘left to right’, as described in the \n",
    "|Reactions| instance. \n",
    ":R2L\n",
    "The reaction direction goes from ‘right to left’; the opposite of what is \n",
    "described in the |Reactions| instance. \n",
    "\n",
    "pwy\n",
    "Keyword, Optional An instance of the class |Pathways|. \n",
    "\"\"\"\n",
    "\n",
    "lst = []\n",
    "for rxn in ecoli.all_rxns(type_of_reactions = ':all'):\n",
    "    lst.append(ecoli.reaction_reactants_and_products(rxn = rxn))\n",
    "lst[-10:]"
   ]
  },
  {
   "cell_type": "code",
   "execution_count": 8,
   "metadata": {},
   "outputs": [
    {
     "data": {
      "text/plain": [
       "['|SMALL-MOLECULE|',\n",
       " '|SMALL-MOLECULE|',\n",
       " '|PROTEIN-REACTION|',\n",
       " '|SMALL-MOLECULE|',\n",
       " '|PROTEIN-REACTION|',\n",
       " '|SMALL-MOLECULE|',\n",
       " '|SMALL-MOLECULE|',\n",
       " '|PROTEIN-REACTION|',\n",
       " '|SMALL-MOLECULE|',\n",
       " '|PROTEIN-REACTION|']"
      ]
     },
     "execution_count": 8,
     "metadata": {},
     "output_type": "execute_result"
    }
   ],
   "source": [
    "lst = []\n",
    "for rxn in ecoli.all_rxns(type_of_reactions = ':all'):\n",
    "    lst.append(ecoli.reaction_type(rxn = rxn))\n",
    "lst[-10:]"
   ]
  },
  {
   "cell_type": "code",
   "execution_count": 9,
   "metadata": {},
   "outputs": [
    {
     "ename": "PToolsError",
     "evalue": "An internal error occurred in the running Pathway Tools application: :error, The function 'REACTION-WITHOUT-SEQUENCED-ENZYME-P' is not allowed to be called in restricted mode.",
     "output_type": "error",
     "traceback": [
      "\u001b[0;31m---------------------------------------------------------------------------\u001b[0m",
      "\u001b[0;31mPToolsError\u001b[0m                               Traceback (most recent call last)",
      "\u001b[0;32m<ipython-input-9-553a77d443b7>\u001b[0m in \u001b[0;36m<module>\u001b[0;34m\u001b[0m\n\u001b[1;32m     10\u001b[0m \u001b[0mlst\u001b[0m \u001b[0;34m=\u001b[0m \u001b[0;34m[\u001b[0m\u001b[0;34m]\u001b[0m\u001b[0;34m\u001b[0m\u001b[0;34m\u001b[0m\u001b[0m\n\u001b[1;32m     11\u001b[0m \u001b[0;32mfor\u001b[0m \u001b[0mrxn\u001b[0m \u001b[0;32min\u001b[0m \u001b[0mecoli\u001b[0m\u001b[0;34m.\u001b[0m\u001b[0mall_rxns\u001b[0m\u001b[0;34m(\u001b[0m\u001b[0mtype_of_reactions\u001b[0m \u001b[0;34m=\u001b[0m \u001b[0;34m':all'\u001b[0m\u001b[0;34m)\u001b[0m\u001b[0;34m:\u001b[0m\u001b[0;34m\u001b[0m\u001b[0;34m\u001b[0m\u001b[0m\n\u001b[0;32m---> 12\u001b[0;31m     \u001b[0mlst\u001b[0m\u001b[0;34m.\u001b[0m\u001b[0mappend\u001b[0m\u001b[0;34m(\u001b[0m\u001b[0mecoli\u001b[0m\u001b[0;34m.\u001b[0m\u001b[0mrxn_without_sequenced_enzyme_p\u001b[0m\u001b[0;34m(\u001b[0m\u001b[0mrxn\u001b[0m \u001b[0;34m=\u001b[0m \u001b[0mrxn\u001b[0m\u001b[0;34m)\u001b[0m\u001b[0;34m)\u001b[0m\u001b[0;34m\u001b[0m\u001b[0;34m\u001b[0m\u001b[0m\n\u001b[0m\u001b[1;32m     13\u001b[0m \u001b[0mlst\u001b[0m\u001b[0;34m[\u001b[0m\u001b[0;34m-\u001b[0m\u001b[0;36m10\u001b[0m\u001b[0;34m:\u001b[0m\u001b[0;34m]\u001b[0m\u001b[0;34m\u001b[0m\u001b[0;34m\u001b[0m\u001b[0m\n\u001b[1;32m     14\u001b[0m \u001b[0;34m\u001b[0m\u001b[0m\n",
      "\u001b[0;32m/shared/D1/opt/repositories/git-reps/PythonCyc.networkbiolab/pythoncyc/PGDB.py\u001b[0m in \u001b[0;36mrxn_without_sequenced_enzyme_p\u001b[0;34m(self, rxn)\u001b[0m\n\u001b[1;32m   1111\u001b[0m                         \u001b[0mA\u001b[0m \u001b[0mboolean\u001b[0m \u001b[0mvalue\u001b[0m\u001b[0;34m.\u001b[0m\u001b[0;34m\u001b[0m\u001b[0;34m\u001b[0m\u001b[0m\n\u001b[1;32m   1112\u001b[0m \t\t\"\"\"\n\u001b[0;32m-> 1113\u001b[0;31m                 \u001b[0;32mreturn\u001b[0m \u001b[0mself\u001b[0m\u001b[0;34m.\u001b[0m\u001b[0msendPgdbFnCallBool\u001b[0m\u001b[0;34m(\u001b[0m\u001b[0;34m'reaction-without-sequenced-enzyme-p'\u001b[0m\u001b[0;34m,\u001b[0m \u001b[0mmay_be_frameid\u001b[0m\u001b[0;34m(\u001b[0m\u001b[0mrxn\u001b[0m\u001b[0;34m)\u001b[0m\u001b[0;34m)\u001b[0m\u001b[0;34m\u001b[0m\u001b[0;34m\u001b[0m\u001b[0m\n\u001b[0m\u001b[1;32m   1114\u001b[0m \u001b[0;34m\u001b[0m\u001b[0m\n\u001b[1;32m   1115\u001b[0m         \u001b[0;32mdef\u001b[0m \u001b[0mpathway_hole_p\u001b[0m\u001b[0;34m(\u001b[0m\u001b[0mself\u001b[0m\u001b[0;34m,\u001b[0m \u001b[0mrxn\u001b[0m\u001b[0;34m)\u001b[0m\u001b[0;34m:\u001b[0m\u001b[0;34m\u001b[0m\u001b[0;34m\u001b[0m\u001b[0m\n",
      "\u001b[0;32m/shared/D1/opt/repositories/git-reps/PythonCyc.networkbiolab/pythoncyc/PGDB.py\u001b[0m in \u001b[0;36msendPgdbFnCallBool\u001b[0;34m(self, fn, *args, **kwargs)\u001b[0m\n\u001b[1;32m    377\u001b[0m                 \u001b[0mThis\u001b[0m \u001b[0mmethod\u001b[0m \u001b[0mtakes\u001b[0m \u001b[0mcare\u001b[0m \u001b[0mof\u001b[0m \u001b[0mtranslating\u001b[0m \u001b[0mno\u001b[0m \u001b[0mvalue\u001b[0m \u001b[0;32mor\u001b[0m \u001b[0man\u001b[0m \u001b[0mempty\u001b[0m \u001b[0mlist\u001b[0m \u001b[0mto\u001b[0m \u001b[0;32mFalse\u001b[0m\u001b[0;34m.\u001b[0m\u001b[0;34m\u001b[0m\u001b[0;34m\u001b[0m\u001b[0m\n\u001b[1;32m    378\u001b[0m \t\t\"\"\"\n\u001b[0;32m--> 379\u001b[0;31m                 \u001b[0mresult\u001b[0m \u001b[0;34m=\u001b[0m \u001b[0mself\u001b[0m\u001b[0;34m.\u001b[0m\u001b[0msendPgdbFnCall\u001b[0m\u001b[0;34m(\u001b[0m\u001b[0mfn\u001b[0m\u001b[0;34m,\u001b[0m \u001b[0;34m*\u001b[0m\u001b[0margs\u001b[0m\u001b[0;34m,\u001b[0m \u001b[0;34m**\u001b[0m\u001b[0mkwargs\u001b[0m\u001b[0;34m)\u001b[0m\u001b[0;34m\u001b[0m\u001b[0;34m\u001b[0m\u001b[0m\n\u001b[0m\u001b[1;32m    380\u001b[0m                 \u001b[0;32mif\u001b[0m \u001b[0mresult\u001b[0m \u001b[0;34m==\u001b[0m \u001b[0;32mNone\u001b[0m \u001b[0;32mor\u001b[0m \u001b[0mresult\u001b[0m \u001b[0;34m==\u001b[0m \u001b[0;34m[\u001b[0m\u001b[0;34m]\u001b[0m\u001b[0;34m:\u001b[0m\u001b[0;34m\u001b[0m\u001b[0;34m\u001b[0m\u001b[0m\n\u001b[1;32m    381\u001b[0m                         \u001b[0;32mreturn\u001b[0m \u001b[0;32mFalse\u001b[0m\u001b[0;34m\u001b[0m\u001b[0;34m\u001b[0m\u001b[0m\n",
      "\u001b[0;32m/shared/D1/opt/repositories/git-reps/PythonCyc.networkbiolab/pythoncyc/PGDB.py\u001b[0m in \u001b[0;36msendPgdbFnCall\u001b[0;34m(self, fn, *args, **kwargs)\u001b[0m\n\u001b[1;32m    370\u001b[0m                         \u001b[0mprint\u001b[0m\u001b[0;34m(\u001b[0m\u001b[0mfn\u001b[0m\u001b[0;34m)\u001b[0m\u001b[0;34m\u001b[0m\u001b[0;34m\u001b[0m\u001b[0m\n\u001b[1;32m    371\u001b[0m                 \u001b[0mfnCall\u001b[0m \u001b[0;34m=\u001b[0m \u001b[0mprepareFnCall\u001b[0m\u001b[0;34m(\u001b[0m\u001b[0mfn\u001b[0m\u001b[0;34m,\u001b[0m \u001b[0;34m*\u001b[0m\u001b[0margs\u001b[0m\u001b[0;34m,\u001b[0m \u001b[0;34m**\u001b[0m\u001b[0mkwargs\u001b[0m\u001b[0;34m)\u001b[0m\u001b[0;34m\u001b[0m\u001b[0;34m\u001b[0m\u001b[0m\n\u001b[0;32m--> 372\u001b[0;31m                 \u001b[0;32mreturn\u001b[0m \u001b[0mself\u001b[0m\u001b[0;34m.\u001b[0m\u001b[0msendPgdbQuery\u001b[0m\u001b[0;34m(\u001b[0m\u001b[0mfnCall\u001b[0m\u001b[0;34m)\u001b[0m\u001b[0;34m\u001b[0m\u001b[0;34m\u001b[0m\u001b[0m\n\u001b[0m\u001b[1;32m    373\u001b[0m \u001b[0;34m\u001b[0m\u001b[0m\n\u001b[1;32m    374\u001b[0m         \u001b[0;32mdef\u001b[0m \u001b[0msendPgdbFnCallBool\u001b[0m\u001b[0;34m(\u001b[0m\u001b[0mself\u001b[0m\u001b[0;34m,\u001b[0m \u001b[0mfn\u001b[0m\u001b[0;34m,\u001b[0m \u001b[0;34m*\u001b[0m\u001b[0margs\u001b[0m\u001b[0;34m,\u001b[0m \u001b[0;34m**\u001b[0m\u001b[0mkwargs\u001b[0m\u001b[0;34m)\u001b[0m\u001b[0;34m:\u001b[0m\u001b[0;34m\u001b[0m\u001b[0;34m\u001b[0m\u001b[0m\n",
      "\u001b[0;32m/shared/D1/opt/repositories/git-reps/PythonCyc.networkbiolab/pythoncyc/PGDB.py\u001b[0m in \u001b[0;36msendPgdbQuery\u001b[0;34m(self, query)\u001b[0m\n\u001b[1;32m    359\u001b[0m                         \u001b[0;32mif\u001b[0m \u001b[0mpythoncyc\u001b[0m\u001b[0;34m.\u001b[0m\u001b[0mconfig\u001b[0m\u001b[0;34m.\u001b[0m\u001b[0m_debug\u001b[0m\u001b[0;34m:\u001b[0m\u001b[0;34m\u001b[0m\u001b[0;34m\u001b[0m\u001b[0m\n\u001b[1;32m    360\u001b[0m                                 \u001b[0mprint\u001b[0m\u001b[0;34m(\u001b[0m\u001b[0mlisp_query\u001b[0m\u001b[0;34m)\u001b[0m\u001b[0;34m\u001b[0m\u001b[0;34m\u001b[0m\u001b[0m\n\u001b[0;32m--> 361\u001b[0;31m                         \u001b[0;32mreturn\u001b[0m \u001b[0mPTools\u001b[0m\u001b[0;34m.\u001b[0m\u001b[0msendQueryToPTools\u001b[0m\u001b[0;34m(\u001b[0m\u001b[0mlisp_query\u001b[0m\u001b[0;34m)\u001b[0m\u001b[0;34m\u001b[0m\u001b[0;34m\u001b[0m\u001b[0m\n\u001b[0m\u001b[1;32m    362\u001b[0m \u001b[0;34m\u001b[0m\u001b[0m\n\u001b[1;32m    363\u001b[0m         \u001b[0;32mdef\u001b[0m \u001b[0msendPgdbFnCall\u001b[0m\u001b[0;34m(\u001b[0m\u001b[0mself\u001b[0m\u001b[0;34m,\u001b[0m \u001b[0mfn\u001b[0m\u001b[0;34m,\u001b[0m \u001b[0;34m*\u001b[0m\u001b[0margs\u001b[0m\u001b[0;34m,\u001b[0m \u001b[0;34m**\u001b[0m\u001b[0mkwargs\u001b[0m\u001b[0;34m)\u001b[0m\u001b[0;34m:\u001b[0m\u001b[0;34m\u001b[0m\u001b[0;34m\u001b[0m\u001b[0m\n",
      "\u001b[0;32m/shared/D1/opt/repositories/git-reps/PythonCyc.networkbiolab/pythoncyc/PTools.py\u001b[0m in \u001b[0;36msendQueryToPTools\u001b[0;34m(query)\u001b[0m\n\u001b[1;32m    195\u001b[0m \u001b[0;34m\u001b[0m\u001b[0m\n\u001b[1;32m    196\u001b[0m         \u001b[0;32mif\u001b[0m \u001b[0misinstance\u001b[0m\u001b[0;34m(\u001b[0m\u001b[0mmsg\u001b[0m\u001b[0;34m,\u001b[0m \u001b[0mstr\u001b[0m\u001b[0;34m)\u001b[0m \u001b[0;32mand\u001b[0m \u001b[0mmsg\u001b[0m\u001b[0;34m.\u001b[0m\u001b[0mstartswith\u001b[0m\u001b[0;34m(\u001b[0m\u001b[0;34m':error'\u001b[0m\u001b[0;34m)\u001b[0m\u001b[0;34m:\u001b[0m\u001b[0;34m\u001b[0m\u001b[0;34m\u001b[0m\u001b[0m\n\u001b[0;32m--> 197\u001b[0;31m                 \u001b[0;32mraise\u001b[0m \u001b[0mPToolsError\u001b[0m\u001b[0;34m(\u001b[0m\u001b[0;34m'An internal error occurred in the running Pathway Tools application: {:s}'\u001b[0m\u001b[0;34m.\u001b[0m\u001b[0mformat\u001b[0m\u001b[0;34m(\u001b[0m\u001b[0mmsg\u001b[0m\u001b[0;34m)\u001b[0m\u001b[0;34m)\u001b[0m\u001b[0;34m\u001b[0m\u001b[0;34m\u001b[0m\u001b[0m\n\u001b[0m\u001b[1;32m    198\u001b[0m         \u001b[0;32melse\u001b[0m\u001b[0;34m:\u001b[0m\u001b[0;34m\u001b[0m\u001b[0;34m\u001b[0m\u001b[0m\n\u001b[1;32m    199\u001b[0m                 \u001b[0;31m# Return some result.\u001b[0m\u001b[0;34m\u001b[0m\u001b[0;34m\u001b[0m\u001b[0;34m\u001b[0m\u001b[0m\n",
      "\u001b[0;31mPToolsError\u001b[0m: An internal error occurred in the running Pathway Tools application: :error, The function 'REACTION-WITHOUT-SEQUENCED-ENZYME-P' is not allowed to be called in restricted mode."
     ]
    }
   ],
   "source": [
    "\"\"\"\n",
    "rxn\n",
    "An instance of the class |Reactions|. \n",
    "complete?\n",
    "Optional If true, the predicate will return true when there is any associated \n",
    "gene without a sequence. If nil, the predicate will return true when all \n",
    "associated genes are without a sequence. \n",
    "\"\"\"\n",
    "\n",
    "lst = []\n",
    "for rxn in ecoli.all_rxns(type_of_reactions = ':all'):\n",
    "    lst.append(ecoli.rxn_without_sequenced_enzyme_p(rxn = rxn))\n",
    "lst[-10:]\n",
    "\n",
    "# this raise an error because the lisp function is REACTION-WITHOUT-SEQUENCED-ENZYME-P, \n",
    "# which only argument is a rxn"
   ]
  },
  {
   "cell_type": "code",
   "execution_count": null,
   "metadata": {},
   "outputs": [],
   "source": [
    "\"\"\"\n",
    "rxn\n",
    "An instance of the class |Reactions|. \n",
    "hole-if-any-gene-without-position?\n",
    "Keyword, Optional If true, then genes without specified coordinates for the \n",
    "current organism’s genome are not counted when determining the status of the \n",
    "reaction.\n",
    "\"\"\"\n",
    "\n",
    "lst = []\n",
    "for rxn in ecoli.all_rxns(type_of_reactions = ':all'):\n",
    "    lst.append(ecoli.pathway_hole_p(rxn = rxn))\n",
    "lst[-10:]"
   ]
  },
  {
   "cell_type": "code",
   "execution_count": null,
   "metadata": {},
   "outputs": [],
   "source": [
    "lst = []\n",
    "for rxn in ecoli.all_rxns(type_of_reactions = ':all'):\n",
    "    lst.append(ecoli.rxn_present_p(rxn = rxn))\n",
    "lst[-10:]\n",
    "\n",
    "# this raise an error because the lisp function is RXN-PRESENT?"
   ]
  },
  {
   "cell_type": "code",
   "execution_count": null,
   "metadata": {},
   "outputs": [],
   "source": [
    "\"\"\"\n",
    "specific-rxn\n",
    "A child of the class |Reactions|. \n",
    "generic-rxn\n",
    "A child of the class |Reactions|. \n",
    "\"\"\"\n",
    "\n",
    "lst = []\n",
    "for rxn in ecoli.all_rxns(type_of_reactions = ':all'):\n",
    "    lst.append(ecoli.rxn_specific_form_of_rxn_p(specific_rxn = rxn, generic_rxn = u'|RXN0-3741|'))\n",
    "lst[-10:]"
   ]
  },
  {
   "cell_type": "code",
   "execution_count": null,
   "metadata": {},
   "outputs": [],
   "source": [
    "lst = []\n",
    "for rxn in ecoli.all_rxns(type_of_reactions = ':all'):\n",
    "    lst.append(ecoli.nonspecific_forms_of_rxn(rxn = rxn))\n",
    "lst[-10:]"
   ]
  },
  {
   "cell_type": "code",
   "execution_count": null,
   "metadata": {},
   "outputs": [],
   "source": [
    "lst = []\n",
    "for rxn in ecoli.all_rxns(type_of_reactions = ':all'):\n",
    "    lst.append(ecoli.specific_forms_of_rxn(rxn = rxn))\n",
    "lst[-10:]"
   ]
  },
  {
   "cell_type": "code",
   "execution_count": null,
   "metadata": {},
   "outputs": [],
   "source": [
    "\"\"\"\n",
    "rxn\n",
    "An instance of the class |Reactions|. \n",
    "compartments\n",
    "A list of cellular compartments, as defined in the Cellular Components Ontology. \n",
    "See frame 'CCO. \n",
    "default-ok?\n",
    "Keyword, Optional If true, then we return true if the reaction has no associated \n",
    "compartment information, or one of its associated locations is a super-class of \n",
    "one of the members of the compartments argument. \n",
    "pwy\n",
    "Keyword, Optional If supplied, the search for associated enzymes of the argument \n",
    "rxn is limited to the given child of |Pathways|. \n",
    "loose?\n",
    "Keyword, Optional If true, then the compartments 'CCO‑CYTOPLASM and 'CCO‑CYTOSOL \n",
    "are treated as being the same compartment.\n",
    "\"\"\"\n",
    "\n",
    "lst = []\n",
    "for rxn in ecoli.all_rxns(type_of_reactions = ':all'):\n",
    "    lst.append(ecoli.rxn_in_compartment_p(rxn = rxn, compartments = [u'|CCO_CYTOSOL|']))\n",
    "lst[-10:]"
   ]
  },
  {
   "cell_type": "code",
   "execution_count": null,
   "metadata": {},
   "outputs": [],
   "source": [
    "\"\"\"\n",
    "rxn\n",
    "An instance of the class |Reactions|. \n",
    "default\n",
    "Optional The default compartment for reactions without any compartment \n",
    "annotations on their substrates. The default value is 'CCO‑CYTOSOL. \n",
    "\"\"\"\n",
    "\n",
    "lst = []\n",
    "for rxn in ecoli.all_rxns(type_of_reactions = ':all'):\n",
    "    lst.append(ecoli.compartment_of_rxn(rxn = rxn))\n",
    "lst[-10:]\n",
    "\n",
    "# this raise an error because the lisp function is missing (?)"
   ]
  },
  {
   "cell_type": "code",
   "execution_count": null,
   "metadata": {},
   "outputs": [],
   "source": [
    "\"\"\"\n",
    "rxn\n",
    "An instance of the class |Reactions|. \n",
    "sides\n",
    "Keyword, Optional The slots of the reaction to consider. The default value is \n",
    "'(LEFT RIGHT). \n",
    "default-compartment\n",
    "The default compartment, as determined by the function (default‑compartment), \n",
    "which currently is set to 'CCO‑CYTOSOL.\n",
    "\"\"\"\n",
    "\n",
    "lst = []\n",
    "for rxn in ecoli.all_rxns(type_of_reactions = ':all'):\n",
    "    lst.append(ecoli.compartments_of_reaction(rxn = rxn))\n",
    "lst[-10:]"
   ]
  },
  {
   "cell_type": "code",
   "execution_count": null,
   "metadata": {},
   "outputs": [],
   "source": [
    "\"\"\"\n",
    "rxn\n",
    "An instance of the class |Reactions|. \n",
    "side\n",
    "Keyword, Optional The side of the reaction from which to return the transported \n",
    "compound. \n",
    "primary-only?\n",
    "Keyword, Optional If true, then filter out common exchangers (currently defined \n",
    "as '(PROTON NA CPD-1)+). If true, and the only transported compounds are in this \n",
    "list, then the filter doesn’t apply. \n",
    "from-compartment\n",
    "Keyword, Optional A compartment (child of class 'CCO). If specified, then only \n",
    "return compounds transported from that compartment. \n",
    "to-compartment\n",
    "Keyword, Optional A compartment (child of class 'CCO). If specified, then only \n",
    "return compounds transported to that compartment. \n",
    "show-compartment\n",
    "Keyword, Optional A compartment (child of class 'CCO). If specified, and the \n",
    "compound is modified during transport, then only return the form of the compound \n",
    "as found in this compartment. \n",
    "\"\"\"\n",
    "\n",
    "lst = []\n",
    "for rxn in ecoli.all_rxns(type_of_reactions = ':transport'):\n",
    "    lst.append(ecoli.transported_chemicals(rxn = rxn))\n",
    "lst[-10:]"
   ]
  },
  {
   "cell_type": "code",
   "execution_count": null,
   "metadata": {},
   "outputs": [],
   "source": [
    "\"\"\"\n",
    "rxn\n",
    "An instance of the class |Reactions|. \n",
    "pwy\n",
    "A child of the class |Pathways|. \n",
    "\"\"\"\n",
    "\n",
    "lst = []\n",
    "for rxn in ecoli.all_rxns(type_of_reactions = ':all'):\n",
    "    lst.append(ecoli.get_predecessors(rxn = rxn, pwy = u'PWY0-1347'))\n",
    "lst[-10:]"
   ]
  },
  {
   "cell_type": "code",
   "execution_count": null,
   "metadata": {},
   "outputs": [],
   "source": [
    "\"\"\"\n",
    "rxn\n",
    "An instance of the class |Reactions|. \n",
    "pwy\n",
    "A child of the class |Pathways|. \n",
    "\"\"\"\n",
    "\n",
    "lst = []\n",
    "for rxn in ecoli.all_rxns(type_of_reactions = ':all'):\n",
    "    lst.append(ecoli.get_successors(rxn = rxn, pwy = u'PWY0-1347'))\n",
    "lst[-10:]"
   ]
  },
  {
   "cell_type": "code",
   "execution_count": null,
   "metadata": {},
   "outputs": [],
   "source": [
    "lst = []\n",
    "for rxn in ecoli.all_rxns(type_of_reactions = ':all'):\n",
    "    lst.append(ecoli.rxn_w_isozymes_p(rxn = rxn))\n",
    "lst[-10:]"
   ]
  },
  {
   "cell_type": "code",
   "execution_count": null,
   "metadata": {},
   "outputs": [],
   "source": []
  }
 ],
 "metadata": {
  "kernelspec": {
   "display_name": "Python 3",
   "language": "python",
   "name": "python3"
  },
  "language_info": {
   "codemirror_mode": {
    "name": "ipython",
    "version": 3
   },
   "file_extension": ".py",
   "mimetype": "text/x-python",
   "name": "python",
   "nbconvert_exporter": "python",
   "pygments_lexer": "ipython3",
   "version": "3.6.9"
  }
 },
 "nbformat": 4,
 "nbformat_minor": 2
}
