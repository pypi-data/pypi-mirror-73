{
 "cells": [
  {
   "cell_type": "code",
   "execution_count": 1,
   "metadata": {},
   "outputs": [
    {
     "data": {
      "text/plain": [
       "0"
      ]
     },
     "execution_count": 1,
     "metadata": {},
     "output_type": "execute_result"
    }
   ],
   "source": [
    "# to run the script, you need to start pathway tools form the command line \n",
    "# using the -lisp -python options. Example (from the pathway tools github repository)\n",
    "\n",
    "import os\n",
    "# os.system('nohup /opt/pathway-tools/pathway-tools -lisp -python &')\n",
    "os.system('nohup pathway-tools -lisp -python-local-only &') # added cybersecurity"
   ]
  },
  {
   "cell_type": "code",
   "execution_count": 2,
   "metadata": {},
   "outputs": [],
   "source": [
    "# modify sys.path to recognize local pythoncyc\n",
    "import sys\n",
    "\n",
    "module_path = os.path.abspath(os.path.join('../'))\n",
    "sys.path = [module_path]\n",
    "\n",
    "# sys.path"
   ]
  },
  {
   "cell_type": "code",
   "execution_count": 3,
   "metadata": {},
   "outputs": [
    {
     "name": "stdout",
     "output_type": "stream",
     "text": [
      "['|META|', '|ECOLI|']\n"
     ]
    }
   ],
   "source": [
    "import pythoncyc\n",
    "all_orgids = pythoncyc.all_orgids()\n",
    "print(all_orgids)\n",
    "\n",
    "meta = pythoncyc.select_organism(u'|META|')\n",
    "ecoli = pythoncyc.select_organism(u'|ECOLI|')"
   ]
  },
  {
   "cell_type": "code",
   "execution_count": 4,
   "metadata": {},
   "outputs": [
    {
     "data": {
      "text/plain": [
       "['|EG12082|',\n",
       " '|EG12088|',\n",
       " '|EG12090|',\n",
       " '|EG12091|',\n",
       " '|EG12092|',\n",
       " '|EG11773|',\n",
       " '|EG12093|',\n",
       " '|EG12089|',\n",
       " '|EG12087|',\n",
       " '|EG11774|',\n",
       " '|EG12086|',\n",
       " '|EG12084|',\n",
       " '|EG12083|',\n",
       " '|EG10330|',\n",
       " '|EG10331|',\n",
       " '|EG10332|',\n",
       " '|EG10333|']"
      ]
     },
     "execution_count": 4,
     "metadata": {},
     "output_type": "execute_result"
    }
   ],
   "source": [
    "\"\"\"\n",
    "pwy\n",
    "An instance of the class |Pathways|. \n",
    "sorted?\n",
    "Keyword, Optional If true, the genes are sorted in the order in which the \n",
    "corresponding reaction occurrs in the sequence of the pathway. \n",
    "\"\"\"\n",
    "\n",
    "lst = []\n",
    "for pwy in ecoli.all_pathways(selector = 'all', base = True):\n",
    "    lst.append(ecoli.genes_of_pathway(pwy = pwy, sorted = True))\n",
    "lst[-1]"
   ]
  },
  {
   "cell_type": "code",
   "execution_count": 5,
   "metadata": {},
   "outputs": [
    {
     "data": {
      "text/plain": [
       "['|NADH-DHI-CPLX|', '|FUMARATE-REDUCTASE|']"
      ]
     },
     "execution_count": 5,
     "metadata": {},
     "output_type": "execute_result"
    }
   ],
   "source": [
    "\"\"\"\n",
    "pwy\n",
    "An instance of the class |Pathways|. \n",
    "species\n",
    "Keyword, Optional A list of species, such that in a multi-organism PGDB such as \n",
    "MetaCyc, only proteins found in those organisms will be returned. This list can \n",
    "include valid org‑ids, children of class |Organisms|, and strings. Please see \n",
    "the documentation for the 'species slot‑unit for more information. \n",
    "experimental-only?\n",
    "Keyword, Optional When true, only return enzymes that have a non-computational \n",
    "evidence code associated with it. \n",
    "sorted?\n",
    "Keyword, Optional If true, the enzymes are sorted in the order in which the \n",
    "corresponding reaction occurrs in the sequence of the pathway. \n",
    "\"\"\"\n",
    "\n",
    "lst = []\n",
    "for pwy in ecoli.all_pathways(selector = ':all', base = True):\n",
    "    lst.append(ecoli.enzymes_of_pathway(pwy = pwy, sorted = True, experimental_only = True))\n",
    "lst[-1]"
   ]
  },
  {
   "cell_type": "code",
   "execution_count": 6,
   "metadata": {},
   "outputs": [
    {
     "data": {
      "text/plain": [
       "['|FUM|',\n",
       " '|SUC|',\n",
       " '|Menaquinones|',\n",
       " '|Menaquinols|',\n",
       " '|E-|',\n",
       " '|PROTON|',\n",
       " '|NAD|',\n",
       " '|NADH|']"
      ]
     },
     "execution_count": 6,
     "metadata": {},
     "output_type": "execute_result"
    }
   ],
   "source": [
    "lst = []\n",
    "for pwy in ecoli.all_pathways(selector = ':all', base = True):\n",
    "    lst.append(ecoli.compounds_of_pathway(pwy = pwy))\n",
    "lst[-1]"
   ]
  },
  {
   "cell_type": "code",
   "execution_count": 7,
   "metadata": {},
   "outputs": [
    {
     "data": {
      "text/plain": [
       "[['|NADH|',\n",
       "  '|Menaquinones|',\n",
       "  '|Menaquinols|',\n",
       "  '|PROTON|',\n",
       "  '|TRIMETHYLAMINE-N-O|'],\n",
       " ['|TRIMETHYLAMINE-N-O|', '|NADH|'],\n",
       " ['|NAD|',\n",
       "  '|Menaquinols|',\n",
       "  '|PROTON|',\n",
       "  '|TRIMETHYLAMINE|',\n",
       "  '|WATER|',\n",
       "  '|Menaquinones|'],\n",
       " ['|WATER|', '|TRIMETHYLAMINE|', '|NAD|']]"
      ]
     },
     "execution_count": 7,
     "metadata": {},
     "output_type": "execute_result"
    }
   ],
   "source": [
    "lst = []\n",
    "for pwy in ecoli.all_pathways(selector = ':all', base = True):\n",
    "    lst.append(ecoli.substrates_of_pathway(pwy = pwy))\n",
    "lst[0]"
   ]
  },
  {
   "cell_type": "code",
   "execution_count": 8,
   "metadata": {},
   "outputs": [
    {
     "data": {
      "text/plain": [
       "[[],\n",
       " ['|PWY-7195|', '|PWY-6556|'],\n",
       " ['|PWY0-1597|'],\n",
       " ['|RIBOSYN2-PWY|'],\n",
       " ['|PWY0-1295|', '|PWY-6556|'],\n",
       " [],\n",
       " ['|PWY0-1584|', '|PWY0-1581|', '|PWY0-1573|', '|PWY0-1352|'],\n",
       " [],\n",
       " [],\n",
       " []]"
      ]
     },
     "execution_count": 8,
     "metadata": {},
     "output_type": "execute_result"
    }
   ],
   "source": [
    "lst = []\n",
    "for pwy in ecoli.all_pathways(selector = ':all', base = True):\n",
    "    lst.append(ecoli.variants_of_pathway(pwy = pwy))\n",
    "lst[-10:]"
   ]
  },
  {
   "cell_type": "code",
   "execution_count": 9,
   "metadata": {},
   "outputs": [
    {
     "data": {
      "text/plain": [
       "[[['|RXN0-5264|', '|RXN0-5388|']], 1, 2, 2]"
      ]
     },
     "execution_count": 9,
     "metadata": {},
     "output_type": "execute_result"
    }
   ],
   "source": [
    "\"\"\"\n",
    "pwy\n",
    "An instance of the class |Pathways|, which is not a super-pathway (i.e., does \n",
    "not have any entries in its 'sub‑pathways slot). \n",
    "rxn-list\n",
    "Optional The list of reactions to use as the starting list of connected \n",
    "component clusters. Defaults to (get‑slot‑values pwy 'reaction‑list).\n",
    "\n",
    "pred-list\n",
    "Optional The list of reaction predecessors to iterate from in order to cluster \n",
    "the reactions in rxn‑list. Defaults to (get‑slot‑values pwy 'predecessors).\n",
    "\"\"\"\n",
    "\n",
    "lst = []\n",
    "for pwy in ecoli.all_pathways(selector = ':all', base = True):\n",
    "    lst.append(ecoli.pathway_components(pwy = pwy))\n",
    "lst[0]"
   ]
  },
  {
   "cell_type": "code",
   "execution_count": 10,
   "metadata": {},
   "outputs": [
    {
     "data": {
      "text/plain": [
       "[False, False, False, False, False, True, False, True, False, False]"
      ]
     },
     "execution_count": 10,
     "metadata": {},
     "output_type": "execute_result"
    }
   ],
   "source": [
    "lst = []\n",
    "for pwy in ecoli.all_pathways(selector = ':all', base = True):\n",
    "    lst.append(ecoli.noncontiguous_pathway_p(pwy = pwy))\n",
    "lst[-10:]"
   ]
  },
  {
   "cell_type": "code",
   "execution_count": 11,
   "metadata": {},
   "outputs": [
    {
     "data": {
      "text/plain": [
       "[['|DMKCYT-RXN|', '|RXN-15348|', False],\n",
       " ['|DMKCYT-RXN|', '|LACTALDREDUCT-RXN|', False],\n",
       " ['|DMKCYT-RXN|', '|PFLDEACTIV-RXN|', False],\n",
       " ['|DMKCYT-RXN|', '|OHMETPYRKIN-RXN|', False],\n",
       " ['|DMKCYT-RXN|', '|RXN0-7094|', False],\n",
       " ['|DMKCYT-RXN|', '|TRIOSEPISOMERIZATION-RXN|', False],\n",
       " ['|DMKCYT-RXN|', '|RXN0-7298|', False],\n",
       " ['|DMKCYT-RXN|', '|RXN0-1137|', False],\n",
       " ['|DMKCYT-RXN|', '|BADH-RXN|', False],\n",
       " ['|DMKCYT-RXN|', '|DMKCYT-RXN|', False]]"
      ]
     },
     "execution_count": 11,
     "metadata": {},
     "output_type": "execute_result"
    }
   ],
   "source": [
    "\"\"\"\n",
    "rxn1\n",
    "An instance of the class |Reactions|. \n",
    "rxn2\n",
    "An instance of the class |Reactions|. \n",
    "pwy\n",
    "An instance of the class |Pathways|. \n",
    "\"\"\"\n",
    "\n",
    "lst = []\n",
    "for pwy in ecoli.all_pathways(selector = ':all', base = True)[0:10]:\n",
    "    for rxn1 in ecoli.all_rxns(type_of_reactions = ':all')[0:10]:\n",
    "        for rxn2 in ecoli.all_rxns(type_of_reactions = ':all')[0:10]:\n",
    "            lst.append([rxn1, rxn2, ecoli.rxns_adjacent_in_pwy_p(rxn1 = rxn1, rxn2 = rxn2, pwy = pwy)])\n",
    "#     lst.append(ecoli.rxns_adjacent_in_pwy_p(rxn1 = u'|RXN0-5264|', rxn2 = u'|RXN0-5388|', pwy = pwy))\n",
    "lst[-10:]"
   ]
  },
  {
   "cell_type": "code",
   "execution_count": null,
   "metadata": {},
   "outputs": [],
   "source": []
  }
 ],
 "metadata": {
  "kernelspec": {
   "display_name": "Python 3",
   "language": "python",
   "name": "python3"
  },
  "language_info": {
   "codemirror_mode": {
    "name": "ipython",
    "version": 3
   },
   "file_extension": ".py",
   "mimetype": "text/x-python",
   "name": "python",
   "nbconvert_exporter": "python",
   "pygments_lexer": "ipython3",
   "version": "3.6.9"
  }
 },
 "nbformat": 4,
 "nbformat_minor": 2
}
