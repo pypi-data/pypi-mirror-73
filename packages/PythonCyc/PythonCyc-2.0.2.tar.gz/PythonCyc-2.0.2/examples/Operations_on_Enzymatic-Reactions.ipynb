{
 "cells": [
  {
   "cell_type": "code",
   "execution_count": 1,
   "metadata": {},
   "outputs": [
    {
     "data": {
      "text/plain": [
       "0"
      ]
     },
     "execution_count": 1,
     "metadata": {},
     "output_type": "execute_result"
    }
   ],
   "source": [
    "# to run the script, you need to start pathway tools form the command line \n",
    "# using the -lisp -python options. Example (from the pathway tools github repository)\n",
    "\n",
    "import os\n",
    "# os.system('nohup /opt/pathway-tools/pathway-tools -lisp -python &')\n",
    "os.system('nohup pathway-tools -lisp -python-local-only &') # added cybersecurity"
   ]
  },
  {
   "cell_type": "code",
   "execution_count": 2,
   "metadata": {},
   "outputs": [],
   "source": [
    "# modify sys.path to recognize local pythoncyc\n",
    "import sys\n",
    "\n",
    "module_path = os.path.abspath(os.path.join('../'))\n",
    "sys.path = [module_path]\n",
    "\n",
    "# sys.path"
   ]
  },
  {
   "cell_type": "code",
   "execution_count": 3,
   "metadata": {},
   "outputs": [
    {
     "name": "stdout",
     "output_type": "stream",
     "text": [
      "['|META|', '|ECOLI|']\n"
     ]
    }
   ],
   "source": [
    "import pythoncyc\n",
    "all_orgids = pythoncyc.all_orgids()\n",
    "print(all_orgids)\n",
    "\n",
    "meta = pythoncyc.select_organism(u'|META|')\n",
    "ecoli = pythoncyc.select_organism(u'|ECOLI|')"
   ]
  },
  {
   "cell_type": "code",
   "execution_count": 4,
   "metadata": {},
   "outputs": [
    {
     "data": {
      "text/plain": [
       "[[], [], [], [], [], [], [], [], [], []]"
      ]
     },
     "execution_count": 4,
     "metadata": {},
     "output_type": "execute_result"
    }
   ],
   "source": [
    "lst = []\n",
    "for enzrxn in ecoli.all_rxns(type_of_reactions = 'all'):\n",
    "    lst.append(ecoli.cofactors_and_pgroups_of_enzrxn(enzrxn = enzrxn))\n",
    "lst[-10:]"
   ]
  },
  {
   "cell_type": "code",
   "execution_count": 5,
   "metadata": {},
   "outputs": [
    {
     "data": {
      "text/plain": [
       "[[], [], [], [], [], [], [], [], [], []]"
      ]
     },
     "execution_count": 5,
     "metadata": {},
     "output_type": "execute_result"
    }
   ],
   "source": [
    "\"\"\"\n",
    "er\n",
    "An instance of the class |Enzymatic‑Reactions|. \n",
    "phys-relevant-only?\n",
    "Optional If true, then only return activators that are associated with \n",
    "|Regulation| instances that have the 'physiologically‑relevant? slot set to \n",
    "non-nil. \n",
    "\"\"\"\n",
    "\n",
    "lst = []\n",
    "for enzrxn in ecoli.all_rxns(type_of_reactions = ':all'):\n",
    "    lst.append(ecoli.enzrxn_activators(enzrxn = enzrxn, phys_relevant_only=True))\n",
    "lst[-10:]"
   ]
  },
  {
   "cell_type": "code",
   "execution_count": 6,
   "metadata": {},
   "outputs": [
    {
     "data": {
      "text/plain": [
       "[[], [], [], [], [], [], [], [], [], []]"
      ]
     },
     "execution_count": 6,
     "metadata": {},
     "output_type": "execute_result"
    }
   ],
   "source": [
    "lst = []\n",
    "for enzrxn in ecoli.all_rxns(type_of_reactions = ':all'):\n",
    "    lst.append(ecoli.enzrxn_inhibitors(enzrxn = enzrxn, phys_relevant_only = True))\n",
    "lst[-10:]"
   ]
  },
  {
   "cell_type": "code",
   "execution_count": 7,
   "metadata": {},
   "outputs": [
    {
     "data": {
      "text/plain": [
       "[[], [], [], [], [], [], [], [], [], []]"
      ]
     },
     "execution_count": 7,
     "metadata": {},
     "output_type": "execute_result"
    }
   ],
   "source": [
    "\"\"\"\n",
    "enzrxn\n",
    "An instance of the class |Enzymatic‑Reactions|. \n",
    "include-super-pwys?\n",
    "Keyword, Optional If non-nil, then not only will the direct pathways in which \n",
    "enzrxn is associated in be returned, but also any enclosing super-pathways. If \n",
    "enzrxn is associated with a reaction that is directly associated with a \n",
    "super-pathway, then the function might return super-pathways even if this option \n",
    "is nil.\n",
    "\"\"\"\n",
    "\n",
    "lst = []\n",
    "for enzrxn in ecoli.all_rxns(type_of_reactions = ':all'):\n",
    "    lst.append(ecoli.pathways_of_enzrxn(enzrxn = enzrxn, include_super_pwys = False))\n",
    "lst[-10:]"
   ]
  },
  {
   "cell_type": "code",
   "execution_count": 8,
   "metadata": {},
   "outputs": [
    {
     "ename": "PToolsError",
     "evalue": "An internal error occurred in the running Pathway Tools application: :error, The function 'PATHWAY-ALLOWS-ENZRXN?' is not allowed to be called in restricted mode.",
     "output_type": "error",
     "traceback": [
      "\u001b[0;31m---------------------------------------------------------------------------\u001b[0m",
      "\u001b[0;31mPToolsError\u001b[0m                               Traceback (most recent call last)",
      "\u001b[0;32m<ipython-input-8-f34f1b39fcdb>\u001b[0m in \u001b[0;36m<module>\u001b[0;34m\u001b[0m\n\u001b[1;32m     17\u001b[0m         \u001b[0;32mfor\u001b[0m \u001b[0mrxn2\u001b[0m \u001b[0;32min\u001b[0m \u001b[0mecoli\u001b[0m\u001b[0;34m.\u001b[0m\u001b[0mall_rxns\u001b[0m\u001b[0;34m(\u001b[0m\u001b[0mtype_of_reactions\u001b[0m \u001b[0;34m=\u001b[0m \u001b[0;34m'metab-smm'\u001b[0m\u001b[0;34m)\u001b[0m\u001b[0;34m:\u001b[0m\u001b[0;34m\u001b[0m\u001b[0;34m\u001b[0m\u001b[0m\n\u001b[1;32m     18\u001b[0m             lst.append([rxn1, rxn2, ecoli.pathway_allows_enzrxn(\n\u001b[0;32m---> 19\u001b[0;31m                 pwy = pwy, rxn = rxn1, enzrxn = rxn2, single_species = u'|ECOLI|')])\n\u001b[0m\u001b[1;32m     20\u001b[0m \u001b[0mlst\u001b[0m\u001b[0;34m[\u001b[0m\u001b[0;34m-\u001b[0m\u001b[0;36m10\u001b[0m\u001b[0;34m:\u001b[0m\u001b[0;34m]\u001b[0m\u001b[0;34m\u001b[0m\u001b[0;34m\u001b[0m\u001b[0m\n",
      "\u001b[0;32m/shared/D1/opt/repositories/git-reps/PythonCyc.networkbiolab/pythoncyc/PGDB.py\u001b[0m in \u001b[0;36mpathway_allows_enzrxn\u001b[0;34m(self, pwy, rxn, enzrxn, single_species)\u001b[0m\n\u001b[1;32m   1644\u001b[0m                 \u001b[0;31m# single_species is optional for the Lisp version.\u001b[0m\u001b[0;34m\u001b[0m\u001b[0;34m\u001b[0m\u001b[0;34m\u001b[0m\u001b[0m\n\u001b[1;32m   1645\u001b[0m                 \u001b[0;31m# TODO\u001b[0m\u001b[0;34m\u001b[0m\u001b[0;34m\u001b[0m\u001b[0;34m\u001b[0m\u001b[0m\n\u001b[0;32m-> 1646\u001b[0;31m                 \u001b[0;32mreturn\u001b[0m \u001b[0mself\u001b[0m\u001b[0;34m.\u001b[0m\u001b[0msendPgdbFnCallBool\u001b[0m\u001b[0;34m(\u001b[0m\u001b[0;34m'pathway-allows-enzrxn?'\u001b[0m\u001b[0;34m,\u001b[0m \u001b[0mmay_be_frameid\u001b[0m\u001b[0;34m(\u001b[0m\u001b[0mpwy\u001b[0m\u001b[0;34m)\u001b[0m\u001b[0;34m,\u001b[0m \u001b[0mmay_be_frameid\u001b[0m\u001b[0;34m(\u001b[0m\u001b[0mrxn\u001b[0m\u001b[0;34m)\u001b[0m\u001b[0;34m,\u001b[0m \u001b[0mmay_be_frameid\u001b[0m\u001b[0;34m(\u001b[0m\u001b[0menzrxn\u001b[0m\u001b[0;34m)\u001b[0m\u001b[0;34m,\u001b[0m \u001b[0msingle_species\u001b[0m\u001b[0;34m)\u001b[0m\u001b[0;34m\u001b[0m\u001b[0;34m\u001b[0m\u001b[0m\n\u001b[0m\u001b[1;32m   1647\u001b[0m \u001b[0;34m\u001b[0m\u001b[0m\n\u001b[1;32m   1648\u001b[0m         \u001b[0;31m# Section 5.1.4 Operations on Proteins\u001b[0m\u001b[0;34m\u001b[0m\u001b[0;34m\u001b[0m\u001b[0;34m\u001b[0m\u001b[0m\n",
      "\u001b[0;32m/shared/D1/opt/repositories/git-reps/PythonCyc.networkbiolab/pythoncyc/PGDB.py\u001b[0m in \u001b[0;36msendPgdbFnCallBool\u001b[0;34m(self, fn, *args, **kwargs)\u001b[0m\n\u001b[1;32m    377\u001b[0m                 \u001b[0mThis\u001b[0m \u001b[0mmethod\u001b[0m \u001b[0mtakes\u001b[0m \u001b[0mcare\u001b[0m \u001b[0mof\u001b[0m \u001b[0mtranslating\u001b[0m \u001b[0mno\u001b[0m \u001b[0mvalue\u001b[0m \u001b[0;32mor\u001b[0m \u001b[0man\u001b[0m \u001b[0mempty\u001b[0m \u001b[0mlist\u001b[0m \u001b[0mto\u001b[0m \u001b[0;32mFalse\u001b[0m\u001b[0;34m.\u001b[0m\u001b[0;34m\u001b[0m\u001b[0;34m\u001b[0m\u001b[0m\n\u001b[1;32m    378\u001b[0m \t\t\"\"\"\n\u001b[0;32m--> 379\u001b[0;31m                 \u001b[0mresult\u001b[0m \u001b[0;34m=\u001b[0m \u001b[0mself\u001b[0m\u001b[0;34m.\u001b[0m\u001b[0msendPgdbFnCall\u001b[0m\u001b[0;34m(\u001b[0m\u001b[0mfn\u001b[0m\u001b[0;34m,\u001b[0m \u001b[0;34m*\u001b[0m\u001b[0margs\u001b[0m\u001b[0;34m,\u001b[0m \u001b[0;34m**\u001b[0m\u001b[0mkwargs\u001b[0m\u001b[0;34m)\u001b[0m\u001b[0;34m\u001b[0m\u001b[0;34m\u001b[0m\u001b[0m\n\u001b[0m\u001b[1;32m    380\u001b[0m                 \u001b[0;32mif\u001b[0m \u001b[0mresult\u001b[0m \u001b[0;34m==\u001b[0m \u001b[0;32mNone\u001b[0m \u001b[0;32mor\u001b[0m \u001b[0mresult\u001b[0m \u001b[0;34m==\u001b[0m \u001b[0;34m[\u001b[0m\u001b[0;34m]\u001b[0m\u001b[0;34m:\u001b[0m\u001b[0;34m\u001b[0m\u001b[0;34m\u001b[0m\u001b[0m\n\u001b[1;32m    381\u001b[0m                         \u001b[0;32mreturn\u001b[0m \u001b[0;32mFalse\u001b[0m\u001b[0;34m\u001b[0m\u001b[0;34m\u001b[0m\u001b[0m\n",
      "\u001b[0;32m/shared/D1/opt/repositories/git-reps/PythonCyc.networkbiolab/pythoncyc/PGDB.py\u001b[0m in \u001b[0;36msendPgdbFnCall\u001b[0;34m(self, fn, *args, **kwargs)\u001b[0m\n\u001b[1;32m    370\u001b[0m                         \u001b[0mprint\u001b[0m\u001b[0;34m(\u001b[0m\u001b[0mfn\u001b[0m\u001b[0;34m)\u001b[0m\u001b[0;34m\u001b[0m\u001b[0;34m\u001b[0m\u001b[0m\n\u001b[1;32m    371\u001b[0m                 \u001b[0mfnCall\u001b[0m \u001b[0;34m=\u001b[0m \u001b[0mprepareFnCall\u001b[0m\u001b[0;34m(\u001b[0m\u001b[0mfn\u001b[0m\u001b[0;34m,\u001b[0m \u001b[0;34m*\u001b[0m\u001b[0margs\u001b[0m\u001b[0;34m,\u001b[0m \u001b[0;34m**\u001b[0m\u001b[0mkwargs\u001b[0m\u001b[0;34m)\u001b[0m\u001b[0;34m\u001b[0m\u001b[0;34m\u001b[0m\u001b[0m\n\u001b[0;32m--> 372\u001b[0;31m                 \u001b[0;32mreturn\u001b[0m \u001b[0mself\u001b[0m\u001b[0;34m.\u001b[0m\u001b[0msendPgdbQuery\u001b[0m\u001b[0;34m(\u001b[0m\u001b[0mfnCall\u001b[0m\u001b[0;34m)\u001b[0m\u001b[0;34m\u001b[0m\u001b[0;34m\u001b[0m\u001b[0m\n\u001b[0m\u001b[1;32m    373\u001b[0m \u001b[0;34m\u001b[0m\u001b[0m\n\u001b[1;32m    374\u001b[0m         \u001b[0;32mdef\u001b[0m \u001b[0msendPgdbFnCallBool\u001b[0m\u001b[0;34m(\u001b[0m\u001b[0mself\u001b[0m\u001b[0;34m,\u001b[0m \u001b[0mfn\u001b[0m\u001b[0;34m,\u001b[0m \u001b[0;34m*\u001b[0m\u001b[0margs\u001b[0m\u001b[0;34m,\u001b[0m \u001b[0;34m**\u001b[0m\u001b[0mkwargs\u001b[0m\u001b[0;34m)\u001b[0m\u001b[0;34m:\u001b[0m\u001b[0;34m\u001b[0m\u001b[0;34m\u001b[0m\u001b[0m\n",
      "\u001b[0;32m/shared/D1/opt/repositories/git-reps/PythonCyc.networkbiolab/pythoncyc/PGDB.py\u001b[0m in \u001b[0;36msendPgdbQuery\u001b[0;34m(self, query)\u001b[0m\n\u001b[1;32m    359\u001b[0m                         \u001b[0;32mif\u001b[0m \u001b[0mpythoncyc\u001b[0m\u001b[0;34m.\u001b[0m\u001b[0mconfig\u001b[0m\u001b[0;34m.\u001b[0m\u001b[0m_debug\u001b[0m\u001b[0;34m:\u001b[0m\u001b[0;34m\u001b[0m\u001b[0;34m\u001b[0m\u001b[0m\n\u001b[1;32m    360\u001b[0m                                 \u001b[0mprint\u001b[0m\u001b[0;34m(\u001b[0m\u001b[0mlisp_query\u001b[0m\u001b[0;34m)\u001b[0m\u001b[0;34m\u001b[0m\u001b[0;34m\u001b[0m\u001b[0m\n\u001b[0;32m--> 361\u001b[0;31m                         \u001b[0;32mreturn\u001b[0m \u001b[0mPTools\u001b[0m\u001b[0;34m.\u001b[0m\u001b[0msendQueryToPTools\u001b[0m\u001b[0;34m(\u001b[0m\u001b[0mlisp_query\u001b[0m\u001b[0;34m)\u001b[0m\u001b[0;34m\u001b[0m\u001b[0;34m\u001b[0m\u001b[0m\n\u001b[0m\u001b[1;32m    362\u001b[0m \u001b[0;34m\u001b[0m\u001b[0m\n\u001b[1;32m    363\u001b[0m         \u001b[0;32mdef\u001b[0m \u001b[0msendPgdbFnCall\u001b[0m\u001b[0;34m(\u001b[0m\u001b[0mself\u001b[0m\u001b[0;34m,\u001b[0m \u001b[0mfn\u001b[0m\u001b[0;34m,\u001b[0m \u001b[0;34m*\u001b[0m\u001b[0margs\u001b[0m\u001b[0;34m,\u001b[0m \u001b[0;34m**\u001b[0m\u001b[0mkwargs\u001b[0m\u001b[0;34m)\u001b[0m\u001b[0;34m:\u001b[0m\u001b[0;34m\u001b[0m\u001b[0;34m\u001b[0m\u001b[0m\n",
      "\u001b[0;32m/shared/D1/opt/repositories/git-reps/PythonCyc.networkbiolab/pythoncyc/PTools.py\u001b[0m in \u001b[0;36msendQueryToPTools\u001b[0;34m(query)\u001b[0m\n\u001b[1;32m    195\u001b[0m \u001b[0;34m\u001b[0m\u001b[0m\n\u001b[1;32m    196\u001b[0m         \u001b[0;32mif\u001b[0m \u001b[0misinstance\u001b[0m\u001b[0;34m(\u001b[0m\u001b[0mmsg\u001b[0m\u001b[0;34m,\u001b[0m \u001b[0mstr\u001b[0m\u001b[0;34m)\u001b[0m \u001b[0;32mand\u001b[0m \u001b[0mmsg\u001b[0m\u001b[0;34m.\u001b[0m\u001b[0mstartswith\u001b[0m\u001b[0;34m(\u001b[0m\u001b[0;34m':error'\u001b[0m\u001b[0;34m)\u001b[0m\u001b[0;34m:\u001b[0m\u001b[0;34m\u001b[0m\u001b[0;34m\u001b[0m\u001b[0m\n\u001b[0;32m--> 197\u001b[0;31m                 \u001b[0;32mraise\u001b[0m \u001b[0mPToolsError\u001b[0m\u001b[0;34m(\u001b[0m\u001b[0;34m'An internal error occurred in the running Pathway Tools application: {:s}'\u001b[0m\u001b[0;34m.\u001b[0m\u001b[0mformat\u001b[0m\u001b[0;34m(\u001b[0m\u001b[0mmsg\u001b[0m\u001b[0;34m)\u001b[0m\u001b[0;34m)\u001b[0m\u001b[0;34m\u001b[0m\u001b[0;34m\u001b[0m\u001b[0m\n\u001b[0m\u001b[1;32m    198\u001b[0m         \u001b[0;32melse\u001b[0m\u001b[0;34m:\u001b[0m\u001b[0;34m\u001b[0m\u001b[0;34m\u001b[0m\u001b[0m\n\u001b[1;32m    199\u001b[0m                 \u001b[0;31m# Return some result.\u001b[0m\u001b[0;34m\u001b[0m\u001b[0;34m\u001b[0m\u001b[0;34m\u001b[0m\u001b[0m\n",
      "\u001b[0;31mPToolsError\u001b[0m: An internal error occurred in the running Pathway Tools application: :error, The function 'PATHWAY-ALLOWS-ENZRXN?' is not allowed to be called in restricted mode."
     ]
    }
   ],
   "source": [
    "\"\"\"\n",
    "pwy\n",
    "An instance of the class |Pathways|. \n",
    "rxn\n",
    "An instance of the class |Reactions|. \n",
    "enzrxn\n",
    "An instance of the class |Enzymatic‑Reactions|. \n",
    "single-species\n",
    "Optional An instance of the class |Organisms| If set, then enzrxn has the \n",
    "further stricture that it must be an enzymatic reaction present in the organism \n",
    "specified by the value passed to single‑species.\n",
    "\"\"\"\n",
    "\n",
    "lst = []\n",
    "for pwy in ecoli.all_pathways(selector = ':all', base = True):\n",
    "    for rxn1 in ecoli.all_rxns(type_of_reactions = 'all'):\n",
    "        for rxn2 in ecoli.all_rxns(type_of_reactions = 'metab-smm'):\n",
    "            lst.append([rxn1, rxn2, ecoli.pathway_allows_enzrxn(\n",
    "                pwy = pwy, rxn = rxn1, enzrxn = rxn2, single_species = u'|ECOLI|')])\n",
    "lst[-10:]"
   ]
  },
  {
   "cell_type": "code",
   "execution_count": null,
   "metadata": {},
   "outputs": [],
   "source": []
  }
 ],
 "metadata": {
  "kernelspec": {
   "display_name": "Python 3",
   "language": "python",
   "name": "python3"
  },
  "language_info": {
   "codemirror_mode": {
    "name": "ipython",
    "version": 3
   },
   "file_extension": ".py",
   "mimetype": "text/x-python",
   "name": "python",
   "nbconvert_exporter": "python",
   "pygments_lexer": "ipython3",
   "version": "3.6.9"
  }
 },
 "nbformat": 4,
 "nbformat_minor": 2
}
