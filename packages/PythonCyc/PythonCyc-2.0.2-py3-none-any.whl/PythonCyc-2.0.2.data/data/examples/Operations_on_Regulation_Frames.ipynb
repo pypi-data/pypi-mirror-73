{
 "cells": [
  {
   "cell_type": "code",
   "execution_count": 1,
   "metadata": {},
   "outputs": [
    {
     "data": {
      "text/plain": [
       "0"
      ]
     },
     "execution_count": 1,
     "metadata": {},
     "output_type": "execute_result"
    }
   ],
   "source": [
    "# to run the script, you need to start pathway tools form the command line \n",
    "# using the -lisp -python options. Example (from the pathway tools github repository)\n",
    "\n",
    "import os\n",
    "# os.system('nohup /opt/pathway-tools/pathway-tools -lisp -python &')\n",
    "os.system('nohup pathway-tools -lisp -python-local-only &') # added cybersecurity"
   ]
  },
  {
   "cell_type": "code",
   "execution_count": 2,
   "metadata": {},
   "outputs": [],
   "source": [
    "# modify sys.path to recognize local pythoncyc\n",
    "import sys\n",
    "\n",
    "module_path = os.path.abspath(os.path.join('../'))\n",
    "sys.path = [module_path]\n",
    "\n",
    "# sys.path"
   ]
  },
  {
   "cell_type": "code",
   "execution_count": 3,
   "metadata": {},
   "outputs": [
    {
     "name": "stdout",
     "output_type": "stream",
     "text": [
      "['|META|', '|ECOLI|']\n"
     ]
    }
   ],
   "source": [
    "import pythoncyc\n",
    "all_orgids = pythoncyc.all_orgids()\n",
    "print(all_orgids)\n",
    "\n",
    "meta = pythoncyc.select_organism(u'|META|')\n",
    "ecoli = pythoncyc.select_organism(u'|ECOLI|')\n",
    "\n",
    "regs = [x.frameid for x in ecoli.regulation.instances][0:2]\n",
    "genes = [x.frameid for x in ecoli.genes.instances][0:2]\n",
    "proteins = [x.frameid for x in ecoli.proteins.instances][0:2]\n",
    "tus = [x.frameid for x in ecoli.transcription_units.instances][0:2]\n",
    "dna_sites = [x.frameid for x in ecoli.DNA_Binding_Sites.instances][0:2]\n",
    "mrna_sites = [x.frameid for x in ecoli.mRNA_Binding_Sites.instances][0:2]\n",
    "terminators = [x.frameid for x in ecoli.Terminators.instances][0:2]\n",
    "promoters = [x.frameid for x in ecoli.Promoters.instances][0:2]"
   ]
  },
  {
   "cell_type": "code",
   "execution_count": 4,
   "metadata": {},
   "outputs": [
    {
     "name": "stdout",
     "output_type": "stream",
     "text": [
      "[True, False]\n"
     ]
    }
   ],
   "source": [
    "lst = []\n",
    "for reg in regs:\n",
    "    lst.append(ecoli.activation_p(reg))\n",
    "print(lst[-10:])"
   ]
  },
  {
   "cell_type": "code",
   "execution_count": 5,
   "metadata": {},
   "outputs": [
    {
     "name": "stdout",
     "output_type": "stream",
     "text": [
      "[False, True]\n"
     ]
    }
   ],
   "source": [
    "lst = []\n",
    "for reg in regs:\n",
    "    lst.append(ecoli.inhibition_p(reg))\n",
    "print(lst[-10:])"
   ]
  },
  {
   "cell_type": "code",
   "execution_count": 6,
   "metadata": {},
   "outputs": [
    {
     "name": "stdout",
     "output_type": "stream",
     "text": [
      "[[], []]\n"
     ]
    }
   ],
   "source": [
    "lst = []\n",
    "for gene in genes:\n",
    "    lst.append(ecoli.direct_regulators(gene))\n",
    "print(lst[-10:])"
   ]
  },
  {
   "cell_type": "code",
   "execution_count": 7,
   "metadata": {},
   "outputs": [
    {
     "name": "stdout",
     "output_type": "stream",
     "text": [
      "[[], []]\n"
     ]
    }
   ],
   "source": [
    "lst = []\n",
    "for gene in genes:\n",
    "    lst.append(ecoli.direct_activators(gene))\n",
    "print(lst[-10:])"
   ]
  },
  {
   "cell_type": "code",
   "execution_count": 8,
   "metadata": {},
   "outputs": [
    {
     "name": "stdout",
     "output_type": "stream",
     "text": [
      "[[], []]\n"
     ]
    }
   ],
   "source": [
    "lst = []\n",
    "for gene in genes:\n",
    "    lst.append(ecoli.direct_inhibitors(gene))\n",
    "print(lst[-10:])"
   ]
  },
  {
   "cell_type": "code",
   "execution_count": 9,
   "metadata": {},
   "outputs": [],
   "source": [
    "try:\n",
    "    lst = []\n",
    "    for protein in proteins:\n",
    "        lst.append(ecoli.transcription_factor_p(protein))\n",
    "    print(lst[-10:])\n",
    "except:\n",
    "    pass"
   ]
  },
  {
   "cell_type": "code",
   "execution_count": 10,
   "metadata": {},
   "outputs": [],
   "source": [
    "try:\n",
    "    lst = []\n",
    "    for protein in proteins:\n",
    "        lst.append(ecoli.regulator_of_type(protein, class_name = ':activator'))\n",
    "    print(lst[-10:])\n",
    "except:\n",
    "    pass"
   ]
  },
  {
   "cell_type": "code",
   "execution_count": 11,
   "metadata": {},
   "outputs": [
    {
     "name": "stdout",
     "output_type": "stream",
     "text": [
      "[[], []]\n"
     ]
    }
   ],
   "source": [
    "lst = []\n",
    "for protein in proteins:\n",
    "    lst.append(ecoli.regulon_of_protein(protein))\n",
    "print(lst[-10:])"
   ]
  },
  {
   "cell_type": "code",
   "execution_count": 12,
   "metadata": {},
   "outputs": [
    {
     "name": "stdout",
     "output_type": "stream",
     "text": [
      "[['|TU162|'], ['|TU461|']]\n"
     ]
    }
   ],
   "source": [
    "lst = []\n",
    "for reg in regs:\n",
    "    lst.append(ecoli.regulation_frame_transcription_units(reg))\n",
    "print(lst[-10:])"
   ]
  },
  {
   "cell_type": "code",
   "execution_count": 13,
   "metadata": {},
   "outputs": [
    {
     "name": "stdout",
     "output_type": "stream",
     "text": [
      "[[], ['|REG0-11053|', '|REG0-11052|']]\n"
     ]
    }
   ],
   "source": [
    "lst = []\n",
    "for tu in tus:\n",
    "    lst.append(ecoli.transcription_unit_regulation_frames(tu))\n",
    "print(lst[-10:])"
   ]
  },
  {
   "cell_type": "code",
   "execution_count": 14,
   "metadata": {},
   "outputs": [
    {
     "name": "stdout",
     "output_type": "stream",
     "text": [
      "[[], []]\n"
     ]
    }
   ],
   "source": [
    "lst = []\n",
    "for tu in tus:\n",
    "    lst.append(ecoli.transcription_unit_activation_frames(tu))\n",
    "print(lst[-10:])"
   ]
  },
  {
   "cell_type": "code",
   "execution_count": 15,
   "metadata": {},
   "outputs": [
    {
     "name": "stdout",
     "output_type": "stream",
     "text": [
      "[[], ['|REG0-11053|', '|REG0-11052|']]\n"
     ]
    }
   ],
   "source": [
    "lst = []\n",
    "for tu in tus:\n",
    "    lst.append(ecoli.transcription_unit_inhibition_frames(tu))\n",
    "print(lst[-10:])"
   ]
  },
  {
   "cell_type": "code",
   "execution_count": 16,
   "metadata": {},
   "outputs": [
    {
     "name": "stdout",
     "output_type": "stream",
     "text": [
      "[[], []]\n"
     ]
    }
   ],
   "source": [
    "lst = []\n",
    "for protein in proteins:\n",
    "    lst.append(ecoli.transcription_units_of_protein(protein))\n",
    "print(lst[-10:])"
   ]
  },
  {
   "cell_type": "code",
   "execution_count": 17,
   "metadata": {},
   "outputs": [
    {
     "name": "stdout",
     "output_type": "stream",
     "text": [
      "[[], []]\n"
     ]
    }
   ],
   "source": [
    "lst = []\n",
    "for protein in proteins:\n",
    "    lst.append(ecoli.genes_regulated_by_protein(protein))\n",
    "print(lst[-10:])"
   ]
  },
  {
   "cell_type": "code",
   "execution_count": 18,
   "metadata": {},
   "outputs": [
    {
     "name": "stdout",
     "output_type": "stream",
     "text": [
      "[[], []]\n"
     ]
    }
   ],
   "source": [
    "lst = []\n",
    "for protein in proteins:\n",
    "    lst.append(ecoli.DNA_binding_sites_of_protein(protein, all_forms = True))\n",
    "print(lst[-10:])"
   ]
  },
  {
   "cell_type": "code",
   "execution_count": 19,
   "metadata": {},
   "outputs": [
    {
     "name": "stdout",
     "output_type": "stream",
     "text": [
      "[[], ['|PD01379|']]\n"
     ]
    }
   ],
   "source": [
    "lst = []\n",
    "for tu in tus:\n",
    "    lst.append(ecoli.regulator_proteins_of_transcription_unit(tu))\n",
    "print(lst[-10:])"
   ]
  },
  {
   "cell_type": "code",
   "execution_count": 20,
   "metadata": {},
   "outputs": [],
   "source": [
    "try:\n",
    "    lst = []\n",
    "    for protein in proteins:\n",
    "        lst.append(ecoli.transcription_factor_ligands(protein, u':both'))\n",
    "    print(lst[-10:])\n",
    "except:\n",
    "    pass"
   ]
  },
  {
   "cell_type": "code",
   "execution_count": 21,
   "metadata": {},
   "outputs": [
    {
     "name": "stdout",
     "output_type": "stream",
     "text": [
      "[[], []]\n"
     ]
    }
   ],
   "source": [
    "lst = []\n",
    "for protein in proteins:\n",
    "    lst.append(ecoli.transcription_factor_active_forms(protein))\n",
    "print(lst[-10:])"
   ]
  },
  {
   "cell_type": "code",
   "execution_count": 22,
   "metadata": {},
   "outputs": [
    {
     "name": "stdout",
     "output_type": "stream",
     "text": [
      "[[], ['|G6761|', '|EG10457|']]\n"
     ]
    }
   ],
   "source": [
    "lst = []\n",
    "for gene in genes:\n",
    "    lst.append(ecoli.genes_regulating_gene(gene))\n",
    "print(lst[-10:])"
   ]
  },
  {
   "cell_type": "code",
   "execution_count": 23,
   "metadata": {},
   "outputs": [
    {
     "name": "stdout",
     "output_type": "stream",
     "text": [
      "[[], []]\n"
     ]
    }
   ],
   "source": [
    "lst = []\n",
    "for gene in genes:\n",
    "    lst.append(ecoli.genes_regulated_by_gene(gene))\n",
    "print(lst[-10:])"
   ]
  },
  {
   "cell_type": "code",
   "execution_count": 24,
   "metadata": {},
   "outputs": [
    {
     "name": "stdout",
     "output_type": "stream",
     "text": [
      "[[None, None, None], [['|G6761-MONOMER|'], ['|PD00288|'], None]]\n"
     ]
    }
   ],
   "source": [
    "lst = []\n",
    "for gene in genes:\n",
    "    lst.append(ecoli.regulators_of_gene_transcription(gene, by_function = True))\n",
    "print(lst[-10:])"
   ]
  },
  {
   "cell_type": "code",
   "execution_count": 25,
   "metadata": {},
   "outputs": [
    {
     "name": "stdout",
     "output_type": "stream",
     "text": [
      "[[], []]\n"
     ]
    }
   ],
   "source": [
    "lst = []\n",
    "for tu in tus:\n",
    "    lst.append(ecoli.transcription_unit_activators(tu))\n",
    "print(lst[-10:])"
   ]
  },
  {
   "cell_type": "code",
   "execution_count": 26,
   "metadata": {},
   "outputs": [
    {
     "name": "stdout",
     "output_type": "stream",
     "text": [
      "[[], ['|PD01379|']]\n"
     ]
    }
   ],
   "source": [
    "lst = []\n",
    "for tu in tus:\n",
    "    lst.append(ecoli.transcription_unit_inhibitors(tu))\n",
    "print(lst[-10:])"
   ]
  },
  {
   "cell_type": "code",
   "execution_count": 27,
   "metadata": {},
   "outputs": [
    {
     "name": "stdout",
     "output_type": "stream",
     "text": [
      "[[None, None, None], [None, ['|PD01379|'], None]]\n"
     ]
    }
   ],
   "source": [
    "lst = []\n",
    "for tu in tus:\n",
    "    lst.append(ecoli.regulators_of_operon_transcription(tu, by_function = True))\n",
    "print(lst[-10:])"
   ]
  },
  {
   "cell_type": "code",
   "execution_count": 28,
   "metadata": {},
   "outputs": [
    {
     "name": "stdout",
     "output_type": "stream",
     "text": [
      "[None, '|PM0-8720|']\n"
     ]
    }
   ],
   "source": [
    "lst = []\n",
    "for tu in tus:\n",
    "    lst.append(ecoli.transcription_unit_promoter(tu))\n",
    "print(lst[-10:])"
   ]
  },
  {
   "cell_type": "code",
   "execution_count": 29,
   "metadata": {},
   "outputs": [
    {
     "name": "stdout",
     "output_type": "stream",
     "text": [
      "[['|G6954|'], ['|EG11346|']]\n"
     ]
    }
   ],
   "source": [
    "lst = []\n",
    "for tu in tus:\n",
    "    lst.append(ecoli.transcription_unit_genes(tu))\n",
    "print(lst[-10:])"
   ]
  },
  {
   "cell_type": "code",
   "execution_count": 30,
   "metadata": {},
   "outputs": [
    {
     "name": "stdout",
     "output_type": "stream",
     "text": [
      "['|G6954|', '|EG11346|']\n"
     ]
    }
   ],
   "source": [
    "lst = []\n",
    "for tu in tus:\n",
    "    lst.append(ecoli.transcription_unit_first_gene(tu))\n",
    "print(lst[-10:])"
   ]
  },
  {
   "cell_type": "code",
   "execution_count": 31,
   "metadata": {},
   "outputs": [
    {
     "name": "stdout",
     "output_type": "stream",
     "text": [
      "[[], ['|BS0-8048|', '|BS0-8047|']]\n"
     ]
    }
   ],
   "source": [
    "lst = []\n",
    "for tu in tus:\n",
    "    lst.append(ecoli.transcription_unit_binding_sites(tu))\n",
    "print(lst[-10:])"
   ]
  },
  {
   "cell_type": "code",
   "execution_count": 32,
   "metadata": {},
   "outputs": [
    {
     "name": "stdout",
     "output_type": "stream",
     "text": [
      "[[], ['|PD01379|']]\n"
     ]
    }
   ],
   "source": [
    "lst = []\n",
    "for tu in tus:\n",
    "    lst.append(ecoli.transcription_unit_transcription_factors(tu))\n",
    "print(lst[-10:])"
   ]
  },
  {
   "cell_type": "code",
   "execution_count": 33,
   "metadata": {},
   "outputs": [
    {
     "name": "stdout",
     "output_type": "stream",
     "text": [
      "[[], []]\n"
     ]
    }
   ],
   "source": [
    "lst = []\n",
    "for tu in tus:\n",
    "    lst.append(ecoli.transcription_unit_mrna_binding_sites(tu))\n",
    "print(lst[-10:])"
   ]
  },
  {
   "cell_type": "code",
   "execution_count": 34,
   "metadata": {},
   "outputs": [
    {
     "name": "stdout",
     "output_type": "stream",
     "text": [
      "['|COLI-K12|', '|COLI-K12|']\n"
     ]
    }
   ],
   "source": [
    "lst = []\n",
    "for tu in tus:\n",
    "    lst.append(ecoli.chromosome_of_operon(tu))\n",
    "print(lst[-10:])"
   ]
  },
  {
   "cell_type": "code",
   "execution_count": 35,
   "metadata": {},
   "outputs": [
    {
     "name": "stdout",
     "output_type": "stream",
     "text": [
      "[[], ['|BS0-7937|', '|BS0-7936|', '|BS0-7935|', '|BS0-7225|']]\n"
     ]
    }
   ],
   "source": [
    "lst = []\n",
    "for gene in genes:\n",
    "    lst.append(ecoli.binding_sites_affecting_gene(gene))\n",
    "print(lst[-10:])"
   ]
  },
  {
   "cell_type": "code",
   "execution_count": 36,
   "metadata": {},
   "outputs": [
    {
     "name": "stdout",
     "output_type": "stream",
     "text": [
      "[[], []]\n"
     ]
    }
   ],
   "source": [
    "lst = []\n",
    "for gene in genes:\n",
    "    lst.append(ecoli.binding_site_to_regulators(gene))\n",
    "print(lst[-10:])"
   ]
  },
  {
   "cell_type": "code",
   "execution_count": 37,
   "metadata": {},
   "outputs": [
    {
     "name": "stdout",
     "output_type": "stream",
     "text": [
      "[['|PHOSPHO-PHOB|'], ['|CPLX0-7639|']]\n"
     ]
    }
   ],
   "source": [
    "lst = []\n",
    "for dna_site in dna_sites:\n",
    "    lst.append(ecoli.binding_site_to_regulators(dna_site))\n",
    "print(lst[-10:])"
   ]
  },
  {
   "cell_type": "code",
   "execution_count": 38,
   "metadata": {},
   "outputs": [
    {
     "name": "stdout",
     "output_type": "stream",
     "text": [
      "[['|TU0-13975|'], ['|TU0-8636|']]\n"
     ]
    }
   ],
   "source": [
    "lst = []\n",
    "for promoter in promoters:\n",
    "    lst.append(ecoli.transcription_units_of_promoter(promoter))\n",
    "print(lst[-10:])"
   ]
  },
  {
   "cell_type": "code",
   "execution_count": 39,
   "metadata": {},
   "outputs": [
    {
     "name": "stdout",
     "output_type": "stream",
     "text": [
      "[[], []]\n"
     ]
    }
   ],
   "source": [
    "lst = []\n",
    "for promoter in promoters:\n",
    "    lst.append(ecoli.promoter_binding_sites(promoter))\n",
    "print(lst[-10:])"
   ]
  },
  {
   "cell_type": "code",
   "execution_count": 40,
   "metadata": {},
   "outputs": [
    {
     "name": "stdout",
     "output_type": "stream",
     "text": [
      "[[], []]\n"
     ]
    }
   ],
   "source": [
    "lst = []\n",
    "for tu in tus:\n",
    "    lst.append(ecoli.transcription_unit_terminators(tu))\n",
    "print(lst[-10:])"
   ]
  },
  {
   "cell_type": "code",
   "execution_count": 41,
   "metadata": {},
   "outputs": [
    {
     "name": "stdout",
     "output_type": "stream",
     "text": [
      "[['|TU0-8814|'], ['|TU0-8340|']]\n",
      "[['|TU0-42642|', '|TU0-42640|', '|TU0-42638|', '|TU0-42636|', '|TU281|', '|TU00342|'], ['|TU00392|']]\n",
      "[['|TU0-2021|'], ['|TU0-13514|']]\n",
      "[['|TU0-13975|'], ['|TU0-8636|']]\n",
      "[['|TU0-14216|'], ['|TU0-36408|', '|TU0-13193|']]\n",
      "[['|TU-8390|', '|TU-8389|'], ['|TU00091|']]\n"
     ]
    }
   ],
   "source": [
    "lst = []\n",
    "for tu in tus:\n",
    "    lst.append(ecoli.containing_tus(tu))\n",
    "print(lst[-10:])\n",
    "\n",
    "lst = []\n",
    "for tu in mrna_sites:\n",
    "    lst.append(ecoli.containing_tus(tu))\n",
    "print(lst[-10:])\n",
    "\n",
    "lst = []\n",
    "for tu in dna_sites:\n",
    "    lst.append(ecoli.containing_tus(tu))\n",
    "print(lst[-10:])\n",
    "\n",
    "lst = []\n",
    "for tu in promoters:\n",
    "    lst.append(ecoli.containing_tus(tu))\n",
    "print(lst[-10:])\n",
    "\n",
    "lst = []\n",
    "for tu in genes:\n",
    "    lst.append(ecoli.containing_tus(tu))\n",
    "print(lst[-10:])\n",
    "\n",
    "lst = []\n",
    "for tu in terminators:\n",
    "    lst.append(ecoli.containing_tus(tu))\n",
    "print(lst[-10:])"
   ]
  },
  {
   "cell_type": "code",
   "execution_count": 42,
   "metadata": {},
   "outputs": [
    {
     "name": "stdout",
     "output_type": "stream",
     "text": [
      "['|COLI-K12|', '|COLI-K12|']\n",
      "['|COLI-K12|', '|COLI-K12|']\n",
      "['|COLI-K12|', '|COLI-K12|']\n",
      "['|COLI-K12|', '|COLI-K12|']\n",
      "['|COLI-K12|', '|COLI-K12|']\n",
      "['|COLI-K12|', '|COLI-K12|']\n"
     ]
    }
   ],
   "source": [
    "lst = []\n",
    "for tu in tus:\n",
    "    lst.append(ecoli.containing_chromosome(tu))\n",
    "print(lst[-10:])\n",
    "\n",
    "lst = []\n",
    "for tu in mrna_sites:\n",
    "    lst.append(ecoli.containing_chromosome(tu))\n",
    "print(lst[-10:])\n",
    "\n",
    "lst = []\n",
    "for tu in dna_sites:\n",
    "    lst.append(ecoli.containing_chromosome(tu))\n",
    "print(lst[-10:])\n",
    "\n",
    "lst = []\n",
    "for tu in promoters:\n",
    "    lst.append(ecoli.containing_chromosome(tu))\n",
    "print(lst[-10:])\n",
    "\n",
    "lst = []\n",
    "for tu in genes:\n",
    "    lst.append(ecoli.containing_chromosome(tu))\n",
    "print(lst[-10:])\n",
    "\n",
    "lst = []\n",
    "for tu in terminators:\n",
    "    lst.append(ecoli.containing_chromosome(tu))\n",
    "print(lst[-10:])"
   ]
  },
  {
   "cell_type": "code",
   "execution_count": 43,
   "metadata": {},
   "outputs": [
    {
     "name": "stdout",
     "output_type": "stream",
     "text": [
      "[['|PM0-2201|'], ['|PM0-9620|']]\n"
     ]
    }
   ],
   "source": [
    "lst = []\n",
    "for dna_site in dna_sites:\n",
    "    lst.append(ecoli.binding_site_promoters(dna_site))\n",
    "print(lst[-10:])"
   ]
  },
  {
   "cell_type": "code",
   "execution_count": 44,
   "metadata": {},
   "outputs": [
    {
     "name": "stdout",
     "output_type": "stream",
     "text": [
      "[['|G6954|'], ['|PM0-8720|', '|EG11346|', '|BS0-8048|', '|BS0-8047|']]\n"
     ]
    }
   ],
   "source": [
    "lst = []\n",
    "for tu in tus:\n",
    "    lst.append(ecoli.transcription_unit_all_components(tu))\n",
    "print(lst[-10:])"
   ]
  },
  {
   "cell_type": "code",
   "execution_count": 45,
   "metadata": {},
   "outputs": [
    {
     "name": "stdout",
     "output_type": "stream",
     "text": [
      "[['|TU0-2021|'], ['|TU0-13514|']]\n",
      "[['|TU0-42642|', '|TU0-42640|', '|TU0-42638|', '|TU0-42636|', '|TU281|', '|TU00342|'], ['|TU00392|']]\n"
     ]
    }
   ],
   "source": [
    "lst = []\n",
    "for dna_site in dna_sites:\n",
    "    lst.append(ecoli.binding_site_transcription_units(dna_site))\n",
    "print(lst[-10:])\n",
    "\n",
    "lst = []\n",
    "for mrna_site in mrna_sites:\n",
    "    lst.append(ecoli.binding_site_transcription_units(mrna_site))\n",
    "print(lst[-10:])"
   ]
  },
  {
   "cell_type": "code",
   "execution_count": null,
   "metadata": {},
   "outputs": [],
   "source": []
  }
 ],
 "metadata": {
  "kernelspec": {
   "display_name": "Python 3",
   "language": "python",
   "name": "python3"
  },
  "language_info": {
   "codemirror_mode": {
    "name": "ipython",
    "version": 3
   },
   "file_extension": ".py",
   "mimetype": "text/x-python",
   "name": "python",
   "nbconvert_exporter": "python",
   "pygments_lexer": "ipython3",
   "version": "3.6.9"
  }
 },
 "nbformat": 4,
 "nbformat_minor": 2
}
