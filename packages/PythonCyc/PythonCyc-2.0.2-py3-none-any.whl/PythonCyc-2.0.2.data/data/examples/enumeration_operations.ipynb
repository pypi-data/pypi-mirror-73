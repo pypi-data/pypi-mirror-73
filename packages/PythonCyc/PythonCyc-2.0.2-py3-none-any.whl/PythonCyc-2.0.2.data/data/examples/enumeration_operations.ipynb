{
 "cells": [
  {
   "cell_type": "code",
   "execution_count": 1,
   "metadata": {},
   "outputs": [
    {
     "data": {
      "text/plain": [
       "0"
      ]
     },
     "execution_count": 1,
     "metadata": {},
     "output_type": "execute_result"
    }
   ],
   "source": [
    "# to run the script, you need to start pathway tools form the command line \n",
    "# using the -lisp -python options. Example (from the pathway tools github repository)\n",
    "\n",
    "import os\n",
    "# os.system('nohup /opt/pathway-tools/pathway-tools -lisp -python &')\n",
    "os.system('nohup pathway-tools -lisp -python-local-only &') # added cybersecurity"
   ]
  },
  {
   "cell_type": "code",
   "execution_count": 2,
   "metadata": {},
   "outputs": [],
   "source": [
    "# modify sys.path to recognize local pythoncyc\n",
    "import sys\n",
    "\n",
    "module_path = os.path.abspath(os.path.join('../'))\n",
    "sys.path = [module_path]\n",
    "\n",
    "# sys.path"
   ]
  },
  {
   "cell_type": "code",
   "execution_count": 3,
   "metadata": {},
   "outputs": [
    {
     "name": "stdout",
     "output_type": "stream",
     "text": [
      "['|META|', '|ECOLI|']\n"
     ]
    }
   ],
   "source": [
    "import pythoncyc\n",
    "all_orgids = pythoncyc.all_orgids()\n",
    "print(all_orgids)\n",
    "\n",
    "meta = pythoncyc.select_organism(u'|META|')\n",
    "ecoli = pythoncyc.select_organism(u'|ECOLI|')"
   ]
  },
  {
   "cell_type": "code",
   "execution_count": 4,
   "metadata": {},
   "outputs": [
    {
     "data": {
      "text/plain": [
       "['|PWY0-1347|',\n",
       " '|PWY-6690|',\n",
       " '|PWY0-1348|',\n",
       " '|PWY-5162|',\n",
       " '|PWY0-1352|',\n",
       " '|PWY0-1355|',\n",
       " '|2PHENDEG-PWY|',\n",
       " '|PWY0-1465|',\n",
       " '|TRESYN-PWY|',\n",
       " '|PANTO-PWY|']"
      ]
     },
     "execution_count": 4,
     "metadata": {},
     "output_type": "execute_result"
    }
   ],
   "source": [
    "\"\"\"\n",
    "selector\n",
    "Optional Selects whether all pathways, or just small-molecule metabolism base \n",
    "pathways. Can take either a symbol of :all or :small‑molecule. Defaults to \n",
    "<code>:all</code>. \n",
    "base?\n",
    "Optional If this argument evaluates to true, only includes base pathways. \n",
    "Otherwise, all pathways, including superpathways, will be returned. \n",
    "\"\"\"\n",
    "\n",
    "ecoli.all_pathways(selector = 'all', base = True)[0:10]\n",
    "ecoli.all_pathways(selector = 'small-molecule', base = True)[0:10]"
   ]
  },
  {
   "cell_type": "code",
   "execution_count": 5,
   "metadata": {},
   "outputs": [
    {
     "data": {
      "text/plain": [
       "['|RXN-17635|',\n",
       " '|RXN-6268|',\n",
       " '|RXN-7282|',\n",
       " '|RXN-10720|',\n",
       " '|RXN-12870|',\n",
       " '|RXN-14515|',\n",
       " '|RXN-13460|',\n",
       " '|RXN-14808|',\n",
       " '|RXN-18819|',\n",
       " '|RXN-15121|']"
      ]
     },
     "execution_count": 5,
     "metadata": {},
     "output_type": "execute_result"
    }
   ],
   "source": [
    "\"\"\"\n",
    "type\n",
    "Optional The type of reaction to return. Defaults to :metab‑smm. The possible \n",
    "values are:\n",
    "\n",
    ":all\n",
    "All reactions. \n",
    ":metab-pathways\n",
    "All reactions found within metabolic pathways. Includes reactions that are \n",
    "pathway holes. May include a handfull of reactions whose substrates are \n",
    "macromolecules, e.g., ACP. Excludes transport reactions. \n",
    ":metab-smm\n",
    "All reactions of small molecule metabolism, whether or not they are present in a \n",
    "pathway. Subsumes :metab‑pathways. \n",
    ":metab-all\n",
    "All enzyme-catalyzed reactions. Subsumes :metab‑smm. \n",
    ":enzyme\n",
    "All enzyme-catalyzed reactions (i.e., instances of either EC-Reactions class or \n",
    "Unclassified-Reactions class). \n",
    ":transport\n",
    "All transport reactions. \n",
    ":small-molecule\n",
    "All reactions whose substrates are all small molecules, as opposed to \n",
    "macromolecules. Excludes transport reactions. \n",
    ":protein-small-molecule-reaction\n",
    "One of the substrates of the reaction is a macromolecule, and one of the \n",
    "substrates of the reaction is a small molecule. \n",
    ":protein-reaction\n",
    "All substrates of the reaction are proteins. \n",
    ":trna-reaction\n",
    "One of the substrates of the reaction is a tRNA. \n",
    ":spontaneous\n",
    "Spontaneous reactions. \n",
    ":non-spontaneous\n",
    "Non-spontaneous reactions that are likely to be enzyme catalyzed. Some reactions \n",
    "will be returned for type :non‑spontaneous that will not be returned by \n",
    ":enzyme. \n",
    "\"\"\"\n",
    "\n",
    "ecoli.all_rxns(type_of_reactions = 'all')[0:10]\n",
    "ecoli.all_rxns(type_of_reactions = 'metab-pathways')[0:10]\n",
    "ecoli.all_rxns(type_of_reactions = 'metab-smm')[0:10]\n",
    "ecoli.all_rxns(type_of_reactions = 'metab-all')[0:10]\n",
    "ecoli.all_rxns(type_of_reactions = 'transport')[0:10]\n",
    "ecoli.all_rxns(type_of_reactions = 'small-molecule')[0:10]\n",
    "ecoli.all_rxns(type_of_reactions = 'protein-small-molecule-reaction')[0:10]\n",
    "ecoli.all_rxns(type_of_reactions = 'protein-reaction')[0:10]\n",
    "ecoli.all_rxns(type_of_reactions = 'trna-reaction')[0:10]\n",
    "ecoli.all_rxns(type_of_reactions = 'spontaneous')[0:10]"
   ]
  },
  {
   "cell_type": "code",
   "execution_count": 6,
   "metadata": {},
   "outputs": [
    {
     "name": "stdout",
     "output_type": "stream",
     "text": [
      "['|RXN-17635|']\n"
     ]
    },
    {
     "data": {
      "text/plain": [
       "['|Protein-Arginine-Aminocarbinol|',\n",
       " '|PROTON|',\n",
       " '|Protein-Arginine-Imidazolidine|']"
      ]
     },
     "execution_count": 6,
     "metadata": {},
     "output_type": "execute_result"
    }
   ],
   "source": [
    "\"\"\"\n",
    "rxns\n",
    "A list of reaction frames. \n",
    "\"\"\"\n",
    "print(ecoli.all_rxns(type_of_reactions = 'spontaneous')[0:1])\n",
    "ecoli.all_substrates(rxns = ecoli.all_rxns(type_of_reactions = 'spontaneous')[0:1])"
   ]
  },
  {
   "cell_type": "code",
   "execution_count": 7,
   "metadata": {},
   "outputs": [
    {
     "data": {
      "text/plain": [
       "['|DIPYRROMETHANE|',\n",
       " '|GTP|',\n",
       " '|UBIQUINONE-8|',\n",
       " '|AMMONIUM|',\n",
       " '|LYS|',\n",
       " '|HEME_O|',\n",
       " '|CPD-18260|',\n",
       " '|PQQ|',\n",
       " '|SIROHEME|',\n",
       " '|Mo-molybdopterin-cofactor|']"
      ]
     },
     "execution_count": 7,
     "metadata": {},
     "output_type": "execute_result"
    }
   ],
   "source": [
    "ecoli.all_cofactors()[0:10]"
   ]
  },
  {
   "cell_type": "code",
   "execution_count": 8,
   "metadata": {},
   "outputs": [
    {
     "data": {
      "text/plain": [
       "['|DEOXY-RIBOSE-1P|',\n",
       " '|CPD0-1546|',\n",
       " '|CPD0-1545|',\n",
       " '|NACL|',\n",
       " '|Gramicidins|',\n",
       " '|CPD0-1633|',\n",
       " '|G7642-MONOMER|',\n",
       " '|CPD-9229|',\n",
       " '|PENICILLIN|',\n",
       " '|CPD0-2358|']"
      ]
     },
     "execution_count": 8,
     "metadata": {},
     "output_type": "execute_result"
    }
   ],
   "source": [
    "ecoli.all_modulators()[0:10]"
   ]
  },
  {
   "cell_type": "code",
   "execution_count": 9,
   "metadata": {},
   "outputs": [
    {
     "data": {
      "text/plain": [
       "['|LI+|',\n",
       " '|MELIBIOSE|',\n",
       " '|D-GALACTURONATE|',\n",
       " '|PROTON|',\n",
       " '|CPD0-2241|',\n",
       " '|GUANINE|',\n",
       " '|Nucleosides|',\n",
       " '|CPD-20888|',\n",
       " '|XANTHINE|',\n",
       " '|N-ACETYL-D-MANNOSAMINE-6P|']"
      ]
     },
     "execution_count": 9,
     "metadata": {},
     "output_type": "execute_result"
    }
   ],
   "source": [
    "\"\"\"\n",
    "from-compartment\n",
    "Keyword, Optional The compartment that the chemical is coming from (see Cellular \n",
    "Component Ontology). \n",
    "to-compartment\n",
    "Keyword, Optional The compartment that the chemical is going to (see Cellular \n",
    "Component Ontology). \n",
    "show-compartment\n",
    "Keyword, Optional Show the form of the compound as it is present in the \n",
    "specified compartment (see Cellular Component Ontology), if the compound is \n",
    "modified during transport. \n",
    "primary-only?\n",
    "Keyword, Optional If true, filter out common transport compounds, such as \n",
    "protons and Na+. \n",
    "\"\"\"\n",
    "\n",
    "ecoli.all_transported_chemicals()[0:10]\n",
    "ecoli.all_transported_chemicals(primary_only = True)[0:10]\n",
    "ecoli.all_transported_chemicals(from_compartment = u'|CCO-CYTOSOL|')[0:10]\n",
    "ecoli.all_transported_chemicals(to_compartment = u'|CCO-CYTOSOL|')[0:10]\n",
    "ecoli.all_transported_chemicals(show_compartment = 'cell')[0:10] # not valid argument"
   ]
  },
  {
   "cell_type": "code",
   "execution_count": 10,
   "metadata": {},
   "outputs": [
    {
     "data": {
      "text/plain": [
       "['|CPLX0-7660|',\n",
       " '|CPLX0-8247|',\n",
       " '|CPLX0-3102|',\n",
       " '|ACETYL-COA-CARBOXYLTRANSFER-CPLX|',\n",
       " '|CPLX0-7|',\n",
       " '|TRANS-CPLX-204|',\n",
       " '|FLAGELLAR-MOTOR-COMPLEX|',\n",
       " '|1-PFK|',\n",
       " '|CPLX0-8125|',\n",
       " '|CPLX0-7687|']"
      ]
     },
     "execution_count": 10,
     "metadata": {},
     "output_type": "execute_result"
    }
   ],
   "source": [
    "\"\"\"\n",
    "filter\n",
    "Keyword The type of protein complexes to return. The argument must be one of the \n",
    "following values:\n",
    "\n",
    ":all or t\n",
    "Return all protein complexes. \n",
    ":hetero\n",
    "Return all heteromultimers. \n",
    ":homo\n",
    "Return all homomultimers. \n",
    "\"\"\"\n",
    "\n",
    "ecoli.all_protein_complexes(filter = 'all')[0:10]\n",
    "ecoli.all_protein_complexes(filter = 'hetero')[0:10]\n",
    "ecoli.all_protein_complexes(filter = 'homo')[0:10]\n",
    "ecoli.all_protein_complexes()[0:10]"
   ]
  },
  {
   "cell_type": "code",
   "execution_count": 11,
   "metadata": {},
   "outputs": [
    {
     "data": {
      "text/plain": [
       "['|G6165-MONOMER|',\n",
       " '|PHOSPHO-NARP|',\n",
       " '|G6882-MONOMER|',\n",
       " '|MONOMER0-1|',\n",
       " '|G7947-MONOMER|',\n",
       " '|G6175-MONOMER|',\n",
       " '|EG11554-MONOMER|',\n",
       " '|PD01196|',\n",
       " '|EG10087-MONOMER|',\n",
       " '|EG10226-MONOMER|']"
      ]
     },
     "execution_count": 11,
     "metadata": {},
     "output_type": "execute_result"
    }
   ],
   "source": [
    "\"\"\"\n",
    "Side-Effects\n",
    "\n",
    "allow-modified-forms?\n",
    "Keyword, Optional A boolean value. If true, modified and unmodified forms of the \n",
    "protein are returned. If false, then only unmodified forms of the proteins are \n",
    "returned. The default value is t.\n",
    "\"\"\"\n",
    "\n",
    "ecoli.all_transcription_factors()[0:10]\n",
    "ecoli.all_transcription_factors(allow_modified_forms = True)[0:10]"
   ]
  },
  {
   "cell_type": "code",
   "execution_count": 12,
   "metadata": {},
   "outputs": [
    {
     "data": {
      "text/plain": [
       "['|G6165-MONOMER|',\n",
       " '|NARP-MONOMER|',\n",
       " '|TAR-CPLX|',\n",
       " '|G6882-MONOMER|',\n",
       " '|EG11140-MONOMER|',\n",
       " '|EG10881-MONOMER|',\n",
       " '|G7947-MONOMER|',\n",
       " '|G6175-MONOMER|',\n",
       " '|EG12111-MONOMER|',\n",
       " '|EG11554-MONOMER|']"
      ]
     },
     "execution_count": 12,
     "metadata": {},
     "output_type": "execute_result"
    }
   ],
   "source": [
    "\"\"\"\n",
    "class\n",
    "Keyword, Optional The class |Regulation| or a subclass. It defaults to \n",
    "|Regulation‑of‑Transcription‑Initiation|. \n",
    "allow-modified forms?\n",
    "Keyword, Optional A boolean value. If true, modified and unmodified forms of the \n",
    "protein are returned. If false, then only unmodified forms of the proteins are \n",
    "returned. The default value is t.\n",
    "\"\"\"\n",
    "\n",
    "ecoli.all_genetic_regulation_proteins(class_name = u'|Regulation|', allow_modified_forms = False)[0:10]"
   ]
  },
  {
   "cell_type": "code",
   "execution_count": 13,
   "metadata": {},
   "outputs": [
    {
     "data": {
      "text/plain": [
       "['|EG11355-MONOMER|',\n",
       " '|RPOE-MONOMER|',\n",
       " '|RPOD-MONOMER|',\n",
       " '|RPON-MONOMER|',\n",
       " '|PD00440|',\n",
       " '|RPOS-MONOMER|',\n",
       " '|RPOH-MONOMER|']"
      ]
     },
     "execution_count": 13,
     "metadata": {},
     "output_type": "execute_result"
    }
   ],
   "source": [
    "ecoli.all_sigma_factors()"
   ]
  },
  {
   "cell_type": "code",
   "execution_count": 14,
   "metadata": {},
   "outputs": [
    {
     "data": {
      "text/plain": [
       "[['|TU0-8814|'],\n",
       " ['|TU0-8710|'],\n",
       " ['|TU0-13847|'],\n",
       " ['|TU0-13769|'],\n",
       " ['|TU0-13667|'],\n",
       " ['|TU00321|'],\n",
       " ['|TU0-13385|'],\n",
       " ['|TU00223|'],\n",
       " ['|TU0-14243|'],\n",
       " ['|TU0-14168|']]"
      ]
     },
     "execution_count": 14,
     "metadata": {},
     "output_type": "execute_result"
    }
   ],
   "source": [
    "ecoli.all_operons()[0:10]"
   ]
  },
  {
   "cell_type": "code",
   "execution_count": 15,
   "metadata": {},
   "outputs": [
    {
     "data": {
      "text/plain": [
       "['|RXN-14142|',\n",
       " '|GLUCOSE-1-PHOSPHAT-RXN|',\n",
       " '|2.7.10.1-RXN|',\n",
       " '|5.99.1.2-RXN|',\n",
       " '|1.5.1.34-RXN|',\n",
       " '|RXN-17780|',\n",
       " '|KETOACYLCOATHIOL-RXN|',\n",
       " '|RXN0-7251|',\n",
       " '|GLYCPDIESTER-RXN|',\n",
       " '|LTAA-RXN|']"
      ]
     },
     "execution_count": 15,
     "metadata": {},
     "output_type": "execute_result"
    }
   ],
   "source": [
    "\"\"\"\n",
    "rxns\n",
    "Keyword, Optional A list of instances of the class |Reactions|. Defaults to the \n",
    "result of (all‑rxns :enzyme).\n",
    "\"\"\"\n",
    "\n",
    "ecoli.rxns_w_isozymes(rxns = ecoli.all_rxns(':enzyme'))[0:10]\n",
    "ecoli.rxns_w_isozymes()[0:10]"
   ]
  },
  {
   "cell_type": "code",
   "execution_count": 16,
   "metadata": {},
   "outputs": [
    {
     "data": {
      "text/plain": [
       "['|DCYSDESULF-RXN|',\n",
       " '|RXN-14142|',\n",
       " '|RXN-12402|',\n",
       " '|GLUCOSE-1-PHOSPHAT-RXN|',\n",
       " '|PUTTRANSAM-RXN|',\n",
       " '|1.5.1.34-RXN|',\n",
       " '|DHDOGALDOL-RXN|',\n",
       " '|RXN-19777|',\n",
       " '|RXN-12073|',\n",
       " '|RXN-14285|']"
      ]
     },
     "execution_count": 16,
     "metadata": {},
     "output_type": "execute_result"
    }
   ],
   "source": [
    "\"\"\"\n",
    "rxns\n",
    "Keyword, Optional A list of instances of the class |Reactions|. Defaults to the \n",
    "result of (all‑rxns :enzyme).\n",
    "\"\"\"\n",
    "\n",
    "ecoli.rxns_catalyzed_by_complex(rxns = ecoli.all_rxns('enzyme'))[0:10]\n",
    "ecoli.rxns_catalyzed_by_complex()[0:10]"
   ]
  },
  {
   "cell_type": "code",
   "execution_count": 17,
   "metadata": {},
   "outputs": [
    {
     "data": {
      "text/plain": [
       "['|MHPELY-MONOMER|',\n",
       " '|G6571-MONOMER|',\n",
       " '|G7751-MONOMER|',\n",
       " '|G7910-MONOMER|',\n",
       " '|G6904-MONOMER|',\n",
       " '|PGLUCONDEHYDRAT-MONOMER|',\n",
       " '|MONOMER0-1241|',\n",
       " '|ACECITLY-CPLX|',\n",
       " '|G7422-MONOMER|',\n",
       " '|EG12069-MONOMER|']"
      ]
     },
     "execution_count": 17,
     "metadata": {},
     "output_type": "execute_result"
    }
   ],
   "source": [
    "\"\"\"\n",
    "type\n",
    "Keyword, Optional A type as taken from the argument to #'enzyme?. Defaults to \n",
    ":chemical‑change.\n",
    "\n",
    ">> type\n",
    "Optional Can take on one of the following values to select more precisely what \n",
    "is meant by an “enzyme”:\n",
    "\n",
    ":any\n",
    "Any protein that catalyzes a reaction is considered an enzyme. \n",
    ":chemical-change\n",
    "If the reactants and products of the catalyzed reactin differ, and not just by \n",
    "their cellular location, then the protein is considered an enzyme. \n",
    ":small-molecule\n",
    "If the reactants of the catalyzed reaction differ and are small molecules, then \n",
    "the protein is considered an enzyme. \n",
    ":transport\n",
    "If the protein catalyzes a transport reaction. \n",
    ":non-transport\n",
    "If the protein only catalyzes non-transport reactions. \n",
    "\"\"\"\n",
    "\n",
    "ecoli.all_enzymes()[0:10]\n",
    "ecoli.all_enzymes(type_of_reactions = ':any')[0:10]\n",
    "ecoli.all_enzymes(type_of_reactions = ':chemical-change')[0:10]\n",
    "ecoli.all_enzymes(type_of_reactions = ':small-molecule')[0:10]\n",
    "ecoli.all_enzymes(type_of_reactions = ':transport')[0:10]\n",
    "ecoli.all_enzymes(type_of_reactions = ':non-transport')[0:10]"
   ]
  },
  {
   "cell_type": "code",
   "execution_count": 18,
   "metadata": {},
   "outputs": [
    {
     "data": {
      "text/plain": [
       "['|DCUA-MONOMER|',\n",
       " '|G7399-MONOMER|',\n",
       " '|YIDT-MONOMER|',\n",
       " '|CORA-MONOMER|',\n",
       " '|EG12134-MONOMER|',\n",
       " '|EG11486-MONOMER|',\n",
       " '|CYNX-MONOMER|',\n",
       " '|YJDL-MONOMER|',\n",
       " '|EG11512-MONOMER|',\n",
       " '|GLTP-MONOMER|']"
      ]
     },
     "execution_count": 18,
     "metadata": {},
     "output_type": "execute_result"
    }
   ],
   "source": [
    "ecoli.all_transporters()[0:10]"
   ]
  },
  {
   "cell_type": "code",
   "execution_count": null,
   "metadata": {},
   "outputs": [],
   "source": []
  }
 ],
 "metadata": {
  "kernelspec": {
   "display_name": "Python 3",
   "language": "python",
   "name": "python3"
  },
  "language_info": {
   "codemirror_mode": {
    "name": "ipython",
    "version": 3
   },
   "file_extension": ".py",
   "mimetype": "text/x-python",
   "name": "python",
   "nbconvert_exporter": "python",
   "pygments_lexer": "ipython3",
   "version": "3.6.9"
  }
 },
 "nbformat": 4,
 "nbformat_minor": 2
}
