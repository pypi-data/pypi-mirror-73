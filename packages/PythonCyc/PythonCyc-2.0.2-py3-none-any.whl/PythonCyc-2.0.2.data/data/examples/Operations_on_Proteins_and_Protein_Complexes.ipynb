{
 "cells": [
  {
   "cell_type": "code",
   "execution_count": 1,
   "metadata": {},
   "outputs": [
    {
     "data": {
      "text/plain": [
       "0"
      ]
     },
     "execution_count": 1,
     "metadata": {},
     "output_type": "execute_result"
    }
   ],
   "source": [
    "# to run the script, you need to start pathway tools form the command line \n",
    "# using the -lisp -python options. Example (from the pathway tools github repository)\n",
    "\n",
    "import os\n",
    "# os.system('nohup /opt/pathway-tools/pathway-tools -lisp -python &')\n",
    "os.system('nohup pathway-tools -lisp -python-local-only &') # added cybersecurity"
   ]
  },
  {
   "cell_type": "code",
   "execution_count": 2,
   "metadata": {},
   "outputs": [],
   "source": [
    "# modify sys.path to recognize local pythoncyc\n",
    "import sys\n",
    "\n",
    "module_path = os.path.abspath(os.path.join('../'))\n",
    "sys.path = [module_path]\n",
    "\n",
    "# sys.path"
   ]
  },
  {
   "cell_type": "code",
   "execution_count": 3,
   "metadata": {},
   "outputs": [
    {
     "name": "stdout",
     "output_type": "stream",
     "text": [
      "['|META|', '|ECOLI|']\n"
     ]
    }
   ],
   "source": [
    "import pythoncyc\n",
    "all_orgids = pythoncyc.all_orgids()\n",
    "print(all_orgids)\n",
    "\n",
    "meta = pythoncyc.select_organism(u'|META|')\n",
    "ecoli = pythoncyc.select_organism(u'|ECOLI|')\n",
    "proteins = [x.frameid for x in ecoli.proteins.instances][0:2]\n",
    "complexes = ecoli.all_protein_complexes()[0:2]"
   ]
  },
  {
   "cell_type": "code",
   "execution_count": 4,
   "metadata": {},
   "outputs": [
    {
     "name": "stdout",
     "output_type": "stream",
     "text": [
      "[[['|G6106-MONOMER|'], [4]], [['|URAA-MONOMER|'], [2]]]\n",
      "[[['|OPPC-MONOMER|'], [1]], [['|YHBN-MONOMER|'], [1]]]\n"
     ]
    }
   ],
   "source": [
    "\"\"\"\n",
    "p\n",
    "An instance of the class |Proteins|. \n",
    "coefficients?\n",
    "Keyword, Optional If true, then the second return value of the function will be \n",
    "a list of monomer coefficients. Defaults to true. \n",
    "unmodify?\n",
    "Keyword, Optional If true, obtain the monomers of the unmodified form of p.\n",
    "\"\"\"\n",
    "\n",
    "lst = []\n",
    "for protein in complexes:\n",
    "    lst.append(ecoli.monomers_of_protein(protein = protein, coefficients = True, unmodify = True))\n",
    "print(lst[-10:])\n",
    "\n",
    "lst = []\n",
    "for protein in proteins:\n",
    "    lst.append(ecoli.monomers_of_protein(protein = protein))\n",
    "print(lst[-10:])"
   ]
  },
  {
   "cell_type": "code",
   "execution_count": 5,
   "metadata": {},
   "outputs": [
    {
     "name": "stdout",
     "output_type": "stream",
     "text": [
      "[[['|G6106-MONOMER|'], [4]], [['|URAA-MONOMER|'], [2]]]\n",
      "[[['|OPPC-MONOMER|'], [1]], [['|YHBN-MONOMER|'], [1]]]\n"
     ]
    }
   ],
   "source": [
    "\"\"\"\n",
    "p\n",
    "An instance of the class |Proteins|. \n",
    "exclude-small-molecules?\n",
    "Keyword, Optional If nil, then small molecule components are also returned. \n",
    "Default value is true. \n",
    "\"\"\"\n",
    "\n",
    "lst = []\n",
    "for protein in complexes:\n",
    "    lst.append(ecoli.base_components_of_protein(protein = protein, exclude_small_molecules = True))\n",
    "print(lst[-10:])\n",
    "\n",
    "lst = []\n",
    "for protein in proteins:\n",
    "    lst.append(ecoli.base_components_of_protein(protein = protein))\n",
    "print(lst[-10:])"
   ]
  },
  {
   "cell_type": "code",
   "execution_count": 6,
   "metadata": {},
   "outputs": [
    {
     "name": "stdout",
     "output_type": "stream",
     "text": [
      "[[], []]\n",
      "[['|OPPC-MONOMER|', '|CPLX0-3970|', '|ABC-22-CPLX|'], ['|YHBN-MONOMER|', '|CPLX0-7992|']]\n"
     ]
    }
   ],
   "source": [
    "\"\"\"\n",
    "protein\n",
    "An instance of the class |Proteins|. \n",
    "exclude-self?\n",
    "Optional If true, then protein will not be included in the return value. \n",
    "\"\"\"\n",
    "\n",
    "lst = []\n",
    "for protein in complexes:\n",
    "    lst.append(ecoli.containers_of(protein = protein, exclude_self = True))\n",
    "print(lst[-10:])\n",
    "\n",
    "lst = []\n",
    "for protein in proteins:\n",
    "    lst.append(ecoli.containers_of(protein = protein))\n",
    "print(lst[-10:])"
   ]
  },
  {
   "cell_type": "code",
   "execution_count": 7,
   "metadata": {},
   "outputs": [
    {
     "name": "stdout",
     "output_type": "stream",
     "text": [
      "[['|CPLX0-7660|'], ['|CPLX0-8247|']]\n",
      "[['|OPPC-MONOMER|', '|CPLX0-3970|', '|ABC-22-CPLX|'], ['|YHBN-MONOMER|', '|CPLX0-7992|']]\n"
     ]
    }
   ],
   "source": [
    "\"\"\"\n",
    "protein\n",
    "An instance of the class |Proteins|. \n",
    "exclude-self?\n",
    "Optional If true, then protein will not be included in the return value. \n",
    "\"\"\"\n",
    "\n",
    "lst = []\n",
    "for protein in complexes:\n",
    "    lst.append(ecoli.protein_or_rna_containers_of(protein = protein))\n",
    "print(lst[-10:])\n",
    "\n",
    "lst = []\n",
    "for protein in proteins:\n",
    "    lst.append(ecoli.protein_or_rna_containers_of(protein = protein))\n",
    "print(lst[-10:])"
   ]
  },
  {
   "cell_type": "code",
   "execution_count": 8,
   "metadata": {},
   "outputs": [
    {
     "name": "stdout",
     "output_type": "stream",
     "text": [
      "[['|CPLX0-7660|'], ['|CPLX0-8247|']]\n",
      "[['|OPPC-MONOMER|'], ['|YHBN-MONOMER|']]\n"
     ]
    }
   ],
   "source": [
    "\"\"\"\n",
    "protein\n",
    "An instance of the class |Proteins|. \n",
    "exclude-self?\n",
    "Optional If true, then protein will not be included in the return value. \n",
    "\"\"\"\n",
    "\n",
    "lst = []\n",
    "for protein in complexes:\n",
    "    lst.append(ecoli.homomultimeric_containers_of(protein = protein))\n",
    "print(lst[-10:])\n",
    "\n",
    "lst = []\n",
    "for protein in proteins:\n",
    "    lst.append(ecoli.homomultimeric_containers_of(protein = protein))\n",
    "print(lst[-10:])"
   ]
  },
  {
   "cell_type": "code",
   "execution_count": 9,
   "metadata": {},
   "outputs": [
    {
     "name": "stdout",
     "output_type": "stream",
     "text": [
      "[True, True]\n",
      "[True, True]\n"
     ]
    }
   ],
   "source": [
    "lst = []\n",
    "for protein in complexes:\n",
    "    lst.append(ecoli.polypeptide_or_homomultimer_p(protein = protein))\n",
    "print(lst[-10:])\n",
    "\n",
    "lst = []\n",
    "for protein in proteins:\n",
    "    lst.append(ecoli.polypeptide_or_homomultimer_p(protein = protein))\n",
    "print(lst[-10:])"
   ]
  },
  {
   "cell_type": "code",
   "execution_count": 10,
   "metadata": {},
   "outputs": [
    {
     "name": "stdout",
     "output_type": "stream",
     "text": [
      "['|CPLX0-7660|', '|CPLX0-8247|']\n",
      "['|OPPC-MONOMER|', '|YHBN-MONOMER|']\n"
     ]
    }
   ],
   "source": [
    "lst = []\n",
    "for protein in complexes:\n",
    "    lst.append(ecoli.unmodified_form(protein = protein))\n",
    "print(lst[-10:])\n",
    "\n",
    "lst = []\n",
    "for protein in proteins:\n",
    "    lst.append(ecoli.unmodified_form(protein = protein))\n",
    "print(lst[-10:])"
   ]
  },
  {
   "cell_type": "code",
   "execution_count": 11,
   "metadata": {},
   "outputs": [
    {
     "name": "stdout",
     "output_type": "stream",
     "text": [
      "['|CPLX0-7660|', '|CPLX0-8247|']\n",
      "['|OPPC-MONOMER|', '|YHBN-MONOMER|']\n"
     ]
    }
   ],
   "source": [
    "lst = []\n",
    "for protein in complexes:\n",
    "    lst.append(ecoli.unmodified_or_unbound_form(protein = protein))\n",
    "print(lst[-10:])\n",
    "\n",
    "lst = []\n",
    "for protein in proteins:\n",
    "    lst.append(ecoli.unmodified_or_unbound_form(protein = protein))\n",
    "print(lst[-10:])"
   ]
  },
  {
   "cell_type": "code",
   "execution_count": 12,
   "metadata": {},
   "outputs": [
    {
     "name": "stdout",
     "output_type": "stream",
     "text": [
      "[['|CPLX0-7660|'], ['|CPLX0-8247|']]\n",
      "[['|OPPC-MONOMER|'], ['|YHBN-MONOMER|']]\n"
     ]
    }
   ],
   "source": [
    "\"\"\"\n",
    "prots\n",
    "A list of instances of the class |Proteins|. \n",
    "debind?\n",
    "Keyword, Optional When non-nil, the proteins are further simplified by obtaining \n",
    "the unbound form of the protein, if it is bound to a small molecule. \n",
    "\"\"\"\n",
    "\n",
    "lst = []\n",
    "for protein in complexes:\n",
    "    lst.append(ecoli.reduce_modified_proteins(prots = [protein], debind = True))\n",
    "print(lst[-10:])\n",
    "\n",
    "lst = []\n",
    "for protein in proteins:\n",
    "    lst.append(ecoli.reduce_modified_proteins(prots = [protein]))\n",
    "print(lst[-10:])"
   ]
  },
  {
   "cell_type": "code",
   "execution_count": 13,
   "metadata": {},
   "outputs": [
    {
     "name": "stdout",
     "output_type": "stream",
     "text": [
      "[['|G6106-MONOMER|', '|CPLX0-7660|'], ['|URAA-MONOMER|', '|CPLX0-8247|']]\n",
      "[['|OPPC-MONOMER|', '|CPLX0-3970|', '|ABC-22-CPLX|'], ['|YHBN-MONOMER|', '|CPLX0-7992|']]\n"
     ]
    }
   ],
   "source": [
    "lst = []\n",
    "for protein in complexes:\n",
    "    lst.append(ecoli.all_direct_forms_of_protein(protein = protein))\n",
    "print(lst[-10:])\n",
    "\n",
    "lst = []\n",
    "for protein in proteins:\n",
    "    lst.append(ecoli.all_direct_forms_of_protein(protein = protein))\n",
    "print(lst[-10:])"
   ]
  },
  {
   "cell_type": "code",
   "execution_count": 14,
   "metadata": {},
   "outputs": [
    {
     "name": "stdout",
     "output_type": "stream",
     "text": [
      "[['|G6106-MONOMER|', '|CPLX0-7660|'], ['|URAA-MONOMER|', '|CPLX0-8247|']]\n",
      "[['|OPPC-MONOMER|', '|CPLX0-3970|', '|ABC-22-CPLX|'], ['|YHBN-MONOMER|', '|CPLX0-7992|']]\n"
     ]
    }
   ],
   "source": [
    "lst = []\n",
    "for protein in complexes:\n",
    "    lst.append(ecoli.all_forms_of_protein(protein = protein))\n",
    "print(lst[-10:])\n",
    "\n",
    "lst = []\n",
    "for protein in proteins:\n",
    "    lst.append(ecoli.all_forms_of_protein(protein = protein))\n",
    "print(lst[-10:])"
   ]
  },
  {
   "cell_type": "code",
   "execution_count": 15,
   "metadata": {},
   "outputs": [
    {
     "name": "stdout",
     "output_type": "stream",
     "text": [
      "[[], []]\n",
      "[['|OPPC-MONOMER|'], ['|YHBN-MONOMER|']]\n"
     ]
    }
   ],
   "source": [
    "lst = []\n",
    "for protein in complexes:\n",
    "    lst.append(ecoli.modified_forms(protein = protein, all_variants = True, exclude_self= True))\n",
    "print(lst[-10:])\n",
    "\n",
    "lst = []\n",
    "for protein in proteins:\n",
    "    lst.append(ecoli.modified_forms(protein = protein))\n",
    "print(lst[-10:])"
   ]
  },
  {
   "cell_type": "code",
   "execution_count": 16,
   "metadata": {},
   "outputs": [
    {
     "name": "stdout",
     "output_type": "stream",
     "text": [
      "[['|CPLX0-7660|'], ['|CPLX0-8247|']]\n",
      "[['|OPPC-MONOMER|'], ['|YHBN-MONOMER|']]\n"
     ]
    }
   ],
   "source": [
    "lst = []\n",
    "for protein in complexes:\n",
    "    lst.append(ecoli.modified_and_unmodified_forms(protein = protein))\n",
    "print(lst[-10:])\n",
    "\n",
    "lst = []\n",
    "for protein in proteins:\n",
    "    lst.append(ecoli.modified_and_unmodified_forms(protein = protein))\n",
    "print(lst[-10:])"
   ]
  },
  {
   "cell_type": "code",
   "execution_count": 17,
   "metadata": {},
   "outputs": [
    {
     "name": "stdout",
     "output_type": "stream",
     "text": [
      "[['|CPLX0-7660|'], ['|CPLX0-8247|']]\n",
      "[['|OPPC-MONOMER|', '|CPLX0-3970|', '|ABC-22-CPLX|'], ['|YHBN-MONOMER|', '|CPLX0-7992|']]\n"
     ]
    }
   ],
   "source": [
    "lst = []\n",
    "for protein in complexes:\n",
    "    lst.append(ecoli.modified_containers(protein = protein))\n",
    "print(lst[-10:])\n",
    "\n",
    "lst = []\n",
    "for protein in proteins:\n",
    "    lst.append(ecoli.modified_containers(protein = protein))\n",
    "print(lst[-10:])"
   ]
  },
  {
   "cell_type": "code",
   "execution_count": 18,
   "metadata": {},
   "outputs": [
    {
     "name": "stdout",
     "output_type": "stream",
     "text": [
      "[['|CPLX0-7660|'], ['|CPLX0-8247|']]\n",
      "[['|CPLX0-3970|', '|ABC-22-CPLX|'], ['|CPLX0-7992|']]\n"
     ]
    }
   ],
   "source": [
    "lst = []\n",
    "for protein in complexes:\n",
    "    lst.append(ecoli.top_containers(protein = protein))\n",
    "print(lst[-10:])\n",
    "\n",
    "lst = []\n",
    "for protein in proteins:\n",
    "    lst.append(ecoli.top_containers(protein = protein))\n",
    "print(lst[-10:])"
   ]
  },
  {
   "cell_type": "code",
   "execution_count": 19,
   "metadata": {},
   "outputs": [
    {
     "name": "stdout",
     "output_type": "stream",
     "text": [
      "[[], []]\n",
      "[[], []]\n"
     ]
    }
   ],
   "source": [
    "lst = []\n",
    "for protein in complexes:\n",
    "    lst.append(ecoli.small_molecule_cplxes_of_prot(protein = protein))\n",
    "print(lst[-10:])\n",
    "\n",
    "lst = []\n",
    "for protein in proteins:\n",
    "    lst.append(ecoli.small_molecule_cplxes_of_prot(protein = protein))\n",
    "print(lst[-10:])"
   ]
  },
  {
   "cell_type": "code",
   "execution_count": 20,
   "metadata": {},
   "outputs": [
    {
     "name": "stdout",
     "output_type": "stream",
     "text": [
      "[['|G6106|'], ['|EG12129|']]\n",
      "[['|EG10676|'], ['|G7665|']]\n"
     ]
    }
   ],
   "source": [
    "lst = []\n",
    "for protein in complexes:\n",
    "    lst.append(ecoli.genes_of_protein(protein = protein))\n",
    "print(lst[-10:])\n",
    "\n",
    "lst = []\n",
    "for protein in proteins:\n",
    "    lst.append(ecoli.genes_of_protein(protein = protein))\n",
    "print(lst[-10:])"
   ]
  },
  {
   "cell_type": "code",
   "execution_count": 21,
   "metadata": {},
   "outputs": [
    {
     "name": "stdout",
     "output_type": "stream",
     "text": [
      "[['|G6106|'], ['|EG12129|']]\n",
      "[['|EG10676|'], ['|G7665|']]\n"
     ]
    }
   ],
   "source": [
    "lst = []\n",
    "for protein in complexes:\n",
    "    lst.append(ecoli.genes_of_proteins(prots = protein))\n",
    "print(lst[-10:])\n",
    "\n",
    "lst = []\n",
    "for protein in proteins:\n",
    "    lst.append(ecoli.genes_of_proteins(prots = protein))\n",
    "print(lst[-10:])"
   ]
  },
  {
   "cell_type": "code",
   "execution_count": 22,
   "metadata": {},
   "outputs": [
    {
     "name": "stdout",
     "output_type": "stream",
     "text": [
      "[['|RXN0-4301|'], ['|TRANS-RXN-132|']]\n",
      "[[], []]\n"
     ]
    }
   ],
   "source": [
    "\"\"\"\n",
    "protein\n",
    "An instance of the class |Proteins|. \n",
    "kb\n",
    "Keyword, Optional The KB object of the KB in which to find the associated \n",
    "reactions. Defaults to the current PGDB. \n",
    "include-specific-forms?\n",
    "Keyword, Optional When true, specific forms of associated generic reactions are \n",
    "also returned. Default value is true. \n",
    "\"\"\"\n",
    "\n",
    "lst = []\n",
    "for protein in complexes:\n",
    "    lst.append(ecoli.reactions_of_enzyme(protein = protein, include_subreactions = True))\n",
    "print(lst[-10:])\n",
    "\n",
    "lst = []\n",
    "for protein in proteins:\n",
    "    lst.append(ecoli.reactions_of_enzyme(protein = protein))\n",
    "print(lst[-10:])"
   ]
  },
  {
   "cell_type": "code",
   "execution_count": 23,
   "metadata": {},
   "outputs": [
    {
     "name": "stdout",
     "output_type": "stream",
     "text": [
      "[['|ECOLI|'], ['|ECOLI|']]\n",
      "[['|ECOLI|'], ['|ECOLI|']]\n"
     ]
    }
   ],
   "source": [
    "lst = []\n",
    "for protein in complexes:\n",
    "    lst.append(ecoli.species_of_protein(protein = protein))\n",
    "print(lst[-10:])\n",
    "\n",
    "lst = []\n",
    "for protein in proteins:\n",
    "    lst.append(ecoli.species_of_protein(protein = protein))\n",
    "print(lst[-10:])"
   ]
  },
  {
   "cell_type": "code",
   "execution_count": 24,
   "metadata": {},
   "outputs": [
    {
     "name": "stdout",
     "output_type": "stream",
     "text": [
      "[True, True]\n",
      "[False, False]\n"
     ]
    }
   ],
   "source": [
    "\"\"\"\n",
    "type\n",
    "Optional Can take on one of the following values to select more precisely what \n",
    "is meant by an “enzyme”:\n",
    "\n",
    ":any\n",
    "Any protein that catalyzes a reaction is considered an enzyme. \n",
    ":chemical-change\n",
    "If the reactants and products of the catalyzed reactin differ, and not just by \n",
    "their cellular location, then the protein is considered an enzyme. \n",
    ":small-molecule\n",
    "If the reactants of the catalyzed reaction differ and are small molecules, then \n",
    "the protein is considered an enzyme. \n",
    ":transport\n",
    "If the protein catalyzes a transport reaction. \n",
    ":non-transport\n",
    "If the protein only catalyzes non-transport reactions. \n",
    "\"\"\"\n",
    "\n",
    "lst = []\n",
    "for protein in complexes:\n",
    "    lst.append(ecoli.enzyme_p(protein = protein, type_of_reactions = 'any'))\n",
    "print(lst[-10:])\n",
    "\n",
    "lst = []\n",
    "for protein in proteins:\n",
    "    lst.append(ecoli.enzyme_p(protein = protein, type_of_reactions = 'non-transport-non-pathway'))\n",
    "print(lst[-10:])"
   ]
  },
  {
   "cell_type": "code",
   "execution_count": 25,
   "metadata": {},
   "outputs": [],
   "source": [
    "try:\n",
    "    lst = []\n",
    "    for protein in complexes:\n",
    "        lst.append(ecoli.leader_peptide_p(protein = protein))\n",
    "    print(lst[-10:])\n",
    "\n",
    "    lst = []\n",
    "    for protein in proteins:\n",
    "        lst.append(ecoli.leader_peptide_p(protein = protein))\n",
    "    print(lst[-10:])\n",
    "except:\n",
    "    pass"
   ]
  },
  {
   "cell_type": "code",
   "execution_count": 26,
   "metadata": {},
   "outputs": [
    {
     "name": "stdout",
     "output_type": "stream",
     "text": [
      "['|Proteins|', '|Proteins|']\n",
      "['|Proteins|', '|Proteins|']\n"
     ]
    }
   ],
   "source": [
    "lst = []\n",
    "for protein in complexes:\n",
    "    lst.append(ecoli.protein_p(protein))\n",
    "print(lst[-10:])\n",
    "\n",
    "lst = []\n",
    "for protein in proteins:\n",
    "    lst.append(ecoli.protein_p(protein))\n",
    "print(lst[-10:])"
   ]
  },
  {
   "cell_type": "code",
   "execution_count": 27,
   "metadata": {},
   "outputs": [
    {
     "name": "stdout",
     "output_type": "stream",
     "text": [
      "['|Protein-Complexes|', '|Protein-Complexes|']\n",
      "[False, False]\n"
     ]
    }
   ],
   "source": [
    "lst = []\n",
    "for protein in complexes:\n",
    "    lst.append(ecoli.complex_p(protein))\n",
    "print(lst[-10:])\n",
    "\n",
    "lst = []\n",
    "for protein in proteins:\n",
    "    lst.append(ecoli.complex_p(protein))\n",
    "print(lst[-10:])"
   ]
  },
  {
   "cell_type": "code",
   "execution_count": 28,
   "metadata": {},
   "outputs": [
    {
     "name": "stdout",
     "output_type": "stream",
     "text": [
      "[['|RXN0-4301|'], ['|TRANS-RXN-132|']]\n",
      "[[], []]\n"
     ]
    }
   ],
   "source": [
    "\"\"\"\n",
    "p\n",
    "An instance of the class |Proteins|. \n",
    "check-protein-components?\n",
    "Optional If true, check all components of this protein for catalyzed reactions. \n",
    "Defaults to true. \n",
    "check-protein-containers?\n",
    "Optional If true, check the containers and modified forms of the protein for \n",
    "catalyzed reactions. \n",
    "\"\"\"\n",
    "\n",
    "lst = []\n",
    "for protein in complexes:\n",
    "    lst.append(ecoli.reactions_of_protein(protein = protein, check_protein_containers = True))\n",
    "print(lst[-10:])\n",
    "\n",
    "lst = []\n",
    "for protein in proteins:\n",
    "    lst.append(ecoli.reactions_of_protein(protein = protein, check_protein_components = True))\n",
    "print(lst[-10:])"
   ]
  },
  {
   "cell_type": "code",
   "execution_count": 29,
   "metadata": {},
   "outputs": [
    {
     "name": "stdout",
     "output_type": "stream",
     "text": [
      "[False, False]\n",
      "['|CCI-CYTOSOL-GN|', False]\n"
     ]
    }
   ],
   "source": [
    "\"\"\"\n",
    "rxn\n",
    "An instance of the class |Reactions|. \n",
    "compartments\n",
    "A list of cellular compartments, as defined in the Cellular Components Ontology. \n",
    "See frame 'CCO. \n",
    "default-ok?\n",
    "Keyword, Optional If true, then we return true if the reaction has no associated \n",
    "compartment information, or one of its associated locations is a super-class of \n",
    "one of the members of the compartments argument. \n",
    "pwy\n",
    "Keyword, Optional If supplied, the search for associated enzymes of the argument \n",
    "rxn is limited to the given child of |Pathways|. \n",
    "loose?\n",
    "Keyword, Optional If true, then the compartments 'CCO‑CYTOPLASM and 'CCO‑CYTOSOL \n",
    "are treated as being the same compartment. \n",
    "\"\"\"\n",
    "\n",
    "lst = []\n",
    "for protein in complexes:\n",
    "    lst.append(ecoli.protein_in_compartment_p(rxn = protein, compartments = 'CCO-CYTOSOL'))\n",
    "print(lst[-10:])\n",
    "\n",
    "lst = []\n",
    "for protein in proteins:\n",
    "    lst.append(ecoli.protein_in_compartment_p(rxn = protein, compartments = ['CCO-CYTOSOL', 'CCO-MEMBRANE']))\n",
    "print(lst[-10:])"
   ]
  },
  {
   "cell_type": "code",
   "execution_count": 30,
   "metadata": {},
   "outputs": [
    {
     "name": "stdout",
     "output_type": "stream",
     "text": [
      "['|MTR-MONOMER|', '|G7942-MONOMER|', '|NANT-MONOMER|', '|B1006-MONOMER|', '|YDHE-MONOMER|', '|YDEA-MONOMER|', '|PITA-MONOMER|', '|YEIM-MONOMER|', '|BCR-MONOMER|', '|YGFO-MONOMER|']\n"
     ]
    }
   ],
   "source": [
    "\"\"\"\n",
    "membranes\n",
    "Keyword Either :all or a list of instances of the class. Defaults to :all \n",
    "'CCO‑MEMBRANE. \n",
    "method\n",
    "Either :location or :reaction‑compartments. :location will check the 'locations \n",
    "slot, while :reaction‑compartments will examine the compartments of reaction \n",
    "substrates. Default value is :location. \n",
    "\"\"\"\n",
    "\n",
    "lst = ecoli.all_transporters_across(membranes = 'all')\n",
    "print(lst[-10:])"
   ]
  },
  {
   "cell_type": "code",
   "execution_count": 31,
   "metadata": {},
   "outputs": [
    {
     "name": "stdout",
     "output_type": "stream",
     "text": [
      "[[], []]\n",
      "[[], []]\n"
     ]
    }
   ],
   "source": [
    "lst = []\n",
    "for protein in complexes:\n",
    "    lst.append(ecoli.autocatalytic_reactions_of_enzyme(protein))\n",
    "print(lst[-10:])\n",
    "\n",
    "lst = []\n",
    "for protein in proteins:\n",
    "    lst.append(ecoli.autocatalytic_reactions_of_enzyme(protein))\n",
    "print(lst[-10:])"
   ]
  },
  {
   "cell_type": "code",
   "execution_count": null,
   "metadata": {},
   "outputs": [],
   "source": []
  }
 ],
 "metadata": {
  "kernelspec": {
   "display_name": "Python 3",
   "language": "python",
   "name": "python3"
  },
  "language_info": {
   "codemirror_mode": {
    "name": "ipython",
    "version": 3
   },
   "file_extension": ".py",
   "mimetype": "text/x-python",
   "name": "python",
   "nbconvert_exporter": "python",
   "pygments_lexer": "ipython3",
   "version": "3.6.9"
  }
 },
 "nbformat": 4,
 "nbformat_minor": 2
}
