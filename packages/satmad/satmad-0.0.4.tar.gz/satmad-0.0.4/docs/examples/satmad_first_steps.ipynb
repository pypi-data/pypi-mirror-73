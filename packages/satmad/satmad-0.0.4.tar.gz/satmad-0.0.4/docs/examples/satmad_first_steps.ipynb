{
 "cells": [
  {
   "cell_type": "markdown",
   "source": [
    "# First Steps in SatMAD\n",
    "\n",
    "This tutorial illustrates some of the basic functionalities of SatMAD (see the\n",
    "[documentation](https://satmad.readthedocs.io) for the latest or more advanced\n",
    "functionalities).\n",
    "\n",
    "Many of the satellite mission analysis and design problems have four steps:\n",
    "    1. Initialise an orbit\n",
    "    2. Propagate the orbit to generate the trajectory over a duration\n",
    "    3. Do some analysis with this trajectory\n",
    "    4. Plot the results\n",
    "\n",
    "In this tutorial we will go over these steps to show how SatMAD works.\n",
    "\n",
    "The first step is to initialise the orbit. For this task we will start with a\n",
    "telecommunications satellite on a geostationary orbit. The up-to-date orbital\n",
    "elements of Turksat-4A can be retrieved from\n",
    "[Celestrak website](https://celestrak.com/satcat/tle.php?CATNR=39522)."
   ],
   "metadata": {
    "collapsed": false,
    "pycharm": {
     "name": "#%% md\n"
    }
   }
  },
  {
   "cell_type": "code",
   "execution_count": 1,
   "outputs": [
    {
     "name": "stdout",
     "output_type": "stream",
     "text": [
      "TURKSAT 4A\n",
      "1 39522U 14007A   20193.17132507  .00000144  00000-0  00000+0 0  9992\n",
      "2 39522   0.0769 271.0842 0000679 241.5624 240.5627  1.00268861 23480\n",
      "\n"
     ]
    }
   ],
   "source": [
    "from satmad.propagation.tle import TLE\n",
    "\n",
    "name = \"TURKSAT 4A\"\n",
    "line1 = \"1 39522U 14007A   20193.17132507  .00000144  00000-0  00000+0 0  9992\"\n",
    "line2 = \"2 39522   0.0769 271.0842 0000679 241.5624 240.5627  1.00268861 23480\"\n",
    "\n",
    "tle = TLE.from_tle(line1, line2, name)\n",
    "\n",
    "print(tle)"
   ],
   "metadata": {
    "collapsed": false,
    "pycharm": {
     "name": "#%%\n"
    }
   }
  },
  {
   "cell_type": "markdown",
   "source": [
    "This initialises the orbit from the\n",
    "[Two-Line-Element](https://celestrak.com/NORAD/documentation/tle-fmt.php) data.\n",
    "\n",
    "The next step is to propagate the orbit. In this example, we define the propagator `sgp4` with\n",
    "an output stepsize of 120 seconds. We then define an interval with a start time and a duration.\n",
    "Finally, we propagate the orbit with `gen_trajectory()`, taking the inputs of `tle` (initial orbit)\n",
    "and propagation interval. The output is the trajectory in GCRS coordinate frame."
   ],
   "metadata": {
    "collapsed": false
   }
  },
  {
   "cell_type": "code",
   "execution_count": 2,
   "outputs": [
    {
     "name": "stdout",
     "output_type": "stream",
     "text": [
      "Trajectory from 2020-07-11T00:10:00.000 to 2020-07-14T00:08:00.000 in frame gcrs. (Interpolators initialised: False)\n"
     ]
    }
   ],
   "source": [
    "from satmad.utils.timeinterval import TimeInterval\n",
    "from satmad.propagation.sgp4_propagator import SGP4Propagator\n",
    "from astropy import units as u\n",
    "from astropy.time import Time\n",
    "\n",
    "# init SGP4\n",
    "sgp4 = SGP4Propagator(stepsize=120 * u.s)\n",
    "\n",
    "#  Propagate 3 days into future\n",
    "interval = TimeInterval(Time(\"2020-07-11T00:10:00.000\", scale=\"utc\"), 3.0 * u.day)\n",
    "rv_gcrs = sgp4.gen_trajectory(tle, interval)\n",
    "\n",
    "print(rv_gcrs)"
   ],
   "metadata": {
    "collapsed": false,
    "pycharm": {
     "name": "#%%\n"
    }
   }
  },
  {
   "cell_type": "markdown",
   "source": [
    "The third step is to do some analysis with this trajectory. By definition, a geostationary orbit is *stationary*\n",
    "with respect to the Earth. For this simple example, we can check whether this assumption holds and\n",
    "how the satellite moves in the Earth-fixed frame.\n",
    "\n",
    "To this end, we should first convert the internal coordinates data in GCRS to the Earth-fixed (ITRS) coordinates.\n",
    "The next step is to set a reference value and check how much the satellite position deviate in time\n",
    "from this reference position.\n",
    "\n",
    "Note that the coordinate transformations are handled by [Astropy](https://www.astropy.org/)."
   ],
   "metadata": {
    "collapsed": false
   }
  },
  {
   "cell_type": "code",
   "execution_count": 3,
   "outputs": [
    {
     "name": "stdout",
     "output_type": "stream",
     "text": [
      "Max position deviation: 81.31610203910243 km\n",
      "Max velocity deviation: 5.909221339268976 m / s\n"
     ]
    }
   ],
   "source": [
    "# convert GCRS to ITRS\n",
    "rv_itrs = rv_gcrs.coord_list.transform_to(\"itrs\")\n",
    "\n",
    "# set reference coordinates and generate position & velocity differences\n",
    "rv_itrs_ref = rv_itrs[0]\n",
    "\n",
    "r_diff = (\n",
    "    rv_itrs.cartesian.without_differentials()\n",
    "    - rv_itrs_ref.cartesian.without_differentials()\n",
    ")\n",
    "\n",
    "v_diff = rv_itrs.velocity - rv_itrs_ref.velocity\n",
    "\n",
    "# Compute max position and velocity deviation\n",
    "print(f\"Max position deviation: {r_diff.norm().max()}\")\n",
    "print(f\"Max velocity deviation: {v_diff.norm().max().to(u.m / u.s)}\")"
   ],
   "metadata": {
    "collapsed": false,
    "pycharm": {
     "name": "#%%\n"
    }
   }
  },
  {
   "cell_type": "markdown",
   "source": [
    "This shows that the maximum deviation from the reference position was more than 80 km.\n",
    "Similarly, the maximum velocity difference was more than 5 m/s. These are not\n",
    "small differences and they are actually due to the force model assumptions and\n",
    "orbit maintenance strategy in GEO.\n",
    "\n",
    "However, we would like to understand these differences a little bit\n",
    "more and this necessitates the final step: plotting the results."
   ],
   "metadata": {
    "collapsed": false
   }
  },
  {
   "cell_type": "code",
   "execution_count": 17,
   "outputs": [
    {
     "data": {
      "text/plain": "<Figure size 432x288 with 2 Axes>",
      "image/png": "[encoded data removed]"
     },
     "metadata": {
      "needs_background": "light"
     },
     "output_type": "display_data"
    }
   ],
   "source": [
    "from astropy.visualization import time_support\n",
    "from astropy.visualization import quantity_support\n",
    "from matplotlib import pyplot as plt\n",
    "\n",
    "quantity_support()\n",
    "time_support()\n",
    "\n",
    "plt.subplot(211)\n",
    "plt.plot(rv_itrs.obstime, r_diff.norm())\n",
    "plt.subplot(212)\n",
    "plt.plot(rv_itrs.obstime, v_diff.norm().to(u.m / u.s))\n",
    "\n",
    "plt.show()"
   ],
   "metadata": {
    "collapsed": false,
    "pycharm": {
     "name": "#%%\n"
    }
   }
  },
  {
   "cell_type": "markdown",
   "source": [
    "The results show a periodic motion with respect to the initial point, as well as a linear\n",
    "departure. Any further analysis is beyond the scope of this simple tutorial.\n",
    "\n",
    "That said, we have shown the four fundamental steps of approaching a problem with SatMAD:\n",
    "initialisation, propagation, analysis and plotting the results.\n"
   ],
   "metadata": {
    "collapsed": false
   }
  }
 ],
 "metadata": {
  "kernelspec": {
   "display_name": "Python 3",
   "language": "python",
   "name": "python3"
  },
  "language_info": {
   "codemirror_mode": {
    "name": "ipython",
    "version": 2
   },
   "file_extension": ".py",
   "mimetype": "text/x-python",
   "name": "python",
   "nbconvert_exporter": "python",
   "pygments_lexer": "ipython2",
   "version": "2.7.6"
  }
 },
 "nbformat": 4,
 "nbformat_minor": 0
}