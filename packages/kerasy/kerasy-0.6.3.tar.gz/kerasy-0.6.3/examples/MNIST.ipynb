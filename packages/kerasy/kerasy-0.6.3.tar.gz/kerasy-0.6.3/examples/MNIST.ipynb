{
 "cells": [
  {
   "cell_type": "markdown",
   "metadata": {},
   "source": [
    "Trains a simple convnet on the MNIST dataset."
   ]
  },
  {
   "cell_type": "code",
   "execution_count": 1,
   "metadata": {},
   "outputs": [],
   "source": [
    "import numpy as np\n",
    "\n",
    "from kerasy.datasets import mnist\n",
    "from kerasy.models import Sequential\n",
    "from kerasy.layers import Dense, Dropout, Flatten, Conv2D, MaxPooling2D, Input\n",
    "from kerasy.utils import CategoricalEncoder"
   ]
  },
  {
   "cell_type": "code",
   "execution_count": 2,
   "metadata": {},
   "outputs": [],
   "source": [
    "# Datasets Parameters.\n",
    "num_classes = 10\n",
    "n_samples = 1_000\n",
    "\n",
    "# Training Parameters.\n",
    "batch_size = 16\n",
    "epochs = 20\n",
    "keep_prob1 = 0.75\n",
    "keep_prob2 = 0.5"
   ]
  },
  {
   "cell_type": "code",
   "execution_count": 3,
   "metadata": {},
   "outputs": [],
   "source": [
    "# input image dimensions\n",
    "img_rows, img_cols = 28, 28"
   ]
  },
  {
   "cell_type": "code",
   "execution_count": 4,
   "metadata": {},
   "outputs": [],
   "source": [
    "# the data, split between train and test sets\n",
    "(x_train, y_train), (x_test, y_test) = mnist.load_data()"
   ]
  },
  {
   "cell_type": "code",
   "execution_count": 5,
   "metadata": {},
   "outputs": [],
   "source": [
    "x_train = np.expand_dims(x_train, axis=-1)\n",
    "x_test  = np.expand_dims(x_test,  axis=-1)\n",
    "input_shape = (img_rows, img_cols, 1)"
   ]
  },
  {
   "cell_type": "code",
   "execution_count": 6,
   "metadata": {},
   "outputs": [],
   "source": [
    "x_train = x_train[:n_samples]\n",
    "y_train = y_train[:n_samples]\n",
    "x_test = x_test[:n_samples]\n",
    "y_test = y_test[:n_samples]"
   ]
  },
  {
   "cell_type": "code",
   "execution_count": 7,
   "metadata": {
    "scrolled": true
   },
   "outputs": [
    {
     "name": "stdout",
     "output_type": "stream",
     "text": [
      "x_train shape: (1000, 28, 28, 1)\n",
      "1000 train samples\n",
      "1000 test samples\n"
     ]
    }
   ],
   "source": [
    "x_train = x_train.astype('float64')\n",
    "x_test = x_test.astype('float64')\n",
    "x_train /= 255\n",
    "x_test /= 255\n",
    "print('x_train shape:', x_train.shape)\n",
    "print(x_train.shape[0], 'train samples')\n",
    "print(x_test.shape[0], 'test samples')"
   ]
  },
  {
   "cell_type": "code",
   "execution_count": 8,
   "metadata": {},
   "outputs": [
    {
     "name": "stdout",
     "output_type": "stream",
     "text": [
      "Dictionaly for Encoder is already made.\n"
     ]
    }
   ],
   "source": [
    "# convert class vectors to binary class matrices\n",
    "encoder = CategoricalEncoder()\n",
    "y_train = encoder.to_onehot(y_train, num_classes)\n",
    "y_test  = encoder.to_onehot(y_test, num_classes)"
   ]
  },
  {
   "cell_type": "code",
   "execution_count": 9,
   "metadata": {},
   "outputs": [],
   "source": [
    "model = Sequential()\n",
    "model.add(Input(input_shape=input_shape))\n",
    "model.add(Conv2D(32, kernel_size=(3, 3), activation='relu'))\n",
    "model.add(Conv2D(64, (3, 3), activation='relu'))\n",
    "model.add(MaxPooling2D(pool_size=(2, 2)))\n",
    "model.add(Dropout(keep_prob=keep_prob1))\n",
    "model.add(Flatten())\n",
    "model.add(Dense(128, activation='relu'))\n",
    "model.add(Dropout(keep_prob=keep_prob2))\n",
    "model.add(Dense(num_classes, activation='softmax'))"
   ]
  },
  {
   "cell_type": "code",
   "execution_count": 10,
   "metadata": {},
   "outputs": [
    {
     "name": "stderr",
     "output_type": "stream",
     "text": [
      "/Users/iwasakishuto/Github/portfolio/Kerasy/kerasy/engine/sequential.py:67: UserWarning: \u001b[31mKerasy Warnings\u001b[0m\n",
      "------------------------------------------------------------\n",
      "When calculating the \u001b[34mCategoricalCrossentropy\u001b[0m loss and the derivative of the \u001b[34mSoftmax\u001b[0m layer, the gradient disappears when backpropagating the actual value, so the \u001b[34mSoftmaxCategoricalCrossentropy\u001b[0m is implemented instead.\n",
      "------------------------------------------------------------\n",
      "  \"so the \\033[34mSoftmaxCategoricalCrossentropy\\033[0m is implemented instead.\\n\" + '-'*60)\n"
     ]
    }
   ],
   "source": [
    "model.compile(\n",
    "    optimizer='adagrad', \n",
    "    loss='categorical_crossentropy', \n",
    "    metrics=['categorical_accuracy']\n",
    ")"
   ]
  },
  {
   "cell_type": "code",
   "execution_count": 11,
   "metadata": {},
   "outputs": [
    {
     "name": "stdout",
     "output_type": "stream",
     "text": [
      "-----------------------------------------------------------------\n",
      "Layer (type)                 Output Shape              Param #   \n",
      "=================================================================\n",
      "input_1 (Input)              (None, 28, 28, 1)         0         \n",
      "-----------------------------------------------------------------\n",
      "conv2d_1 (Conv2D)            (None, 26, 26, 32)        320       \n",
      "-----------------------------------------------------------------\n",
      "conv2d_2 (Conv2D)            (None, 24, 24, 64)        18496     \n",
      "-----------------------------------------------------------------\n",
      "maxpooling2d_1 (MaxPooling2D (None, 12, 12, 64)        0         \n",
      "-----------------------------------------------------------------\n",
      "dropout_1 (Dropout)          (None, 12, 12, 64)        0         \n",
      "-----------------------------------------------------------------\n",
      "flatten_1 (Flatten)          (None, 9216)              0         \n",
      "-----------------------------------------------------------------\n",
      "dense_1 (Dense)              (None, 128)               1179776   \n",
      "-----------------------------------------------------------------\n",
      "dropout_2 (Dropout)          (None, 128)               0         \n",
      "-----------------------------------------------------------------\n",
      "dense_2 (Dense)              (None, 10)                1290      \n",
      "=================================================================\n",
      "Total params: 1,199,882\n",
      "Trainable params: 1,199,882\n",
      "Non-trainable params: 0\n",
      "-----------------------------------------------------------------\n"
     ]
    }
   ],
   "source": [
    "model.summary()"
   ]
  },
  {
   "cell_type": "code",
   "execution_count": 12,
   "metadata": {},
   "outputs": [
    {
     "name": "stdout",
     "output_type": "stream",
     "text": [
      "Epoch 01/20 | 63/63[####################]100.00% - 1442.691[s]   \u001b[01mcategorical_crossentropy\u001b[0m: \u001b[34m1381.319\u001b[0m, \u001b[01mcategorical_accuracy\u001b[0m: \u001b[34m54.4%\u001b[0m, \u001b[01mval_categorical_crossentropy\u001b[0m: \u001b[34m740.757\u001b[0m, \u001b[01mval_categorical_accuracy\u001b[0m: \u001b[34m78.9%\u001b[0m\n",
      "Epoch 02/20 | 63/63[####################]100.00% - 1439.734[s]   \u001b[01mcategorical_crossentropy\u001b[0m: \u001b[34m573.693\u001b[0m, \u001b[01mcategorical_accuracy\u001b[0m: \u001b[34m83.7%\u001b[0m, \u001b[01mval_categorical_crossentropy\u001b[0m: \u001b[34m584.554\u001b[0m, \u001b[01mval_categorical_accuracy\u001b[0m: \u001b[34m86.2%\u001b[0m\n",
      "Epoch 03/20 | 63/63[####################]100.00% - 1318.618[s]   \u001b[01mcategorical_crossentropy\u001b[0m: \u001b[34m405.320\u001b[0m, \u001b[01mcategorical_accuracy\u001b[0m: \u001b[34m88.2%\u001b[0m, \u001b[01mval_categorical_crossentropy\u001b[0m: \u001b[34m418.508\u001b[0m, \u001b[01mval_categorical_accuracy\u001b[0m: \u001b[34m90.4%\u001b[0m\n",
      "Epoch 04/20 | 63/63[####################]100.00% - 1010.807[s]   \u001b[01mcategorical_crossentropy\u001b[0m: \u001b[34m318.465\u001b[0m, \u001b[01mcategorical_accuracy\u001b[0m: \u001b[34m90.0%\u001b[0m, \u001b[01mval_categorical_crossentropy\u001b[0m: \u001b[34m440.983\u001b[0m, \u001b[01mval_categorical_accuracy\u001b[0m: \u001b[34m90.1%\u001b[0m\n",
      "Epoch 05/20 | 63/63[####################]100.00% - 1020.449[s]   \u001b[01mcategorical_crossentropy\u001b[0m: \u001b[34m261.625\u001b[0m, \u001b[01mcategorical_accuracy\u001b[0m: \u001b[34m92.6%\u001b[0m, \u001b[01mval_categorical_crossentropy\u001b[0m: \u001b[34m496.641\u001b[0m, \u001b[01mval_categorical_accuracy\u001b[0m: \u001b[34m89.6%\u001b[0m\n",
      "Epoch 06/20 | 63/63[####################]100.00% - 1018.260[s]   \u001b[01mcategorical_crossentropy\u001b[0m: \u001b[34m215.082\u001b[0m, \u001b[01mcategorical_accuracy\u001b[0m: \u001b[34m92.9%\u001b[0m, \u001b[01mval_categorical_crossentropy\u001b[0m: \u001b[34m419.564\u001b[0m, \u001b[01mval_categorical_accuracy\u001b[0m: \u001b[34m92.7%\u001b[0m\n",
      "Epoch 07/20 | 63/63[####################]100.00% - 1013.837[s]   \u001b[01mcategorical_crossentropy\u001b[0m: \u001b[34m168.225\u001b[0m, \u001b[01mcategorical_accuracy\u001b[0m: \u001b[34m95.0%\u001b[0m, \u001b[01mval_categorical_crossentropy\u001b[0m: \u001b[34m461.159\u001b[0m, \u001b[01mval_categorical_accuracy\u001b[0m: \u001b[34m91.4%\u001b[0m\n",
      "Epoch 08/20 | 63/63[####################]100.00% - 1013.345[s]   \u001b[01mcategorical_crossentropy\u001b[0m: \u001b[34m164.291\u001b[0m, \u001b[01mcategorical_accuracy\u001b[0m: \u001b[34m95.1%\u001b[0m, \u001b[01mval_categorical_crossentropy\u001b[0m: \u001b[34m479.793\u001b[0m, \u001b[01mval_categorical_accuracy\u001b[0m: \u001b[34m91.0%\u001b[0m\n",
      "Epoch 09/20 | 63/63[####################]100.00% - 1021.595[s]   \u001b[01mcategorical_crossentropy\u001b[0m: \u001b[34m134.688\u001b[0m, \u001b[01mcategorical_accuracy\u001b[0m: \u001b[34m96.0%\u001b[0m, \u001b[01mval_categorical_crossentropy\u001b[0m: \u001b[34m450.356\u001b[0m, \u001b[01mval_categorical_accuracy\u001b[0m: \u001b[34m91.4%\u001b[0m\n",
      "Epoch 10/20 | 63/63[####################]100.00% - 1012.004[s]   \u001b[01mcategorical_crossentropy\u001b[0m: \u001b[34m132.845\u001b[0m, \u001b[01mcategorical_accuracy\u001b[0m: \u001b[34m96.3%\u001b[0m, \u001b[01mval_categorical_crossentropy\u001b[0m: \u001b[34m449.674\u001b[0m, \u001b[01mval_categorical_accuracy\u001b[0m: \u001b[34m92.1%\u001b[0m\n",
      "Epoch 11/20 | 63/63[####################]100.00% - 1015.242[s]   \u001b[01mcategorical_crossentropy\u001b[0m: \u001b[34m113.595\u001b[0m, \u001b[01mcategorical_accuracy\u001b[0m: \u001b[34m96.2%\u001b[0m, \u001b[01mval_categorical_crossentropy\u001b[0m: \u001b[34m480.528\u001b[0m, \u001b[01mval_categorical_accuracy\u001b[0m: \u001b[34m92.1%\u001b[0m\n",
      "Epoch 12/20 | 63/63[####################]100.00% - 1015.592[s]   \u001b[01mcategorical_crossentropy\u001b[0m: \u001b[34m93.535\u001b[0m, \u001b[01mcategorical_accuracy\u001b[0m: \u001b[34m96.8%\u001b[0m, \u001b[01mval_categorical_crossentropy\u001b[0m: \u001b[34m497.775\u001b[0m, \u001b[01mval_categorical_accuracy\u001b[0m: \u001b[34m91.7%\u001b[0m\n",
      "Epoch 13/20 | 63/63[####################]100.00% - 1021.730[s]   \u001b[01mcategorical_crossentropy\u001b[0m: \u001b[34m95.980\u001b[0m, \u001b[01mcategorical_accuracy\u001b[0m: \u001b[34m96.9%\u001b[0m, \u001b[01mval_categorical_crossentropy\u001b[0m: \u001b[34m477.428\u001b[0m, \u001b[01mval_categorical_accuracy\u001b[0m: \u001b[34m91.8%\u001b[0m\n",
      "Epoch 14/20 | 63/63[####################]100.00% - 1020.249[s]   \u001b[01mcategorical_crossentropy\u001b[0m: \u001b[34m68.847\u001b[0m, \u001b[01mcategorical_accuracy\u001b[0m: \u001b[34m98.3%\u001b[0m, \u001b[01mval_categorical_crossentropy\u001b[0m: \u001b[34m520.389\u001b[0m, \u001b[01mval_categorical_accuracy\u001b[0m: \u001b[34m91.4%\u001b[0m\n",
      "Epoch 15/20 | 63/63[####################]100.00% - 1020.915[s]   \u001b[01mcategorical_crossentropy\u001b[0m: \u001b[34m84.820\u001b[0m, \u001b[01mcategorical_accuracy\u001b[0m: \u001b[34m96.9%\u001b[0m, \u001b[01mval_categorical_crossentropy\u001b[0m: \u001b[34m517.873\u001b[0m, \u001b[01mval_categorical_accuracy\u001b[0m: \u001b[34m91.9%\u001b[0m\n",
      "Epoch 16/20 | 63/63[####################]100.00% - 1019.250[s]   \u001b[01mcategorical_crossentropy\u001b[0m: \u001b[34m70.326\u001b[0m, \u001b[01mcategorical_accuracy\u001b[0m: \u001b[34m97.7%\u001b[0m, \u001b[01mval_categorical_crossentropy\u001b[0m: \u001b[34m509.199\u001b[0m, \u001b[01mval_categorical_accuracy\u001b[0m: \u001b[34m92.7%\u001b[0m\n",
      "Epoch 17/20 | 63/63[####################]100.00% - 1012.677[s]   \u001b[01mcategorical_crossentropy\u001b[0m: \u001b[34m71.140\u001b[0m, \u001b[01mcategorical_accuracy\u001b[0m: \u001b[34m97.4%\u001b[0m, \u001b[01mval_categorical_crossentropy\u001b[0m: \u001b[34m475.805\u001b[0m, \u001b[01mval_categorical_accuracy\u001b[0m: \u001b[34m92.6%\u001b[0m\n",
      "Epoch 18/20 | 63/63[####################]100.00% - 1013.460[s]   \u001b[01mcategorical_crossentropy\u001b[0m: \u001b[34m71.360\u001b[0m, \u001b[01mcategorical_accuracy\u001b[0m: \u001b[34m98.0%\u001b[0m, \u001b[01mval_categorical_crossentropy\u001b[0m: \u001b[34m548.380\u001b[0m, \u001b[01mval_categorical_accuracy\u001b[0m: \u001b[34m92.2%\u001b[0m\n",
      "Epoch 19/20 | 63/63[####################]100.00% - 1043.271[s]   \u001b[01mcategorical_crossentropy\u001b[0m: \u001b[34m65.436\u001b[0m, \u001b[01mcategorical_accuracy\u001b[0m: \u001b[34m97.8%\u001b[0m, \u001b[01mval_categorical_crossentropy\u001b[0m: \u001b[34m480.036\u001b[0m, \u001b[01mval_categorical_accuracy\u001b[0m: \u001b[34m92.5%\u001b[0m\n",
      "Epoch 20/20 | 63/63[####################]100.00% - 1163.611[s]   \u001b[01mcategorical_crossentropy\u001b[0m: \u001b[34m47.725\u001b[0m, \u001b[01mcategorical_accuracy\u001b[0m: \u001b[34m98.5%\u001b[0m, \u001b[01mval_categorical_crossentropy\u001b[0m: \u001b[34m519.467\u001b[0m, \u001b[01mval_categorical_accuracy\u001b[0m: \u001b[34m92.3%\u001b[0m\n"
     ]
    }
   ],
   "source": [
    "model.fit(\n",
    "    x_train, y_train,\n",
    "    batch_size=batch_size,\n",
    "    epochs=epochs,\n",
    "    verbose=1,\n",
    "    validation_data=(x_test, y_test)\n",
    ")"
   ]
  },
  {
   "cell_type": "code",
   "execution_count": 13,
   "metadata": {},
   "outputs": [],
   "source": [
    "model.save_weights(\"MNIST_example_notebook_adagrad.pickle\")"
   ]
  },
  {
   "cell_type": "code",
   "execution_count": null,
   "metadata": {},
   "outputs": [],
   "source": []
  }
 ],
 "metadata": {
  "hide_input": false,
  "kernelspec": {
   "display_name": "Python 3",
   "language": "python",
   "name": "python3"
  },
  "language_info": {
   "codemirror_mode": {
    "name": "ipython",
    "version": 3
   },
   "file_extension": ".py",
   "mimetype": "text/x-python",
   "name": "python",
   "nbconvert_exporter": "python",
   "pygments_lexer": "ipython3",
   "version": "3.6.8"
  }
 },
 "nbformat": 4,
 "nbformat_minor": 2
}
