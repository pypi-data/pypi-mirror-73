{
 "metadata": {
  "name": "",
  "parameterise": {
   "c": {
    "display_name": "Sea"
   }
  },
  "signature": "sha256:5f8a558659fdb1bb35996653f9268523874b1f2949f2ed792d771372cfb45b37"
 },
 "nbformat": 3,
 "nbformat_minor": 0,
 "worksheets": [
  {
   "cells": [
    {
     "cell_type": "code",
     "collapsed": false,
     "input": [
      "a = \"Some text\"\n",
      "b = 12\n",
      "c = 14.0\n",
      "d = False\n",
      "e = [0, 1.0, True, \"text\", [0, 1]]\n",
      "f = {0: 0, \"item\": True, \"dict\": {0: \"text\"}}\n",
      "print(\"This should be ignored\")"
     ],
     "language": "python",
     "metadata": {},
     "outputs": [
      {
       "output_type": "stream",
       "stream": "stdout",
       "text": [
        "This should be ignored\n"
       ]
      }
     ],
     "prompt_number": 1
    },
    {
     "cell_type": "code",
     "collapsed": false,
     "input": [
      "a, b, c, d"
     ],
     "language": "python",
     "metadata": {},
     "outputs": [
      {
       "metadata": {},
       "output_type": "pyout",
       "prompt_number": 2,
       "text": [
        "('Some text', 12, 14.0, False)"
       ]
      }
     ],
     "prompt_number": 2
    }
   ],
   "metadata": {}
  }
 ]
}
