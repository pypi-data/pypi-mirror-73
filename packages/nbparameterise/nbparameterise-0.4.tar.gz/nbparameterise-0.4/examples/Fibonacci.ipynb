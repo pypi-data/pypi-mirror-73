{
 "cells": [
  {
   "cell_type": "markdown",
   "metadata": {},
   "source": [
    "# Fibonacci numbers\n",
    "\n",
    "Fibonacci numbers are a famous sequence where each number is made by adding together the previous two, starting with 0 and 1.\n",
    "\n",
    "What happens if we start with different input values?"
   ]
  },
  {
   "cell_type": "code",
   "execution_count": null,
   "metadata": {},
   "outputs": [],
   "source": [
    "F0 = 0\n",
    "F1 = 1\n",
    "N = 20  # How many numbers to generate"
   ]
  },
  {
   "cell_type": "code",
   "execution_count": null,
   "metadata": {},
   "outputs": [],
   "source": [
    "print(F0)\n",
    "a, b = F0, F1\n",
    "for _ in range(N):\n",
    "    a, b = b, a + b\n",
    "    print(a)"
   ]
  },
  {
   "cell_type": "markdown",
   "metadata": {},
   "source": [
    "Dividing consecutive Fibonacci numbers gives numbers which get closer to the [golden ratio](https://en.wikipedia.org/wiki/Golden_ratio)."
   ]
  },
  {
   "cell_type": "code",
   "execution_count": null,
   "metadata": {},
   "outputs": [],
   "source": [
    "ratios = []\n",
    "a, b = F0, F1\n",
    "for _ in range(N):\n",
    "    a, b = b, a + b\n",
    "    ratios.append(b / a)"
   ]
  },
  {
   "cell_type": "code",
   "execution_count": null,
   "metadata": {},
   "outputs": [],
   "source": [
    "%matplotlib inline\n",
    "import matplotlib.pyplot as plt"
   ]
  },
  {
   "cell_type": "code",
   "execution_count": null,
   "metadata": {},
   "outputs": [],
   "source": [
    "from math import sqrt\n",
    "plt.plot(ratios)\n",
    "Φ = (1 + sqrt(5)) / 2   # The golden ratio\n",
    "plt.hlines(Φ, xmin=0, xmax=N, linestyles='dotted')"
   ]
  }
 ],
 "metadata": {
  "kernelspec": {
   "display_name": "Python 3",
   "language": "python",
   "name": "python3"
  },
  "language_info": {
   "codemirror_mode": {
    "name": "ipython",
    "version": 3
   },
   "file_extension": ".py",
   "mimetype": "text/x-python",
   "name": "python",
   "nbconvert_exporter": "python",
   "pygments_lexer": "ipython3",
   "version": "3.6.5"
  }
 },
 "nbformat": 4,
 "nbformat_minor": 2
}
