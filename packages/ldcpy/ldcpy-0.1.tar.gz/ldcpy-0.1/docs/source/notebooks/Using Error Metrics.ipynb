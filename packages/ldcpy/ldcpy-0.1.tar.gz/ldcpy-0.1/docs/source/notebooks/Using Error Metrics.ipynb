{
 "cells": [
  {
   "cell_type": "markdown",
   "metadata": {},
   "source": [
    "# How to use ErrorMetrics\n",
    "First we need to import the library"
   ]
  },
  {
   "cell_type": "code",
   "execution_count": 2,
   "metadata": {},
   "outputs": [],
   "source": [
    "# Add ldcpy root to system path\n",
    "import sys\n",
    "sys.path.insert(0,'../../../')\n",
    "\n",
    "import ldcpy\n",
    "# Import ldcpy package\n",
    "# Autoreloads package everytime the package is called, so changes to code will be reflected in the notebook if the above sys.path.insert(...) line is uncommented.\n",
    "%load_ext autoreload\n",
    "%autoreload 2\n",
    "import ldcpy.plot as lp\n",
    "\n",
    "%matplotlib inline"
   ]
  },
  {
   "cell_type": "markdown",
   "metadata": {},
   "source": [
    "Let's load some library and data"
   ]
  },
  {
   "cell_type": "code",
   "execution_count": 4,
   "metadata": {},
   "outputs": [
    {
     "name": "stdout",
     "output_type": "stream",
     "text": [
      "chunks set to (by user)  {'time': 10}\n",
      "dataset size in GB 0.01\n",
      "\n"
     ]
    }
   ],
   "source": [
    "ds = ldcpy.open_datasets([\"TS\"],['../../../data/cam-fv/orig.TS.10days.nc', \n",
    "                                '../../../data/cam-fv/zfp1.0.TS.10days.nc',\n",
    "                                '../../../data/cam-fv/zfp1e-1.TS.10days.nc', \n",
    "                                '../../../data/cam-fv/zfp1e-3.TS.10days.nc'],\n",
    "                         ['orig', 'zfp_1.0', 'zfp_1e-1', 'zfp_1e-3'], chunks = {'time': 10})"
   ]
  },
  {
   "cell_type": "markdown",
   "metadata": {},
   "source": [
    "Let's look at out new dataset:"
   ]
  },
  {
   "cell_type": "code",
   "execution_count": 5,
   "metadata": {},
   "outputs": [
    {
     "name": "stdout",
     "output_type": "stream",
     "text": [
      "xarray.Dataset {\n",
      "dimensions:\n",
      "\tcollection = 4 ;\n",
      "\tilev = 31 ;\n",
      "\tlat = 192 ;\n",
      "\tlev = 30 ;\n",
      "\tlon = 288 ;\n",
      "\tnbnd = 2 ;\n",
      "\ttime = 10 ;\n",
      "\n",
      "variables:\n",
      "\tfloat64 hybm(lev) ;\n",
      "\t\thybm:long_name = hybrid B coefficient at layer midpoints ;\n",
      "\tfloat64 hyai(ilev) ;\n",
      "\t\thyai:long_name = hybrid A coefficient at layer interfaces ;\n",
      "\tobject time_bnds(time, nbnd) ;\n",
      "\t\ttime_bnds:long_name = time interval endpoints ;\n",
      "\tfloat64 P0() ;\n",
      "\t\tP0:long_name = reference pressure ;\n",
      "\t\tP0:units = Pa ;\n",
      "\tfloat64 hyam(lev) ;\n",
      "\t\thyam:long_name = hybrid A coefficient at layer midpoints ;\n",
      "\tfloat64 hybi(ilev) ;\n",
      "\t\thybi:long_name = hybrid B coefficient at layer interfaces ;\n",
      "\tfloat64 gw(lat) ;\n",
      "\t\tgw:long_name = gauss weights ;\n",
      "\tobject time(time) ;\n",
      "\t\ttime:long_name = time ;\n",
      "\t\ttime:bounds = time_bnds ;\n",
      "\tfloat64 lon(lon) ;\n",
      "\t\tlon:long_name = longitude ;\n",
      "\t\tlon:units = degrees_east ;\n",
      "\tfloat64 ilev(ilev) ;\n",
      "\t\tilev:long_name = hybrid level at interfaces (1000*(A+B)) ;\n",
      "\t\tilev:units = level ;\n",
      "\t\tilev:positive = down ;\n",
      "\t\tilev:standard_name = atmosphere_hybrid_sigma_pressure_coordinate ;\n",
      "\t\tilev:formula_terms = a: hyai b: hybi p0: P0 ps: PS ;\n",
      "\tfloat64 lev(lev) ;\n",
      "\t\tlev:long_name = hybrid level at midpoints (1000*(A+B)) ;\n",
      "\t\tlev:units = level ;\n",
      "\t\tlev:positive = down ;\n",
      "\t\tlev:standard_name = atmosphere_hybrid_sigma_pressure_coordinate ;\n",
      "\t\tlev:formula_terms = a: hyam b: hybm p0: P0 ps: PS ;\n",
      "\tfloat64 lat(lat) ;\n",
      "\t\tlat:long_name = latitude ;\n",
      "\t\tlat:units = degrees_north ;\n",
      "\tfloat32 TS(collection, time, lat, lon) ;\n",
      "\t\tTS:units = K ;\n",
      "\t\tTS:long_name = Surface temperature (radiative) ;\n",
      "\t\tTS:cell_methods = time: mean ;\n",
      "\t<U8 collection(collection) ;\n",
      "\n",
      "// global attributes:\n",
      "\t:Conventions = CF-1.0 ;\n",
      "\t:source = CAM ;\n",
      "\t:case = b.e11.B20TRC5CNBDRD.f09_g16.030 ;\n",
      "\t:title = UNSET ;\n",
      "\t:logname = mai ;\n",
      "\t:host = ys0110 ;\n",
      "\t:Version = $Name$ ;\n",
      "\t:revision_Id = $Id$ ;\n",
      "\t:initial_file = b.e11.B20TRC5CNBDRD.f09_g16.001.cam.i.1920-01-01-00000.nc ;\n",
      "\t:topography_file = /glade/p/cesmdata/cseg/inputdata/atm/cam/topo/USGS-gtopo30_0.9x1.25_remap_c051027.nc ;\n",
      "\t:history = Thu Jul  9 14:10:11 2020: ncks -d time,0,9,1 orig.TS.100days.nc orig.TS.10days.nc\n",
      "Wed Oct 16 12:10:39 2019: ncks -d time,0,99,1 -v TS,gw,lat,lon,lev b.e11.B20TRC5CNBDRD.f09_g16.030.cam.h1.TS.19200101-20051231.nc orig.TS.100days.nc\n",
      "Wed Oct 29 04:21:35 2014: ncks -F -d time,1,31390 b.e11.B20TRC5CNBDRD.f09_g16.030.cam.h1.TS.19200101-20051231.nc S_b.e11.B20TRC5CNBDRD.f09_g16.030.cam.h1.TS.19200101-20051231.nc ;\n",
      "\t:NCO = netCDF Operators version 4.7.9 (Homepage = http://nco.sf.net, Code = http://github.com/nco/nco) ;\n",
      "}"
     ]
    }
   ],
   "source": [
    "ds.info()"
   ]
  },
  {
   "cell_type": "markdown",
   "metadata": {},
   "source": [
    "Now we'd like to do some comparisons with the metrics..."
   ]
  },
  {
   "cell_type": "code",
   "execution_count": 10,
   "metadata": {},
   "outputs": [
    {
     "name": "stdout",
     "output_type": "stream",
     "text": [
      "chucks set to (default) {'time', 50}\n"
     ]
    },
    {
     "ename": "FileNotFoundError",
     "evalue": "[Errno 2] No such file or directory: b'/Users/abaker/alli/code-repo/ldcpy/data/cam-fv/c.fpzip,cam-fv.T.3months.nc'",
     "output_type": "error",
     "traceback": [
      "\u001b[0;31m---------------------------------------------------------------------------\u001b[0m",
      "\u001b[0;31mKeyError\u001b[0m                                  Traceback (most recent call last)",
      "\u001b[0;32m~/anaconda3/envs/ldcpy/lib/python3.8/site-packages/xarray/backends/file_manager.py\u001b[0m in \u001b[0;36m_acquire_with_cache_info\u001b[0;34m(self, needs_lock)\u001b[0m\n\u001b[1;32m    197\u001b[0m             \u001b[0;32mtry\u001b[0m\u001b[0;34m:\u001b[0m\u001b[0;34m\u001b[0m\u001b[0;34m\u001b[0m\u001b[0m\n\u001b[0;32m--> 198\u001b[0;31m                 \u001b[0mfile\u001b[0m \u001b[0;34m=\u001b[0m \u001b[0mself\u001b[0m\u001b[0;34m.\u001b[0m\u001b[0m_cache\u001b[0m\u001b[0;34m[\u001b[0m\u001b[0mself\u001b[0m\u001b[0;34m.\u001b[0m\u001b[0m_key\u001b[0m\u001b[0;34m]\u001b[0m\u001b[0;34m\u001b[0m\u001b[0;34m\u001b[0m\u001b[0m\n\u001b[0m\u001b[1;32m    199\u001b[0m             \u001b[0;32mexcept\u001b[0m \u001b[0mKeyError\u001b[0m\u001b[0;34m:\u001b[0m\u001b[0;34m\u001b[0m\u001b[0;34m\u001b[0m\u001b[0m\n",
      "\u001b[0;32m~/anaconda3/envs/ldcpy/lib/python3.8/site-packages/xarray/backends/lru_cache.py\u001b[0m in \u001b[0;36m__getitem__\u001b[0;34m(self, key)\u001b[0m\n\u001b[1;32m     52\u001b[0m         \u001b[0;32mwith\u001b[0m \u001b[0mself\u001b[0m\u001b[0;34m.\u001b[0m\u001b[0m_lock\u001b[0m\u001b[0;34m:\u001b[0m\u001b[0;34m\u001b[0m\u001b[0;34m\u001b[0m\u001b[0m\n\u001b[0;32m---> 53\u001b[0;31m             \u001b[0mvalue\u001b[0m \u001b[0;34m=\u001b[0m \u001b[0mself\u001b[0m\u001b[0;34m.\u001b[0m\u001b[0m_cache\u001b[0m\u001b[0;34m[\u001b[0m\u001b[0mkey\u001b[0m\u001b[0;34m]\u001b[0m\u001b[0;34m\u001b[0m\u001b[0;34m\u001b[0m\u001b[0m\n\u001b[0m\u001b[1;32m     54\u001b[0m             \u001b[0mself\u001b[0m\u001b[0;34m.\u001b[0m\u001b[0m_cache\u001b[0m\u001b[0;34m.\u001b[0m\u001b[0mmove_to_end\u001b[0m\u001b[0;34m(\u001b[0m\u001b[0mkey\u001b[0m\u001b[0;34m)\u001b[0m\u001b[0;34m\u001b[0m\u001b[0;34m\u001b[0m\u001b[0m\n",
      "\u001b[0;31mKeyError\u001b[0m: [<class 'netCDF4._netCDF4.Dataset'>, ('/Users/abaker/alli/code-repo/ldcpy/data/cam-fv/c.fpzip,cam-fv.T.3months.nc',), 'r', (('clobber', True), ('diskless', False), ('format', 'NETCDF4'), ('persist', False))]",
      "\nDuring handling of the above exception, another exception occurred:\n",
      "\u001b[0;31mFileNotFoundError\u001b[0m                         Traceback (most recent call last)",
      "\u001b[0;32m<ipython-input-10-db97b1fb7dcf>\u001b[0m in \u001b[0;36m<module>\u001b[0;34m\u001b[0m\n\u001b[0;32m----> 1\u001b[0;31m ds3 = ldcpy.open_datasets([\"T\"],['../../../data/cam-fv/cam-fv.T.3months.nc', \n\u001b[0m\u001b[1;32m      2\u001b[0m                                  '../../../data/cam-fv/c.fpzip,cam-fv.T.3months.nc'], \n\u001b[1;32m      3\u001b[0m                           ['orig', 'comp'])\n",
      "\u001b[0;32m~/alli/code-repo/ldcpy/ldcpy/util.py\u001b[0m in \u001b[0;36mopen_datasets\u001b[0;34m(varnames, list_of_files, labels, **kwargs)\u001b[0m\n\u001b[1;32m     43\u001b[0m     \u001b[0;31m# check that varname exists in each file\u001b[0m\u001b[0;34m\u001b[0m\u001b[0;34m\u001b[0m\u001b[0;34m\u001b[0m\u001b[0m\n\u001b[1;32m     44\u001b[0m     \u001b[0;32mfor\u001b[0m \u001b[0mfilename\u001b[0m \u001b[0;32min\u001b[0m \u001b[0mlist_of_files\u001b[0m\u001b[0;34m:\u001b[0m\u001b[0;34m\u001b[0m\u001b[0;34m\u001b[0m\u001b[0m\n\u001b[0;32m---> 45\u001b[0;31m         \u001b[0mds_check\u001b[0m \u001b[0;34m=\u001b[0m \u001b[0mxr\u001b[0m\u001b[0;34m.\u001b[0m\u001b[0mopen_dataset\u001b[0m\u001b[0;34m(\u001b[0m\u001b[0mfilename\u001b[0m\u001b[0;34m)\u001b[0m\u001b[0;34m\u001b[0m\u001b[0;34m\u001b[0m\u001b[0m\n\u001b[0m\u001b[1;32m     46\u001b[0m         \u001b[0;32mfor\u001b[0m \u001b[0mthisvar\u001b[0m \u001b[0;32min\u001b[0m \u001b[0mvarnames\u001b[0m\u001b[0;34m:\u001b[0m\u001b[0;34m\u001b[0m\u001b[0;34m\u001b[0m\u001b[0m\n\u001b[1;32m     47\u001b[0m             \u001b[0;32mif\u001b[0m \u001b[0mthisvar\u001b[0m \u001b[0;32mnot\u001b[0m \u001b[0;32min\u001b[0m \u001b[0mds_check\u001b[0m\u001b[0;34m.\u001b[0m\u001b[0mvariables\u001b[0m\u001b[0;34m:\u001b[0m\u001b[0;34m\u001b[0m\u001b[0;34m\u001b[0m\u001b[0m\n",
      "\u001b[0;32m~/anaconda3/envs/ldcpy/lib/python3.8/site-packages/xarray/backends/api.py\u001b[0m in \u001b[0;36mopen_dataset\u001b[0;34m(filename_or_obj, group, decode_cf, mask_and_scale, decode_times, autoclose, concat_characters, decode_coords, engine, chunks, lock, cache, drop_variables, backend_kwargs, use_cftime)\u001b[0m\n\u001b[1;32m    499\u001b[0m             \u001b[0mengine\u001b[0m \u001b[0;34m=\u001b[0m \u001b[0m_get_default_engine\u001b[0m\u001b[0;34m(\u001b[0m\u001b[0mfilename_or_obj\u001b[0m\u001b[0;34m,\u001b[0m \u001b[0mallow_remote\u001b[0m\u001b[0;34m=\u001b[0m\u001b[0;32mTrue\u001b[0m\u001b[0;34m)\u001b[0m\u001b[0;34m\u001b[0m\u001b[0;34m\u001b[0m\u001b[0m\n\u001b[1;32m    500\u001b[0m         \u001b[0;32mif\u001b[0m \u001b[0mengine\u001b[0m \u001b[0;34m==\u001b[0m \u001b[0;34m\"netcdf4\"\u001b[0m\u001b[0;34m:\u001b[0m\u001b[0;34m\u001b[0m\u001b[0;34m\u001b[0m\u001b[0m\n\u001b[0;32m--> 501\u001b[0;31m             store = backends.NetCDF4DataStore.open(\n\u001b[0m\u001b[1;32m    502\u001b[0m                 \u001b[0mfilename_or_obj\u001b[0m\u001b[0;34m,\u001b[0m \u001b[0mgroup\u001b[0m\u001b[0;34m=\u001b[0m\u001b[0mgroup\u001b[0m\u001b[0;34m,\u001b[0m \u001b[0mlock\u001b[0m\u001b[0;34m=\u001b[0m\u001b[0mlock\u001b[0m\u001b[0;34m,\u001b[0m \u001b[0;34m**\u001b[0m\u001b[0mbackend_kwargs\u001b[0m\u001b[0;34m\u001b[0m\u001b[0;34m\u001b[0m\u001b[0m\n\u001b[1;32m    503\u001b[0m             )\n",
      "\u001b[0;32m~/anaconda3/envs/ldcpy/lib/python3.8/site-packages/xarray/backends/netCDF4_.py\u001b[0m in \u001b[0;36mopen\u001b[0;34m(cls, filename, mode, format, group, clobber, diskless, persist, lock, lock_maker, autoclose)\u001b[0m\n\u001b[1;32m    356\u001b[0m             \u001b[0mnetCDF4\u001b[0m\u001b[0;34m.\u001b[0m\u001b[0mDataset\u001b[0m\u001b[0;34m,\u001b[0m \u001b[0mfilename\u001b[0m\u001b[0;34m,\u001b[0m \u001b[0mmode\u001b[0m\u001b[0;34m=\u001b[0m\u001b[0mmode\u001b[0m\u001b[0;34m,\u001b[0m \u001b[0mkwargs\u001b[0m\u001b[0;34m=\u001b[0m\u001b[0mkwargs\u001b[0m\u001b[0;34m\u001b[0m\u001b[0;34m\u001b[0m\u001b[0m\n\u001b[1;32m    357\u001b[0m         )\n\u001b[0;32m--> 358\u001b[0;31m         \u001b[0;32mreturn\u001b[0m \u001b[0mcls\u001b[0m\u001b[0;34m(\u001b[0m\u001b[0mmanager\u001b[0m\u001b[0;34m,\u001b[0m \u001b[0mgroup\u001b[0m\u001b[0;34m=\u001b[0m\u001b[0mgroup\u001b[0m\u001b[0;34m,\u001b[0m \u001b[0mmode\u001b[0m\u001b[0;34m=\u001b[0m\u001b[0mmode\u001b[0m\u001b[0;34m,\u001b[0m \u001b[0mlock\u001b[0m\u001b[0;34m=\u001b[0m\u001b[0mlock\u001b[0m\u001b[0;34m,\u001b[0m \u001b[0mautoclose\u001b[0m\u001b[0;34m=\u001b[0m\u001b[0mautoclose\u001b[0m\u001b[0;34m)\u001b[0m\u001b[0;34m\u001b[0m\u001b[0;34m\u001b[0m\u001b[0m\n\u001b[0m\u001b[1;32m    359\u001b[0m \u001b[0;34m\u001b[0m\u001b[0m\n\u001b[1;32m    360\u001b[0m     \u001b[0;32mdef\u001b[0m \u001b[0m_acquire\u001b[0m\u001b[0;34m(\u001b[0m\u001b[0mself\u001b[0m\u001b[0;34m,\u001b[0m \u001b[0mneeds_lock\u001b[0m\u001b[0;34m=\u001b[0m\u001b[0;32mTrue\u001b[0m\u001b[0;34m)\u001b[0m\u001b[0;34m:\u001b[0m\u001b[0;34m\u001b[0m\u001b[0;34m\u001b[0m\u001b[0m\n",
      "\u001b[0;32m~/anaconda3/envs/ldcpy/lib/python3.8/site-packages/xarray/backends/netCDF4_.py\u001b[0m in \u001b[0;36m__init__\u001b[0;34m(self, manager, group, mode, lock, autoclose)\u001b[0m\n\u001b[1;32m    312\u001b[0m         \u001b[0mself\u001b[0m\u001b[0;34m.\u001b[0m\u001b[0m_group\u001b[0m \u001b[0;34m=\u001b[0m \u001b[0mgroup\u001b[0m\u001b[0;34m\u001b[0m\u001b[0;34m\u001b[0m\u001b[0m\n\u001b[1;32m    313\u001b[0m         \u001b[0mself\u001b[0m\u001b[0;34m.\u001b[0m\u001b[0m_mode\u001b[0m \u001b[0;34m=\u001b[0m \u001b[0mmode\u001b[0m\u001b[0;34m\u001b[0m\u001b[0;34m\u001b[0m\u001b[0m\n\u001b[0;32m--> 314\u001b[0;31m         \u001b[0mself\u001b[0m\u001b[0;34m.\u001b[0m\u001b[0mformat\u001b[0m \u001b[0;34m=\u001b[0m \u001b[0mself\u001b[0m\u001b[0;34m.\u001b[0m\u001b[0mds\u001b[0m\u001b[0;34m.\u001b[0m\u001b[0mdata_model\u001b[0m\u001b[0;34m\u001b[0m\u001b[0;34m\u001b[0m\u001b[0m\n\u001b[0m\u001b[1;32m    315\u001b[0m         \u001b[0mself\u001b[0m\u001b[0;34m.\u001b[0m\u001b[0m_filename\u001b[0m \u001b[0;34m=\u001b[0m \u001b[0mself\u001b[0m\u001b[0;34m.\u001b[0m\u001b[0mds\u001b[0m\u001b[0;34m.\u001b[0m\u001b[0mfilepath\u001b[0m\u001b[0;34m(\u001b[0m\u001b[0;34m)\u001b[0m\u001b[0;34m\u001b[0m\u001b[0;34m\u001b[0m\u001b[0m\n\u001b[1;32m    316\u001b[0m         \u001b[0mself\u001b[0m\u001b[0;34m.\u001b[0m\u001b[0mis_remote\u001b[0m \u001b[0;34m=\u001b[0m \u001b[0mis_remote_uri\u001b[0m\u001b[0;34m(\u001b[0m\u001b[0mself\u001b[0m\u001b[0;34m.\u001b[0m\u001b[0m_filename\u001b[0m\u001b[0;34m)\u001b[0m\u001b[0;34m\u001b[0m\u001b[0;34m\u001b[0m\u001b[0m\n",
      "\u001b[0;32m~/anaconda3/envs/ldcpy/lib/python3.8/site-packages/xarray/backends/netCDF4_.py\u001b[0m in \u001b[0;36mds\u001b[0;34m(self)\u001b[0m\n\u001b[1;32m    365\u001b[0m     \u001b[0;34m@\u001b[0m\u001b[0mproperty\u001b[0m\u001b[0;34m\u001b[0m\u001b[0;34m\u001b[0m\u001b[0m\n\u001b[1;32m    366\u001b[0m     \u001b[0;32mdef\u001b[0m \u001b[0mds\u001b[0m\u001b[0;34m(\u001b[0m\u001b[0mself\u001b[0m\u001b[0;34m)\u001b[0m\u001b[0;34m:\u001b[0m\u001b[0;34m\u001b[0m\u001b[0;34m\u001b[0m\u001b[0m\n\u001b[0;32m--> 367\u001b[0;31m         \u001b[0;32mreturn\u001b[0m \u001b[0mself\u001b[0m\u001b[0;34m.\u001b[0m\u001b[0m_acquire\u001b[0m\u001b[0;34m(\u001b[0m\u001b[0;34m)\u001b[0m\u001b[0;34m\u001b[0m\u001b[0;34m\u001b[0m\u001b[0m\n\u001b[0m\u001b[1;32m    368\u001b[0m \u001b[0;34m\u001b[0m\u001b[0m\n\u001b[1;32m    369\u001b[0m     \u001b[0;32mdef\u001b[0m \u001b[0mopen_store_variable\u001b[0m\u001b[0;34m(\u001b[0m\u001b[0mself\u001b[0m\u001b[0;34m,\u001b[0m \u001b[0mname\u001b[0m\u001b[0;34m,\u001b[0m \u001b[0mvar\u001b[0m\u001b[0;34m)\u001b[0m\u001b[0;34m:\u001b[0m\u001b[0;34m\u001b[0m\u001b[0;34m\u001b[0m\u001b[0m\n",
      "\u001b[0;32m~/anaconda3/envs/ldcpy/lib/python3.8/site-packages/xarray/backends/netCDF4_.py\u001b[0m in \u001b[0;36m_acquire\u001b[0;34m(self, needs_lock)\u001b[0m\n\u001b[1;32m    359\u001b[0m \u001b[0;34m\u001b[0m\u001b[0m\n\u001b[1;32m    360\u001b[0m     \u001b[0;32mdef\u001b[0m \u001b[0m_acquire\u001b[0m\u001b[0;34m(\u001b[0m\u001b[0mself\u001b[0m\u001b[0;34m,\u001b[0m \u001b[0mneeds_lock\u001b[0m\u001b[0;34m=\u001b[0m\u001b[0;32mTrue\u001b[0m\u001b[0;34m)\u001b[0m\u001b[0;34m:\u001b[0m\u001b[0;34m\u001b[0m\u001b[0;34m\u001b[0m\u001b[0m\n\u001b[0;32m--> 361\u001b[0;31m         \u001b[0;32mwith\u001b[0m \u001b[0mself\u001b[0m\u001b[0;34m.\u001b[0m\u001b[0m_manager\u001b[0m\u001b[0;34m.\u001b[0m\u001b[0macquire_context\u001b[0m\u001b[0;34m(\u001b[0m\u001b[0mneeds_lock\u001b[0m\u001b[0;34m)\u001b[0m \u001b[0;32mas\u001b[0m \u001b[0mroot\u001b[0m\u001b[0;34m:\u001b[0m\u001b[0;34m\u001b[0m\u001b[0;34m\u001b[0m\u001b[0m\n\u001b[0m\u001b[1;32m    362\u001b[0m             \u001b[0mds\u001b[0m \u001b[0;34m=\u001b[0m \u001b[0m_nc4_require_group\u001b[0m\u001b[0;34m(\u001b[0m\u001b[0mroot\u001b[0m\u001b[0;34m,\u001b[0m \u001b[0mself\u001b[0m\u001b[0;34m.\u001b[0m\u001b[0m_group\u001b[0m\u001b[0;34m,\u001b[0m \u001b[0mself\u001b[0m\u001b[0;34m.\u001b[0m\u001b[0m_mode\u001b[0m\u001b[0;34m)\u001b[0m\u001b[0;34m\u001b[0m\u001b[0;34m\u001b[0m\u001b[0m\n\u001b[1;32m    363\u001b[0m         \u001b[0;32mreturn\u001b[0m \u001b[0mds\u001b[0m\u001b[0;34m\u001b[0m\u001b[0;34m\u001b[0m\u001b[0m\n",
      "\u001b[0;32m~/anaconda3/envs/ldcpy/lib/python3.8/contextlib.py\u001b[0m in \u001b[0;36m__enter__\u001b[0;34m(self)\u001b[0m\n\u001b[1;32m    111\u001b[0m         \u001b[0;32mdel\u001b[0m \u001b[0mself\u001b[0m\u001b[0;34m.\u001b[0m\u001b[0margs\u001b[0m\u001b[0;34m,\u001b[0m \u001b[0mself\u001b[0m\u001b[0;34m.\u001b[0m\u001b[0mkwds\u001b[0m\u001b[0;34m,\u001b[0m \u001b[0mself\u001b[0m\u001b[0;34m.\u001b[0m\u001b[0mfunc\u001b[0m\u001b[0;34m\u001b[0m\u001b[0;34m\u001b[0m\u001b[0m\n\u001b[1;32m    112\u001b[0m         \u001b[0;32mtry\u001b[0m\u001b[0;34m:\u001b[0m\u001b[0;34m\u001b[0m\u001b[0;34m\u001b[0m\u001b[0m\n\u001b[0;32m--> 113\u001b[0;31m             \u001b[0;32mreturn\u001b[0m \u001b[0mnext\u001b[0m\u001b[0;34m(\u001b[0m\u001b[0mself\u001b[0m\u001b[0;34m.\u001b[0m\u001b[0mgen\u001b[0m\u001b[0;34m)\u001b[0m\u001b[0;34m\u001b[0m\u001b[0;34m\u001b[0m\u001b[0m\n\u001b[0m\u001b[1;32m    114\u001b[0m         \u001b[0;32mexcept\u001b[0m \u001b[0mStopIteration\u001b[0m\u001b[0;34m:\u001b[0m\u001b[0;34m\u001b[0m\u001b[0;34m\u001b[0m\u001b[0m\n\u001b[1;32m    115\u001b[0m             \u001b[0;32mraise\u001b[0m \u001b[0mRuntimeError\u001b[0m\u001b[0;34m(\u001b[0m\u001b[0;34m\"generator didn't yield\"\u001b[0m\u001b[0;34m)\u001b[0m \u001b[0;32mfrom\u001b[0m \u001b[0;32mNone\u001b[0m\u001b[0;34m\u001b[0m\u001b[0;34m\u001b[0m\u001b[0m\n",
      "\u001b[0;32m~/anaconda3/envs/ldcpy/lib/python3.8/site-packages/xarray/backends/file_manager.py\u001b[0m in \u001b[0;36macquire_context\u001b[0;34m(self, needs_lock)\u001b[0m\n\u001b[1;32m    184\u001b[0m     \u001b[0;32mdef\u001b[0m \u001b[0macquire_context\u001b[0m\u001b[0;34m(\u001b[0m\u001b[0mself\u001b[0m\u001b[0;34m,\u001b[0m \u001b[0mneeds_lock\u001b[0m\u001b[0;34m=\u001b[0m\u001b[0;32mTrue\u001b[0m\u001b[0;34m)\u001b[0m\u001b[0;34m:\u001b[0m\u001b[0;34m\u001b[0m\u001b[0;34m\u001b[0m\u001b[0m\n\u001b[1;32m    185\u001b[0m         \u001b[0;34m\"\"\"Context manager for acquiring a file.\"\"\"\u001b[0m\u001b[0;34m\u001b[0m\u001b[0;34m\u001b[0m\u001b[0m\n\u001b[0;32m--> 186\u001b[0;31m         \u001b[0mfile\u001b[0m\u001b[0;34m,\u001b[0m \u001b[0mcached\u001b[0m \u001b[0;34m=\u001b[0m \u001b[0mself\u001b[0m\u001b[0;34m.\u001b[0m\u001b[0m_acquire_with_cache_info\u001b[0m\u001b[0;34m(\u001b[0m\u001b[0mneeds_lock\u001b[0m\u001b[0;34m)\u001b[0m\u001b[0;34m\u001b[0m\u001b[0;34m\u001b[0m\u001b[0m\n\u001b[0m\u001b[1;32m    187\u001b[0m         \u001b[0;32mtry\u001b[0m\u001b[0;34m:\u001b[0m\u001b[0;34m\u001b[0m\u001b[0;34m\u001b[0m\u001b[0m\n\u001b[1;32m    188\u001b[0m             \u001b[0;32myield\u001b[0m \u001b[0mfile\u001b[0m\u001b[0;34m\u001b[0m\u001b[0;34m\u001b[0m\u001b[0m\n",
      "\u001b[0;32m~/anaconda3/envs/ldcpy/lib/python3.8/site-packages/xarray/backends/file_manager.py\u001b[0m in \u001b[0;36m_acquire_with_cache_info\u001b[0;34m(self, needs_lock)\u001b[0m\n\u001b[1;32m    202\u001b[0m                     \u001b[0mkwargs\u001b[0m \u001b[0;34m=\u001b[0m \u001b[0mkwargs\u001b[0m\u001b[0;34m.\u001b[0m\u001b[0mcopy\u001b[0m\u001b[0;34m(\u001b[0m\u001b[0;34m)\u001b[0m\u001b[0;34m\u001b[0m\u001b[0;34m\u001b[0m\u001b[0m\n\u001b[1;32m    203\u001b[0m                     \u001b[0mkwargs\u001b[0m\u001b[0;34m[\u001b[0m\u001b[0;34m\"mode\"\u001b[0m\u001b[0;34m]\u001b[0m \u001b[0;34m=\u001b[0m \u001b[0mself\u001b[0m\u001b[0;34m.\u001b[0m\u001b[0m_mode\u001b[0m\u001b[0;34m\u001b[0m\u001b[0;34m\u001b[0m\u001b[0m\n\u001b[0;32m--> 204\u001b[0;31m                 \u001b[0mfile\u001b[0m \u001b[0;34m=\u001b[0m \u001b[0mself\u001b[0m\u001b[0;34m.\u001b[0m\u001b[0m_opener\u001b[0m\u001b[0;34m(\u001b[0m\u001b[0;34m*\u001b[0m\u001b[0mself\u001b[0m\u001b[0;34m.\u001b[0m\u001b[0m_args\u001b[0m\u001b[0;34m,\u001b[0m \u001b[0;34m**\u001b[0m\u001b[0mkwargs\u001b[0m\u001b[0;34m)\u001b[0m\u001b[0;34m\u001b[0m\u001b[0;34m\u001b[0m\u001b[0m\n\u001b[0m\u001b[1;32m    205\u001b[0m                 \u001b[0;32mif\u001b[0m \u001b[0mself\u001b[0m\u001b[0;34m.\u001b[0m\u001b[0m_mode\u001b[0m \u001b[0;34m==\u001b[0m \u001b[0;34m\"w\"\u001b[0m\u001b[0;34m:\u001b[0m\u001b[0;34m\u001b[0m\u001b[0;34m\u001b[0m\u001b[0m\n\u001b[1;32m    206\u001b[0m                     \u001b[0;31m# ensure file doesn't get overriden when opened again\u001b[0m\u001b[0;34m\u001b[0m\u001b[0;34m\u001b[0m\u001b[0;34m\u001b[0m\u001b[0m\n",
      "\u001b[0;32mnetCDF4/_netCDF4.pyx\u001b[0m in \u001b[0;36mnetCDF4._netCDF4.Dataset.__init__\u001b[0;34m()\u001b[0m\n",
      "\u001b[0;32mnetCDF4/_netCDF4.pyx\u001b[0m in \u001b[0;36mnetCDF4._netCDF4._ensure_nc_success\u001b[0;34m()\u001b[0m\n",
      "\u001b[0;31mFileNotFoundError\u001b[0m: [Errno 2] No such file or directory: b'/Users/abaker/alli/code-repo/ldcpy/data/cam-fv/c.fpzip,cam-fv.T.3months.nc'"
     ]
    }
   ],
   "source": [
    "ds3 = ldcpy.open_datasets([\"T\"],['../../../data/cam-fv/cam-fv.T.3months.nc', \n",
    "                                 '../../../data/cam-fv/c.fpzip,cam-fv.T.3months.nc'], \n",
    "                          ['orig', 'comp'])"
   ]
  },
  {
   "cell_type": "code",
   "execution_count": 67,
   "metadata": {},
   "outputs": [
    {
     "name": "stdout",
     "output_type": "stream",
     "text": [
      "xarray.Dataset {\n",
      "dimensions:\n",
      "\tcollection = 1 ;\n",
      "\tilev = 31 ;\n",
      "\tlat = 192 ;\n",
      "\tlev = 30 ;\n",
      "\tlon = 288 ;\n",
      "\tnbnd = 2 ;\n",
      "\tslat = 191 ;\n",
      "\tslon = 288 ;\n",
      "\ttime = 6 ;\n",
      "\n",
      "variables:\n",
      "\tint32 mdt() ;\n",
      "\t\tmdt:long_name = timestep ;\n",
      "\t\tmdt:units = s ;\n",
      "\tfloat64 co2vmr(time) ;\n",
      "\t\tco2vmr:long_name = co2 volume mixing ratio ;\n",
      "\tint32 ntrk() ;\n",
      "\t\tntrk:long_name = spectral truncation parameter K ;\n",
      "\tfloat64 hyai(ilev) ;\n",
      "\t\thyai:long_name = hybrid A coefficient at layer interfaces ;\n",
      "\tint32 wnummax(lat) ;\n",
      "\t\twnummax:long_name = cutoff Fourier wavenumber ;\n",
      "\tfloat64 P0() ;\n",
      "\t\tP0:long_name = reference pressure ;\n",
      "\t\tP0:units = Pa ;\n",
      "\tobject time_bnds(time, nbnd) ;\n",
      "\t\ttime_bnds:long_name = time interval endpoints ;\n",
      "\tfloat64 f11vmr(time) ;\n",
      "\t\tf11vmr:long_name = f11 volume mixing ratio ;\n",
      "\tint32 nsteph(time) ;\n",
      "\t\tnsteph:long_name = current timestep ;\n",
      "\tint32 nlon(lat) ;\n",
      "\t\tnlon:long_name = number of longitudes ;\n",
      "\tint32 ndcur(time) ;\n",
      "\t\tndcur:long_name = current day (from base day) ;\n",
      "\tint32 nbsec() ;\n",
      "\t\tnbsec:long_name = seconds of base date ;\n",
      "\tint32 ntrn() ;\n",
      "\t\tntrn:long_name = spectral truncation parameter N ;\n",
      "\t|S8 date_written(time) ;\n",
      "\tint32 ntrm() ;\n",
      "\t\tntrm:long_name = spectral truncation parameter M ;\n",
      "\tfloat64 w_stag(slat) ;\n",
      "\t\tw_stag:long_name = staggered latitude weights ;\n",
      "\tint32 date(time) ;\n",
      "\t\tdate:long_name = current date (YYYYMMDD) ;\n",
      "\tfloat64 hybi(ilev) ;\n",
      "\t\thybi:long_name = hybrid B coefficient at layer interfaces ;\n",
      "\tint32 datesec(time) ;\n",
      "\t\tdatesec:long_name = current seconds of current date ;\n",
      "\tint32 nscur(time) ;\n",
      "\t\tnscur:long_name = current seconds of current day ;\n",
      "\t|S8 time_written(time) ;\n",
      "\tint32 nsbase() ;\n",
      "\t\tnsbase:long_name = seconds of base day ;\n",
      "\tfloat64 f12vmr(time) ;\n",
      "\t\tf12vmr:long_name = f12 volume mixing ratio ;\n",
      "\tfloat64 gw(lat) ;\n",
      "\t\tgw:long_name = gauss weights ;\n",
      "\tfloat64 hyam(lev) ;\n",
      "\t\thyam:long_name = hybrid A coefficient at layer midpoints ;\n",
      "\tfloat64 sol_tsi(time) ;\n",
      "\t\tsol_tsi:long_name = total solar irradiance ;\n",
      "\t\tsol_tsi:units = W/m2 ;\n",
      "\tfloat64 n2ovmr(time) ;\n",
      "\t\tn2ovmr:long_name = n2o volume mixing ratio ;\n",
      "\tfloat64 hybm(lev) ;\n",
      "\t\thybm:long_name = hybrid B coefficient at layer midpoints ;\n",
      "\tfloat64 ch4vmr(time) ;\n",
      "\t\tch4vmr:long_name = ch4 volume mixing ratio ;\n",
      "\tint32 nbdate() ;\n",
      "\t\tnbdate:long_name = base date (YYYYMMDD) ;\n",
      "\tint32 ndbase() ;\n",
      "\t\tndbase:long_name = base day ;\n",
      "\tfloat64 lon(lon) ;\n",
      "\t\tlon:long_name = longitude ;\n",
      "\t\tlon:units = degrees_east ;\n",
      "\tfloat64 lev(lev) ;\n",
      "\t\tlev:long_name = hybrid level at midpoints (1000*(A+B)) ;\n",
      "\t\tlev:units = level ;\n",
      "\t\tlev:positive = down ;\n",
      "\t\tlev:standard_name = atmosphere_hybrid_sigma_pressure_coordinate ;\n",
      "\t\tlev:formula_terms = a: hyam b: hybm p0: P0 ps: PS ;\n",
      "\tfloat64 slon(slon) ;\n",
      "\t\tslon:long_name = staggered longitude ;\n",
      "\t\tslon:units = degrees_east ;\n",
      "\tfloat64 slat(slat) ;\n",
      "\t\tslat:long_name = staggered latitude ;\n",
      "\t\tslat:units = degrees_north ;\n",
      "\tfloat64 ilev(ilev) ;\n",
      "\t\tilev:long_name = hybrid level at interfaces (1000*(A+B)) ;\n",
      "\t\tilev:units = level ;\n",
      "\t\tilev:positive = down ;\n",
      "\t\tilev:standard_name = atmosphere_hybrid_sigma_pressure_coordinate ;\n",
      "\t\tilev:formula_terms = a: hyai b: hybi p0: P0 ps: PS ;\n",
      "\tfloat64 lat(lat) ;\n",
      "\t\tlat:long_name = latitude ;\n",
      "\t\tlat:units = degrees_north ;\n",
      "\tobject time(time) ;\n",
      "\t\ttime:long_name = time ;\n",
      "\t\ttime:bounds = time_bnds ;\n",
      "\tfloat32 T(collection, time, lev, lat, lon) ;\n",
      "\t\tT:mdims = 1 ;\n",
      "\t\tT:units = K ;\n",
      "\t\tT:long_name = Temperature ;\n",
      "\t\tT:cell_methods = time: mean ;\n",
      "\t<U4 collection(collection) ;\n",
      "\n",
      "// global attributes:\n",
      "\t:Conventions = CF-1.0 ;\n",
      "\t:source = CAM ;\n",
      "\t:case = b.e11.B20TRC5CNBDRD.f09_g16.031 ;\n",
      "\t:title = UNSET ;\n",
      "\t:logname = mickelso ;\n",
      "\t:host = ys0219 ;\n",
      "\t:Version = $Name$ ;\n",
      "\t:revision_Id = $Id$ ;\n",
      "\t:initial_file = b.e11.B20TRC5CNBDRD.f09_g16.001.cam.i.1920-01-01-00000.nc ;\n",
      "\t:topography_file = /glade/p/cesmdata/cseg/inputdata/atm/cam/topo/USGS-gtopo30_0.9x1.25_remap_c051027.nc ;\n",
      "\t:history = Fri Jun 12 14:17:32 2020: ncks -d time,0,5,1 b.e11.B20TRC5CNBDRD.f09_g16.031.cam.h0.T.192001-200512.nc cam-fv.T.6months.c ;\n",
      "\t:NCO = netCDF Operators version 4.7.9 (Homepage = http://nco.sf.net, Code = http://github.com/nco/nco) ;\n",
      "}"
     ]
    }
   ],
   "source": [
    "ds3.info()"
   ]
  },
  {
   "cell_type": "code",
   "execution_count": null,
   "metadata": {},
   "outputs": [],
   "source": []
  }
 ],
 "metadata": {
  "kernelspec": {
   "display_name": "Python 3",
   "language": "python",
   "name": "python3"
  },
  "language_info": {
   "codemirror_mode": {
    "name": "ipython",
    "version": 3
   },
   "file_extension": ".py",
   "mimetype": "text/x-python",
   "name": "python",
   "nbconvert_exporter": "python",
   "pygments_lexer": "ipython3",
   "version": "3.8.3"
  }
 },
 "nbformat": 4,
 "nbformat_minor": 2
}
