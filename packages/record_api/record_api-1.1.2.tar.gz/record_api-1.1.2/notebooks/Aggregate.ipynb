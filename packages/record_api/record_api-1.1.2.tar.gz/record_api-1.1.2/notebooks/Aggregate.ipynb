{
 "cells": [
  {
   "cell_type": "code",
   "execution_count": 2,
   "metadata": {
    "execution": {
     "iopub.execute_input": "2020-05-21T15:26:23.037099Z",
     "iopub.status.busy": "2020-05-21T15:26:23.036798Z",
     "iopub.status.idle": "2020-05-21T15:26:23.877661Z",
     "shell.execute_reply": "2020-05-21T15:26:23.876915Z",
     "shell.execute_reply.started": "2020-05-21T15:26:23.037068Z"
    }
   },
   "outputs": [
    {
     "data": {
      "text/plain": [
       "DataTransformerRegistry.enable('data_server')"
      ]
     },
     "execution_count": 2,
     "metadata": {},
     "output_type": "execute_result"
    }
   ],
   "source": [
    "import pandas as pd\n",
    "import altair as alt\n",
    "import pathlib\n",
    "\n",
    "pd.set_option('max_colwidth', 200)\n",
    "alt.data_transformers.enable('data_server')"
   ]
  },
  {
   "cell_type": "code",
   "execution_count": 12,
   "metadata": {
    "execution": {
     "iopub.execute_input": "2020-05-21T15:27:11.884664Z",
     "iopub.status.busy": "2020-05-21T15:27:11.884266Z",
     "iopub.status.idle": "2020-05-21T15:27:11.924516Z",
     "shell.execute_reply": "2020-05-21T15:27:11.923581Z",
     "shell.execute_reply.started": "2020-05-21T15:27:11.884619Z"
    }
   },
   "outputs": [],
   "source": [
    "def read_path(path):\n",
    "    library = path.stem\n",
    "    df = pd.read_csv(str(path))\n",
    "    df['library'] = library\n",
    "    return df\n",
    "\n",
    "df = pd.concat(read_path(path) for path in (pathlib.Path('.') / 'data' / 'counts_untyped').glob(\"*.csv\") if path.stem != 'sample_usage')"
   ]
  },
  {
   "cell_type": "markdown",
   "metadata": {},
   "source": [
    "Remove functions with bad names, really should clean these up in generation scripts!"
   ]
  },
  {
   "cell_type": "code",
   "execution_count": 13,
   "metadata": {
    "execution": {
     "iopub.execute_input": "2020-05-21T15:27:12.796457Z",
     "iopub.status.busy": "2020-05-21T15:27:12.796167Z",
     "iopub.status.idle": "2020-05-21T15:27:12.806648Z",
     "shell.execute_reply": "2020-05-21T15:27:12.805821Z",
     "shell.execute_reply.started": "2020-05-21T15:27:12.796424Z"
    }
   },
   "outputs": [],
   "source": [
    "df = df[~(df.function.str.contains('<') | df.function.str.contains('._'))]"
   ]
  },
  {
   "cell_type": "code",
   "execution_count": 14,
   "metadata": {
    "execution": {
     "iopub.execute_input": "2020-05-21T15:27:13.171316Z",
     "iopub.status.busy": "2020-05-21T15:27:13.170981Z",
     "iopub.status.idle": "2020-05-21T15:27:13.177190Z",
     "shell.execute_reply": "2020-05-21T15:27:13.176056Z",
     "shell.execute_reply.started": "2020-05-21T15:27:13.171277Z"
    }
   },
   "outputs": [],
   "source": [
    "df.sort_values('count', ascending=False, inplace=True)"
   ]
  },
  {
   "cell_type": "code",
   "execution_count": 15,
   "metadata": {
    "execution": {
     "iopub.execute_input": "2020-05-21T15:27:13.457641Z",
     "iopub.status.busy": "2020-05-21T15:27:13.457199Z",
     "iopub.status.idle": "2020-05-21T15:27:13.473017Z",
     "shell.execute_reply": "2020-05-21T15:27:13.471822Z",
     "shell.execute_reply.started": "2020-05-21T15:27:13.457589Z"
    }
   },
   "outputs": [],
   "source": [
    "df.to_csv(str(pathlib.Path('.') / 'data' / 'counts_untyped.csv'), index=False)"
   ]
  },
  {
   "cell_type": "code",
   "execution_count": 16,
   "metadata": {
    "execution": {
     "iopub.execute_input": "2020-05-21T15:27:13.844818Z",
     "iopub.status.busy": "2020-05-21T15:27:13.844441Z",
     "iopub.status.idle": "2020-05-21T15:27:13.902673Z",
     "shell.execute_reply": "2020-05-21T15:27:13.901618Z",
     "shell.execute_reply.started": "2020-05-21T15:27:13.844774Z"
    }
   },
   "outputs": [
    {
     "data": {
      "text/html": [
       "\n",
       "<div id=\"altair-viz-629e906fd12b4fb784a70b809c3c0ee1\"></div>\n",
       "<script type=\"text/javascript\">\n",
       "  (function(spec, embedOpt){\n",
       "    let outputDiv = document.currentScript.previousElementSibling;\n",
       "    if (outputDiv.id !== \"altair-viz-629e906fd12b4fb784a70b809c3c0ee1\") {\n",
       "      outputDiv = document.getElementById(\"altair-viz-629e906fd12b4fb784a70b809c3c0ee1\");\n",
       "    }\n",
       "    const paths = {\n",
       "      \"vega\": \"https://cdn.jsdelivr.net/npm//vega@5?noext\",\n",
       "      \"vega-lib\": \"https://cdn.jsdelivr.net/npm//vega-lib?noext\",\n",
       "      \"vega-lite\": \"https://cdn.jsdelivr.net/npm//vega-lite@4.8.1?noext\",\n",
       "      \"vega-embed\": \"https://cdn.jsdelivr.net/npm//vega-embed@6?noext\",\n",
       "    };\n",
       "\n",
       "    function loadScript(lib) {\n",
       "      return new Promise(function(resolve, reject) {\n",
       "        var s = document.createElement('script');\n",
       "        s.src = paths[lib];\n",
       "        s.async = true;\n",
       "        s.onload = () => resolve(paths[lib]);\n",
       "        s.onerror = () => reject(`Error loading script: ${paths[lib]}`);\n",
       "        document.getElementsByTagName(\"head\")[0].appendChild(s);\n",
       "      });\n",
       "    }\n",
       "\n",
       "    function showError(err) {\n",
       "      outputDiv.innerHTML = `<div class=\"error\" style=\"color:red;\">${err}</div>`;\n",
       "      throw err;\n",
       "    }\n",
       "\n",
       "    function displayChart(vegaEmbed) {\n",
       "      vegaEmbed(outputDiv, spec, embedOpt)\n",
       "        .catch(err => showError(`Javascript Error: ${err.message}<br>This usually means there's a typo in your chart specification. See the javascript console for the full traceback.`));\n",
       "    }\n",
       "\n",
       "    if(typeof define === \"function\" && define.amd) {\n",
       "      requirejs.config({paths});\n",
       "      require([\"vega-embed\"], displayChart, err => showError(`Error loading script: ${err.message}`));\n",
       "    } else if (typeof vegaEmbed === \"function\") {\n",
       "      displayChart(vegaEmbed);\n",
       "    } else {\n",
       "      loadScript(\"vega\")\n",
       "        .then(() => loadScript(\"vega-lite\"))\n",
       "        .then(() => loadScript(\"vega-embed\"))\n",
       "        .catch(showError)\n",
       "        .then(() => displayChart(vegaEmbed));\n",
       "    }\n",
       "  })({\"config\": {\"view\": {\"continuousWidth\": 400, \"continuousHeight\": 300}}, \"data\": {\"url\": \"http://localhost:16524/a773fe0fccaedba15cf5d02170ce4bf1.json\"}, \"mark\": \"bar\", \"encoding\": {\"color\": {\"type\": \"nominal\", \"field\": \"library\"}, \"tooltip\": [{\"type\": \"nominal\", \"field\": \"function\"}, {\"type\": \"quantitative\", \"field\": \"count\"}, {\"type\": \"nominal\", \"field\": \"library\"}], \"x\": {\"type\": \"quantitative\", \"field\": \"count\"}, \"y\": {\"type\": \"nominal\", \"field\": \"function\", \"sort\": \"-x\"}}, \"$schema\": \"https://vega.github.io/schema/vega-lite/v4.8.1.json\"}, {\"mode\": \"vega-lite\"});\n",
       "</script>"
      ],
      "text/plain": [
       "alt.Chart(...)"
      ]
     },
     "execution_count": 16,
     "metadata": {},
     "output_type": "execute_result"
    }
   ],
   "source": [
    "alt.Chart(df).mark_bar().encode(\n",
    "    y=alt.Y('function:N', sort='-x'),\n",
    "    x=alt.X('count:Q'),\n",
    "    color='library',\n",
    "    tooltip=['function', 'count', 'library']\n",
    ")"
   ]
  },
  {
   "cell_type": "markdown",
   "metadata": {},
   "source": [
    "Now do typed:"
   ]
  },
  {
   "cell_type": "code",
   "execution_count": 17,
   "metadata": {
    "execution": {
     "iopub.execute_input": "2020-05-21T15:27:33.233400Z",
     "iopub.status.busy": "2020-05-21T15:27:33.233161Z",
     "iopub.status.idle": "2020-05-21T15:27:33.335912Z",
     "shell.execute_reply": "2020-05-21T15:27:33.335289Z",
     "shell.execute_reply.started": "2020-05-21T15:27:33.233373Z"
    }
   },
   "outputs": [],
   "source": [
    "def read_path(path):\n",
    "    library = path.stem\n",
    "    df = pd.read_csv(str(path))\n",
    "    df['library'] = library\n",
    "    return df\n",
    "\n",
    "df = pd.concat(read_path(path) for path in (pathlib.Path('.') / 'data' / 'counts_typed').glob(\"*.csv\") if path.stem != 'sample_usage')\n",
    "df = df[~df.function.str.contains('<')]\n",
    "df.sort_values('count', ascending=False, inplace=True)\n",
    "df.to_csv(str(pathlib.Path('.') / 'data' / 'counts_typed.csv'), index=False)"
   ]
  },
  {
   "cell_type": "code",
   "execution_count": 25,
   "metadata": {
    "execution": {
     "iopub.execute_input": "2020-05-21T15:28:52.180372Z",
     "iopub.status.busy": "2020-05-21T15:28:52.180050Z",
     "iopub.status.idle": "2020-05-21T15:28:52.230269Z",
     "shell.execute_reply": "2020-05-21T15:28:52.229126Z",
     "shell.execute_reply.started": "2020-05-21T15:28:52.180339Z"
    }
   },
   "outputs": [
    {
     "data": {
      "text/html": [
       "\n",
       "<div id=\"altair-viz-1a2272daa3ed4353b368c874936f71a5\"></div>\n",
       "<script type=\"text/javascript\">\n",
       "  (function(spec, embedOpt){\n",
       "    let outputDiv = document.currentScript.previousElementSibling;\n",
       "    if (outputDiv.id !== \"altair-viz-1a2272daa3ed4353b368c874936f71a5\") {\n",
       "      outputDiv = document.getElementById(\"altair-viz-1a2272daa3ed4353b368c874936f71a5\");\n",
       "    }\n",
       "    const paths = {\n",
       "      \"vega\": \"https://cdn.jsdelivr.net/npm//vega@5?noext\",\n",
       "      \"vega-lib\": \"https://cdn.jsdelivr.net/npm//vega-lib?noext\",\n",
       "      \"vega-lite\": \"https://cdn.jsdelivr.net/npm//vega-lite@4.8.1?noext\",\n",
       "      \"vega-embed\": \"https://cdn.jsdelivr.net/npm//vega-embed@6?noext\",\n",
       "    };\n",
       "\n",
       "    function loadScript(lib) {\n",
       "      return new Promise(function(resolve, reject) {\n",
       "        var s = document.createElement('script');\n",
       "        s.src = paths[lib];\n",
       "        s.async = true;\n",
       "        s.onload = () => resolve(paths[lib]);\n",
       "        s.onerror = () => reject(`Error loading script: ${paths[lib]}`);\n",
       "        document.getElementsByTagName(\"head\")[0].appendChild(s);\n",
       "      });\n",
       "    }\n",
       "\n",
       "    function showError(err) {\n",
       "      outputDiv.innerHTML = `<div class=\"error\" style=\"color:red;\">${err}</div>`;\n",
       "      throw err;\n",
       "    }\n",
       "\n",
       "    function displayChart(vegaEmbed) {\n",
       "      vegaEmbed(outputDiv, spec, embedOpt)\n",
       "        .catch(err => showError(`Javascript Error: ${err.message}<br>This usually means there's a typo in your chart specification. See the javascript console for the full traceback.`));\n",
       "    }\n",
       "\n",
       "    if(typeof define === \"function\" && define.amd) {\n",
       "      requirejs.config({paths});\n",
       "      require([\"vega-embed\"], displayChart, err => showError(`Error loading script: ${err.message}`));\n",
       "    } else if (typeof vegaEmbed === \"function\") {\n",
       "      displayChart(vegaEmbed);\n",
       "    } else {\n",
       "      loadScript(\"vega\")\n",
       "        .then(() => loadScript(\"vega-lite\"))\n",
       "        .then(() => loadScript(\"vega-embed\"))\n",
       "        .catch(showError)\n",
       "        .then(() => displayChart(vegaEmbed));\n",
       "    }\n",
       "  })({\"config\": {\"view\": {\"continuousWidth\": 400, \"continuousHeight\": 300}}, \"data\": {\"url\": \"http://localhost:16524/6cfa9a841045e0b5e470309d8fc5c57a.json\"}, \"mark\": \"bar\", \"encoding\": {\"color\": {\"type\": \"nominal\", \"field\": \"library\"}, \"tooltip\": [{\"type\": \"nominal\", \"field\": \"function\"}, {\"type\": \"quantitative\", \"field\": \"count\"}, {\"type\": \"nominal\", \"field\": \"library\"}], \"x\": {\"type\": \"quantitative\", \"field\": \"count\"}, \"y\": {\"type\": \"nominal\", \"field\": \"function\", \"sort\": \"-x\"}}, \"$schema\": \"https://vega.github.io/schema/vega-lite/v4.8.1.json\"}, {\"mode\": \"vega-lite\"});\n",
       "</script>"
      ],
      "text/plain": [
       "alt.Chart(...)"
      ]
     },
     "execution_count": 25,
     "metadata": {},
     "output_type": "execute_result"
    }
   ],
   "source": [
    "alt.Chart(df[df.function.str.startswith(\"numpy.zeros(\")]).mark_bar().encode(\n",
    "    y=alt.Y('function:N', sort='-x'),\n",
    "    x=alt.X('count:Q'),\n",
    "    color='library',\n",
    "    tooltip=['function', 'count', 'library']\n",
    ")"
   ]
  },
  {
   "cell_type": "code",
   "execution_count": 13,
   "metadata": {
    "execution": {
     "iopub.execute_input": "2020-05-10T18:06:37.886848Z",
     "iopub.status.busy": "2020-05-10T18:06:37.886629Z",
     "iopub.status.idle": "2020-05-10T18:06:37.908148Z",
     "shell.execute_reply": "2020-05-10T18:06:37.907242Z",
     "shell.execute_reply.started": "2020-05-10T18:06:37.886825Z"
    }
   },
   "outputs": [
    {
     "data": {
      "text/plain": [
       "function\n",
       "*numpy.flatiter                                                           True\n",
       "*numpy.ma.core.MaskedArray                                               False\n",
       "*numpy.ndarray                                                            True\n",
       "*numpy.ndenumerate                                                       False\n",
       "*numpy.ndindex                                                           False\n",
       "                                                                         ...  \n",
       "xarray.core.varianumpy.ndarrayle.Varianumpy.ndarrayle - numpy.ndarray    False\n",
       "xarray.core.varianumpy.str_le.Varianumpy.str_le == numpy.str_            False\n",
       "~numpy.bool_                                                             False\n",
       "~numpy.ma.core.MaskedArray                                               False\n",
       "~numpy.ndarray                                                            True\n",
       "Name: count, Length: 6839, dtype: bool"
      ]
     },
     "execution_count": 13,
     "metadata": {},
     "output_type": "execute_result"
    }
   ],
   "source": [
    "(df.groupby('function').sum()['count'] > 10)"
   ]
  },
  {
   "cell_type": "code",
   "execution_count": null,
   "metadata": {},
   "outputs": [],
   "source": []
  }
 ],
 "metadata": {
  "kernelspec": {
   "display_name": "Python 3",
   "language": "python",
   "name": "python3"
  },
  "language_info": {
   "codemirror_mode": {
    "name": "ipython",
    "version": 3
   },
   "file_extension": ".py",
   "mimetype": "text/x-python",
   "name": "python",
   "nbconvert_exporter": "python",
   "pygments_lexer": "ipython3",
   "version": "3.8.2"
  }
 },
 "nbformat": 4,
 "nbformat_minor": 4
}
