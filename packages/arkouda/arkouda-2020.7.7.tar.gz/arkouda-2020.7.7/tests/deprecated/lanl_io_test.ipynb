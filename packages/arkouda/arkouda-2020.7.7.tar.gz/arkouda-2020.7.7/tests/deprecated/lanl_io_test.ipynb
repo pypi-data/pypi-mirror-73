{
 "cells": [
  {
   "cell_type": "code",
   "execution_count": 1,
   "metadata": {
    "ExecuteTime": {
     "end_time": "2019-04-04T15:28:58.681775Z",
     "start_time": "2019-04-04T15:28:58.674387Z"
    }
   },
   "outputs": [],
   "source": [
    "import importlib\n",
    "import sys, time\n",
    "from glob import glob\n",
    "import arkouda as ak"
   ]
  },
  {
   "cell_type": "code",
   "execution_count": 2,
   "metadata": {
    "ExecuteTime": {
     "end_time": "2019-04-04T15:28:59.327706Z",
     "start_time": "2019-04-04T15:28:59.308070Z"
    }
   },
   "outputs": [
    {
     "data": {
      "text/plain": [
       "<module 'arkouda' from '/home/wfreus/arkouda/arkouda.py'>"
      ]
     },
     "execution_count": 2,
     "metadata": {},
     "output_type": "execute_result"
    }
   ],
   "source": [
    "importlib.reload(ak)"
   ]
  },
  {
   "cell_type": "code",
   "execution_count": 3,
   "metadata": {
    "ExecuteTime": {
     "end_time": "2019-04-04T15:29:00.282864Z",
     "start_time": "2019-04-04T15:29:00.270648Z"
    }
   },
   "outputs": [
    {
     "name": "stdout",
     "output_type": "stream",
     "text": [
      "4.2.5\n",
      "psp =  tcp://node01:5555\n",
      "connected to tcp://node01:5555\n"
     ]
    }
   ],
   "source": [
    "ak.set_defaults()\n",
    "ak.v = False\n",
    "ak.connect(server=\"node01\", port=5555)"
   ]
  },
  {
   "cell_type": "markdown",
   "metadata": {},
   "source": [
    "## Read tests"
   ]
  },
  {
   "cell_type": "markdown",
   "metadata": {},
   "source": [
    "With a glob expression interpreted by the backend"
   ]
  },
  {
   "cell_type": "code",
   "execution_count": 4,
   "metadata": {
    "ExecuteTime": {
     "end_time": "2019-04-04T15:29:18.401858Z",
     "start_time": "2019-04-04T15:29:04.263499Z"
    }
   },
   "outputs": [
    {
     "name": "stdout",
     "output_type": "stream",
     "text": [
      "[22058209181 22058295678 5266512788 ... 22058739089 22058739089 22058739089]\n"
     ]
    }
   ],
   "source": [
    "globstr = '/mnt/data/lanl_netflow/hdf5/*.hdf'\n",
    "srcIP = ak.read_hdf('srcIP', globstr)\n",
    "print(srcIP)"
   ]
  },
  {
   "cell_type": "markdown",
   "metadata": {},
   "source": [
    "With a list of filenames"
   ]
  },
  {
   "cell_type": "code",
   "execution_count": 5,
   "metadata": {
    "ExecuteTime": {
     "end_time": "2019-04-04T15:29:47.359267Z",
     "start_time": "2019-04-04T15:29:29.606706Z"
    }
   },
   "outputs": [
    {
     "name": "stdout",
     "output_type": "stream",
     "text": [
      "[5507 3137 5060 ... 58889 75615 67796]\n"
     ]
    }
   ],
   "source": [
    "filenames = glob(globstr)\n",
    "srcPort = ak.read_hdf('srcPort', filenames)\n",
    "print(srcPort)"
   ]
  },
  {
   "cell_type": "markdown",
   "metadata": {},
   "source": [
    "With a single filename"
   ]
  },
  {
   "cell_type": "code",
   "execution_count": 6,
   "metadata": {
    "ExecuteTime": {
     "end_time": "2019-04-04T15:29:59.406275Z",
     "start_time": "2019-04-04T15:29:56.594601Z"
    }
   },
   "outputs": [
    {
     "name": "stdout",
     "output_type": "stream",
     "text": [
      "[22058391981 22058674074 22057986724 ... 22057941784 22057941784 22057941784]\n"
     ]
    }
   ],
   "source": [
    "print(ak.read_hdf('dstIP', filenames[0]))"
   ]
  },
  {
   "cell_type": "markdown",
   "metadata": {},
   "source": [
    "Filename with a space"
   ]
  },
  {
   "cell_type": "code",
   "execution_count": 7,
   "metadata": {
    "ExecuteTime": {
     "end_time": "2019-04-04T15:30:06.558015Z",
     "start_time": "2019-04-04T15:30:01.265873Z"
    }
   },
   "outputs": [
    {
     "name": "stdout",
     "output_type": "stream",
     "text": [
      "[80 53 94857 ... 443 443 443]\n"
     ]
    }
   ],
   "source": [
    "print(ak.read_hdf('dstPort', '/mnt/data/lanl_netflow/test/netflow day 03.hdf'))"
   ]
  },
  {
   "cell_type": "markdown",
   "metadata": {},
   "source": [
    "Read all datasets from all files"
   ]
  },
  {
   "cell_type": "code",
   "execution_count": 8,
   "metadata": {
    "ExecuteTime": {
     "end_time": "2019-04-04T15:30:18.034691Z",
     "start_time": "2019-04-04T15:30:18.030049Z"
    }
   },
   "outputs": [],
   "source": [
    "names = ['start', 'duration',\n",
    "         'srcIP', 'dstIP',\n",
    "         'proto', \n",
    "         'srcPort', 'dstPort',\n",
    "         'srcPkts', 'dstPkts',\n",
    "         'srcBytes', 'dstBytes']\n"
   ]
  },
  {
   "cell_type": "code",
   "execution_count": 10,
   "metadata": {
    "ExecuteTime": {
     "end_time": "2019-04-04T15:33:47.691338Z",
     "start_time": "2019-04-04T15:31:36.821414Z"
    }
   },
   "outputs": [
    {
     "name": "stdout",
     "output_type": "stream",
     "text": [
      "{'start': array([118781, 118783, 118785, ..., 345599, 345599, 345599]), 'duration': array([5580, 6976, 14178, ..., 31585, 31585, 31585]), 'srcIP': array([22058209181, 22058295678, 5266512788, ..., 22058739089, 22058739089, 22058739089]), 'dstIP': array([22058391981, 22058674074, 22057986724, ..., 22057863347, 22058450761, 22058554651]), 'proto': array([17, 6, 17, ..., 6, 6, 6]), 'srcPort': array([5507, 3137, 5060, ..., 58889, 75615, 67796]), 'dstPort': array([46272, 445, 5060, ..., 80, 80, 80]), 'srcPkts': array([0, 1665, 1866, ..., 4337075, 2346592, 3039251]), 'dstPkts': array([755065, 1108, 0, ..., 8623855, 0, 0]), 'srcBytes': array([0, 300810, 1477041, ..., 199505700, 108313626, 140342158]), 'dstBytes': array([1042329018, 250408, 0, ..., 12704911236, 0, 0])}\n",
      "130.86 seconds (3.30e+07 bytes/sec)\n"
     ]
    }
   ],
   "source": [
    "start = time.time()\n",
    "data = {name:ak.read_hdf(name, filenames) for name in names}\n",
    "end = time.time()\n",
    "t = end - start\n",
    "print(data)\n",
    "print(f'{t:.2f} seconds ({8*nfStart.size/t:.2e} bytes/sec)')"
   ]
  },
  {
   "cell_type": "code",
   "execution_count": 11,
   "metadata": {
    "ExecuteTime": {
     "end_time": "2019-04-04T15:33:47.700006Z",
     "start_time": "2019-04-04T15:33:47.694859Z"
    }
   },
   "outputs": [
    {
     "name": "stdout",
     "output_type": "stream",
     "text": [
      "name:\"id_12\" dtype:\"int64\" size:539487548 ndim:1 shape:(539487548) itemsize:8\n",
      "name:\"id_13\" dtype:\"int64\" size:539487548 ndim:1 shape:(539487548) itemsize:8\n",
      "name:\"id_10\" dtype:\"int64\" size:539487548 ndim:1 shape:(539487548) itemsize:8\n",
      "name:\"id_11\" dtype:\"int64\" size:539487548 ndim:1 shape:(539487548) itemsize:8\n",
      "name:\"id_7\" dtype:\"int64\" size:539487548 ndim:1 shape:(539487548) itemsize:8\n",
      "name:\"id_6\" dtype:\"int64\" size:539487548 ndim:1 shape:(539487548) itemsize:8\n",
      "name:\"id_5\" dtype:\"int64\" size:539487548 ndim:1 shape:(539487548) itemsize:8\n",
      "name:\"id_2\" dtype:\"int64\" size:539487548 ndim:1 shape:(539487548) itemsize:8\n",
      "name:\"id_1\" dtype:\"int64\" size:539487548 ndim:1 shape:(539487548) itemsize:8\n",
      "name:\"id_9\" dtype:\"int64\" size:539487548 ndim:1 shape:(539487548) itemsize:8\n",
      "name:\"id_8\" dtype:\"int64\" size:539487548 ndim:1 shape:(539487548) itemsize:8\n",
      "name:\"id_16\" dtype:\"float64\" size:539487548 ndim:1 shape:(539487548) itemsize:8\n",
      "name:\"id_14\" dtype:\"int64\" size:539487548 ndim:1 shape:(539487548) itemsize:8\n",
      "name:\"id_15\" dtype:\"float64\" size:539487548 ndim:1 shape:(539487548) itemsize:8\n",
      "\n"
     ]
    }
   ],
   "source": [
    "print(ak.info(ak.AllSymbols))"
   ]
  },
  {
   "cell_type": "code",
   "execution_count": 23,
   "metadata": {},
   "outputs": [],
   "source": [
    "#ak.shutdown()"
   ]
  },
  {
   "cell_type": "code",
   "execution_count": null,
   "metadata": {},
   "outputs": [],
   "source": []
  }
 ],
 "metadata": {
  "kernelspec": {
   "display_name": "Python 3",
   "language": "python",
   "name": "python3"
  },
  "language_info": {
   "codemirror_mode": {
    "name": "ipython",
    "version": 3
   },
   "file_extension": ".py",
   "mimetype": "text/x-python",
   "name": "python",
   "nbconvert_exporter": "python",
   "pygments_lexer": "ipython3",
   "version": "3.6.5"
  }
 },
 "nbformat": 4,
 "nbformat_minor": 2
}
