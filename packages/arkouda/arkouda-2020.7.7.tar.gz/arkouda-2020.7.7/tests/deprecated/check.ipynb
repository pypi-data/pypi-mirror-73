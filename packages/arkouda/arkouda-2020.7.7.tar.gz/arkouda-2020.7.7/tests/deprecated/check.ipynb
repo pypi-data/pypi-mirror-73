{
 "cells": [
  {
   "cell_type": "code",
   "execution_count": 1,
   "metadata": {},
   "outputs": [],
   "source": [
    "import numpy as np\n",
    "\n",
    "import arkouda as ak"
   ]
  },
  {
   "cell_type": "code",
   "execution_count": 2,
   "metadata": {},
   "outputs": [
    {
     "name": "stdout",
     "output_type": "stream",
     "text": [
      "4.3.1\n",
      "psp =  tcp://localhost:5555\n",
      "connected to tcp://localhost:5555\n"
     ]
    }
   ],
   "source": [
    "ak.v = False\n",
    "ak.connect(server=\"localhost\", port=5555)"
   ]
  },
  {
   "cell_type": "code",
   "execution_count": 8,
   "metadata": {},
   "outputs": [
    {
     "name": "stdout",
     "output_type": "stream",
     "text": [
      "arange passed\n"
     ]
    }
   ],
   "source": [
    "# this pulls the pdarray into an ndarray and then does the comparison\n",
    "a = np.arange(0,10,1)\n",
    "b = ak.arange(0,10,1).to_ndarray()\n",
    "c = a == b\n",
    "if c.all(): print(\"arange passed\")\n",
    "else: print(\"arange failed\")"
   ]
  },
  {
   "cell_type": "code",
   "execution_count": 9,
   "metadata": {},
   "outputs": [
    {
     "name": "stdout",
     "output_type": "stream",
     "text": [
      "arange passed\n"
     ]
    }
   ],
   "source": [
    "#this pushes the ndarray into a pdarray and does the comparison there\n",
    "a = ak.array(np.arange(0,10,1))\n",
    "b = ak.arange(0,10,1)\n",
    "c = a == b\n",
    "if c.all(): print(\"arange passed\")\n",
    "else: print(\"arange failed\")"
   ]
  },
  {
   "cell_type": "code",
   "execution_count": 5,
   "metadata": {},
   "outputs": [
    {
     "name": "stdout",
     "output_type": "stream",
     "text": [
      "linspace passed\n"
     ]
    }
   ],
   "source": [
    "a = np.linspace(0,1,10)\n",
    "b = ak.linspace(0,1,10).to_ndarray()\n",
    "c = a == b\n",
    "if c.all(): print(\"linspace passed\")\n",
    "else: print(\"linspace failed\")"
   ]
  },
  {
   "cell_type": "code",
   "execution_count": 6,
   "metadata": {},
   "outputs": [
    {
     "name": "stdout",
     "output_type": "stream",
     "text": [
      "zeros passed\n"
     ]
    }
   ],
   "source": [
    "a = np.zeros(10)\n",
    "b = ak.zeros(10).to_ndarray()\n",
    "c = a == b\n",
    "if c.all(): print(\"zeros passed\")\n",
    "else: print(\"zeros failed\")"
   ]
  },
  {
   "cell_type": "code",
   "execution_count": 7,
   "metadata": {},
   "outputs": [
    {
     "name": "stdout",
     "output_type": "stream",
     "text": [
      "ones passed\n"
     ]
    }
   ],
   "source": [
    "a = np.ones(10)\n",
    "b = ak.ones(10).to_ndarray()\n",
    "c = a == b\n",
    "if c.all(): print(\"ones passed\")\n",
    "else: print(\"ones failed\")"
   ]
  },
  {
   "cell_type": "code",
   "execution_count": null,
   "metadata": {},
   "outputs": [],
   "source": []
  },
  {
   "cell_type": "code",
   "execution_count": null,
   "metadata": {},
   "outputs": [],
   "source": [
    "#ak.disconnect()"
   ]
  },
  {
   "cell_type": "code",
   "execution_count": null,
   "metadata": {},
   "outputs": [],
   "source": []
  }
 ],
 "metadata": {
  "kernelspec": {
   "display_name": "Python 3",
   "language": "python",
   "name": "python3"
  },
  "language_info": {
   "codemirror_mode": {
    "name": "ipython",
    "version": 3
   },
   "file_extension": ".py",
   "mimetype": "text/x-python",
   "name": "python",
   "nbconvert_exporter": "python",
   "pygments_lexer": "ipython3",
   "version": "3.7.3"
  }
 },
 "nbformat": 4,
 "nbformat_minor": 2
}
