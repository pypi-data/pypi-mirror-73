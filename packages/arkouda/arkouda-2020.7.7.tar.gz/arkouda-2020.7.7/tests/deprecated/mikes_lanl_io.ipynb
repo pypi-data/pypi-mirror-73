{
 "cells": [
  {
   "cell_type": "code",
   "execution_count": 1,
   "metadata": {},
   "outputs": [],
   "source": [
    "import sys, time\n",
    "import numpy as np\n",
    "import arkouda as ak"
   ]
  },
  {
   "cell_type": "code",
   "execution_count": 2,
   "metadata": {},
   "outputs": [
    {
     "name": "stdout",
     "output_type": "stream",
     "text": [
      "4.3.1\n",
      "psp =  tcp://localhost:5555\n",
      "connected to tcp://localhost:5555\n"
     ]
    }
   ],
   "source": [
    "ak.connect(server=\"localhost\", port=5555)"
   ]
  },
  {
   "cell_type": "code",
   "execution_count": 3,
   "metadata": {},
   "outputs": [],
   "source": [
    "# files and locations on my(mike's) laptop\n",
    "hdffiles = [\"/Users/valton/lanl_netflow/hdf5/netflow_day-02-00.hdf\",\n",
    "           \"/Users/valton/lanl_netflow/hdf5/netflow_day-02-01.hdf\",\n",
    "           \"/Users/valton/lanl_netflow/hdf5/netflow_day-02-02.hdf\",\n",
    "           \"/Users/valton/lanl_netflow/hdf5/netflow_day-02-03.hdf\",\n",
    "           \"/Users/valton/lanl_netflow/hdf5/netflow_day-02-04.hdf\",\n",
    "           \"/Users/valton/lanl_netflow/hdf5/netflow_day-02-05.hdf\",\n",
    "           \"/Users/valton/lanl_netflow/hdf5/netflow_day-02-06.hdf\",\n",
    "           \"/Users/valton/lanl_netflow/hdf5/netflow_day-02-07.hdf\",\n",
    "           \"/Users/valton/lanl_netflow/hdf5/netflow_day-02-08.hdf\"]"
   ]
  },
  {
   "cell_type": "code",
   "execution_count": 4,
   "metadata": {},
   "outputs": [],
   "source": [
    "fields = ['srcIP', 'dstIP', 'srcPort', 'dstPort', 'start','srcBytes','dstBytes']"
   ]
  },
  {
   "cell_type": "code",
   "execution_count": 5,
   "metadata": {},
   "outputs": [
    {
     "name": "stdout",
     "output_type": "stream",
     "text": [
      "CPU times: user 2.07 ms, sys: 1.74 ms, total: 3.81 ms\n",
      "Wall time: 11.5 s\n"
     ]
    }
   ],
   "source": [
    "%time nfDF = {field: ak.read_hdf(field, hdffiles) for field in fields}"
   ]
  },
  {
   "cell_type": "code",
   "execution_count": 6,
   "metadata": {},
   "outputs": [
    {
     "name": "stdout",
     "output_type": "stream",
     "text": [
      "[118781 118783 118785 ... 156417 156417 156417]\n",
      "[34111590301 34111676798 48764590996 ... 34111524045 34111524045 34112016235]\n",
      "[34111773101 34112055194 34111367844 ... 34111501502 34111501502 34111802699]\n",
      "[5507 3137 5060 ... 35576 53968 56827]\n",
      "[46272 445 5060 ... 53 53 80]\n",
      "[0.000000e+00 3.008100e+05 1.477041e+06 ... 7.500000e+01 6.900000e+01 3.990000e+02]\n",
      "[1.042329e+09 2.504080e+05 0.000000e+00 ... 0.000000e+00 0.000000e+00 0.000000e+00]\n"
     ]
    }
   ],
   "source": [
    "print(nfDF['start'])\n",
    "print(nfDF['srcIP'])\n",
    "print(nfDF['dstIP'])\n",
    "print(nfDF['srcPort'])\n",
    "print(nfDF['dstPort'])\n",
    "\n",
    "print(nfDF['srcBytes'])\n",
    "print(nfDF['dstBytes'])"
   ]
  },
  {
   "cell_type": "code",
   "execution_count": 7,
   "metadata": {},
   "outputs": [
    {
     "name": "stdout",
     "output_type": "stream",
     "text": [
      "True\n"
     ]
    }
   ],
   "source": [
    "st = nfDF['start']\n",
    "print(ak.is_sorted(st))"
   ]
  },
  {
   "cell_type": "code",
   "execution_count": null,
   "metadata": {},
   "outputs": [
    {
     "name": "stdout",
     "output_type": "stream",
     "text": [
      "36973 [118781 118783 118785 ... 156415 156416 156417]\n",
      "36973 [1 1 19 ... 3028 2535 466]\n"
     ]
    }
   ],
   "source": [
    "gt = ak.GroupBy(st)\n",
    "u,c = gt.count()\n",
    "print(u.size,u)\n",
    "print(c.size,c)"
   ]
  },
  {
   "cell_type": "code",
   "execution_count": null,
   "metadata": {},
   "outputs": [],
   "source": [
    "%time u,s = gt.aggregate(nfDF['srcIP'],'nunique')\n",
    "print(u.size,u)\n",
    "print(s.size,s)"
   ]
  },
  {
   "cell_type": "code",
   "execution_count": null,
   "metadata": {},
   "outputs": [],
   "source": [
    "print(nfDF)"
   ]
  },
  {
   "cell_type": "code",
   "execution_count": null,
   "metadata": {},
   "outputs": [],
   "source": [
    "print(ak.info(ak.AllSymbols))\n",
    "print(nfDF['srcIP'].name)"
   ]
  },
  {
   "cell_type": "code",
   "execution_count": null,
   "metadata": {},
   "outputs": [],
   "source": [
    "%time u,c = ak.unique(nfDF['srcIP'], return_counts=True)"
   ]
  },
  {
   "cell_type": "code",
   "execution_count": null,
   "metadata": {},
   "outputs": [],
   "source": [
    "print(u.size,u)\n",
    "print(c.size,c)"
   ]
  },
  {
   "cell_type": "code",
   "execution_count": null,
   "metadata": {},
   "outputs": [],
   "source": [
    "%time u,c = ak.unique(nfDF['dstIP'], return_counts=True)"
   ]
  },
  {
   "cell_type": "code",
   "execution_count": null,
   "metadata": {},
   "outputs": [],
   "source": [
    "print(u.size,u)\n",
    "print(c.size,c)"
   ]
  },
  {
   "cell_type": "code",
   "execution_count": null,
   "metadata": {},
   "outputs": [],
   "source": [
    "%time u,c = ak.unique(nfDF['srcPort'], return_counts=True)"
   ]
  },
  {
   "cell_type": "code",
   "execution_count": null,
   "metadata": {},
   "outputs": [],
   "source": [
    "print(u.size,u)\n",
    "print(c.size,c)"
   ]
  },
  {
   "cell_type": "code",
   "execution_count": null,
   "metadata": {},
   "outputs": [],
   "source": [
    "%time u,c = ak.unique(nfDF['dstPort'], return_counts=True)"
   ]
  },
  {
   "cell_type": "code",
   "execution_count": null,
   "metadata": {},
   "outputs": [],
   "source": [
    "print(u.size,u)\n",
    "print(c.size,c)"
   ]
  },
  {
   "cell_type": "code",
   "execution_count": null,
   "metadata": {},
   "outputs": [],
   "source": [
    "print((nfDF['srcPort'] == 80).sum())\n",
    "print((nfDF['dstPort'] == 80).sum())"
   ]
  },
  {
   "cell_type": "code",
   "execution_count": null,
   "metadata": {
    "scrolled": true
   },
   "outputs": [],
   "source": [
    "s = u[0:100] # pick off some dest ports\n",
    "print(s)\n",
    "%time t = ak.in1d(nfDF['dstPort'], s) # bool vector of where they are found in the data\n",
    "print(t.sum())"
   ]
  },
  {
   "cell_type": "code",
   "execution_count": null,
   "metadata": {},
   "outputs": [],
   "source": [
    "s = u[0:100].to_ndarray() # pick off some dest ports\n",
    "dp = nfDF['dstPort'].to_ndarray()\n",
    "print(s)\n",
    "%time t = np.in1d(dp, s) # bool vector of where they are found in the data\n",
    "print(t.sum())"
   ]
  },
  {
   "cell_type": "code",
   "execution_count": null,
   "metadata": {},
   "outputs": [],
   "source": [
    "a = nfDF['start']\n",
    "aMin = a.min()\n",
    "aMax = a.max()\n",
    "print(aMin,aMax, aMax - aMin)\n",
    "%time h = ak.histogram(a,bins=100)\n",
    "print(h)\n",
    "print(h.sum(), a.size)"
   ]
  },
  {
   "cell_type": "code",
   "execution_count": null,
   "metadata": {},
   "outputs": [],
   "source": [
    "a = nfDF['start']\n",
    "print(a.size, a)\n",
    "print(ak.is_sorted(a))\n",
    "%time iv = ak.argsort(a)\n",
    "print(iv.size, iv)\n",
    "b = a[iv]\n",
    "print(b.size, b)\n",
    "print(ak.is_sorted(b))"
   ]
  },
  {
   "cell_type": "code",
   "execution_count": null,
   "metadata": {},
   "outputs": [],
   "source": [
    "a = nfDF['dstPort']\n",
    "print(a.size, a)\n",
    "print(ak.is_sorted(a))\n",
    "%time iv = ak.argsort(a)\n",
    "print(iv.size, iv)\n",
    "b = a[iv]\n",
    "print(b.size, b)\n",
    "print(ak.is_sorted(b))"
   ]
  },
  {
   "cell_type": "code",
   "execution_count": null,
   "metadata": {},
   "outputs": [],
   "source": [
    "#ak.shutdown()\n",
    "#ak.disconnect()"
   ]
  },
  {
   "cell_type": "code",
   "execution_count": null,
   "metadata": {},
   "outputs": [],
   "source": []
  },
  {
   "cell_type": "code",
   "execution_count": null,
   "metadata": {},
   "outputs": [],
   "source": []
  }
 ],
 "metadata": {
  "kernelspec": {
   "display_name": "Python 3",
   "language": "python",
   "name": "python3"
  },
  "language_info": {
   "codemirror_mode": {
    "name": "ipython",
    "version": 3
   },
   "file_extension": ".py",
   "mimetype": "text/x-python",
   "name": "python",
   "nbconvert_exporter": "python",
   "pygments_lexer": "ipython3",
   "version": "3.7.3"
  }
 },
 "nbformat": 4,
 "nbformat_minor": 2
}
