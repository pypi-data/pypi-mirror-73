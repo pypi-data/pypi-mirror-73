{
 "cells": [
  {
   "cell_type": "code",
   "execution_count": 15,
   "metadata": {},
   "outputs": [],
   "source": [
    "import importlib\n",
    "import numpy as np\n",
    "import math\n",
    "import gc"
   ]
  },
  {
   "cell_type": "code",
   "execution_count": 16,
   "metadata": {},
   "outputs": [],
   "source": [
    "import arkouda as ak"
   ]
  },
  {
   "cell_type": "code",
   "execution_count": 17,
   "metadata": {},
   "outputs": [
    {
     "data": {
      "text/plain": [
       "<module 'arkouda' from '/Users/valton/chapel/arkouda/arkouda/arkouda.py'>"
      ]
     },
     "execution_count": 17,
     "metadata": {},
     "output_type": "execute_result"
    }
   ],
   "source": [
    "importlib.reload(ak)"
   ]
  },
  {
   "cell_type": "code",
   "execution_count": 18,
   "metadata": {},
   "outputs": [
    {
     "name": "stdout",
     "output_type": "stream",
     "text": [
      "4.3.1\n",
      "psp =  tcp://localhost:5555\n",
      "connected to tcp://localhost:5555\n"
     ]
    }
   ],
   "source": [
    "ak.set_defaults()\n",
    "ak.v = False\n",
    "ak.connect(server=\"localhost\", port=5555)"
   ]
  },
  {
   "cell_type": "code",
   "execution_count": 19,
   "metadata": {},
   "outputs": [
    {
     "name": "stdout",
     "output_type": "stream",
     "text": [
      "8192 [2471 4878 7717 ... 7729 6719 1171]\n"
     ]
    }
   ],
   "source": [
    "ak.v = False\n",
    "a = ak.randint(0,2**13,2**13)\n",
    "print(a.size,a)"
   ]
  },
  {
   "cell_type": "code",
   "execution_count": 20,
   "metadata": {},
   "outputs": [
    {
     "name": "stdout",
     "output_type": "stream",
     "text": [
      "64 [7728 5398 2535 5539 3772 6617 2392 1407 4594 7937 7636 6618 4452 5119 4776 8002 4947 1894 1140 6497 460 5637 2580 4219 5692 6050 4634 4149 2650 7738 6319 3383 1358 5574 2651 5935 850 313 3209 5404 5411 7476 5604 3375 401 6402 7298 6606 5086 3971 7790 490 5753 3740 7371 7742 1922 3294 4331 7298 4615 2448 1953 2544]\n",
      "64 [37 44 20 51 36 18 32 7 17 56 62 6 61 2 63 22 28 34 38 57 43 31 53 4 49 27 23 58 12 8 60 26 14 16 48 13 1 39 40 3 33 42 21 24 52 35 25 30 45 19 47 5 11 46 59 54 41 10 0 29 55 50 9 15]\n",
      "64 [313 401 460 490 850 1140 1358 1407 1894 1922 1953 2392 2448 2535 2544 2580 2650 2651 3209 3294 3375 3383 3740 3772 3971 4149 4219 4331 4452 4594 4615 4634 4776 4947 5086 5119 5398 5404 5411 5539 5574 5604 5637 5692 5753 5935 6050 6319 6402 6497 6606 6617 6618 7298 7298 7371 7476 7636 7728 7738 7742 7790 7937 8002]\n"
     ]
    }
   ],
   "source": [
    "a = ak.randint(0,2**13,2**6)\n",
    "print(a.size,a)\n",
    "iv = ak.argsort(a)\n",
    "b = a[iv]\n",
    "print(iv.size,iv)\n",
    "print(b.size,b)"
   ]
  },
  {
   "cell_type": "code",
   "execution_count": 21,
   "metadata": {},
   "outputs": [
    {
     "name": "stdout",
     "output_type": "stream",
     "text": [
      "63 [313 401 460 490 850 1140 1358 1407 1894 1922 1953 2392 2448 2535 2544 2580 2650 2651 3209 3294 3375 3383 3740 3772 3971 4149 4219 4331 4452 4594 4615 4634 4776 4947 5086 5119 5398 5404 5411 5539 5574 5604 5637 5692 5753 5935 6050 6319 6402 6497 6606 6617 6618 7298 7371 7476 7636 7728 7738 7742 7790 7937 8002]\n",
      "63 [1 1 1 1 1 1 1 1 1 1 1 1 1 1 1 1 1 1 1 1 1 1 1 1 1 1 1 1 1 1 1 1 1 1 1 1 1 1 1 1 1 1 1 1 1 1 1 1 1 1 1 1 1 2 1 1 1 1 1 1 1 1 1]\n"
     ]
    }
   ],
   "source": [
    "u,c = ak.unique(a,return_counts=True)\n",
    "print(u.size,u)\n",
    "print(c.size,c)"
   ]
  },
  {
   "cell_type": "code",
   "execution_count": 23,
   "metadata": {},
   "outputs": [
    {
     "name": "stdout",
     "output_type": "stream",
     "text": [
      "63 [313 401 460 490 850 1140 1358 1407 1894 1922 1953 2392 2448 2535 2544 2580 2650 2651 3209 3294 3375 3383 3740 3772 3971 4149 4219 4331 4452 4594 4615 4634 4776 4947 5086 5119 5398 5404 5411 5539 5574 5604 5637 5692 5753 5935 6050 6319 6402 6497 6606 6617 6618 7298 7371 7476 7636 7728 7738 7742 7790 7937 8002]\n"
     ]
    }
   ],
   "source": [
    "u = ak.unique(a)\n",
    "print(u.size,u)"
   ]
  },
  {
   "cell_type": "code",
   "execution_count": 24,
   "metadata": {},
   "outputs": [
    {
     "name": "stdout",
     "output_type": "stream",
     "text": [
      "63 [313 401 460 490 850 1140 1358 1407 1894 1922 1953 2392 2448 2535 2544 2580 2650 2651 3209 3294 3375 3383 3740 3772 3971 4149 4219 4331 4452 4594 4615 4634 4776 4947 5086 5119 5398 5404 5411 5539 5574 5604 5637 5692 5753 5935 6050 6319 6402 6497 6606 6617 6618 7298 7371 7476 7636 7728 7738 7742 7790 7937 8002]\n",
      "63 [1 1 1 1 1 1 1 1 1 1 1 1 1 1 1 1 1 1 1 1 1 1 1 1 1 1 1 1 1 1 1 1 1 1 1 1 1 1 1 1 1 1 1 1 1 1 1 1 1 1 1 1 1 2 1 1 1 1 1 1 1 1 1]\n"
     ]
    }
   ],
   "source": [
    "u,c = ak.unique(a,return_counts=True)\n",
    "print(u.size,u)\n",
    "print(c.size,c)"
   ]
  },
  {
   "cell_type": "code",
   "execution_count": 25,
   "metadata": {},
   "outputs": [
    {
     "name": "stdout",
     "output_type": "stream",
     "text": [
      "[945 0 134 ... 51 519 362]\n",
      "1\n"
     ]
    }
   ],
   "source": [
    "a = ak.randint(1,1000,1000)\n",
    "a[1] = 0\n",
    "a[5] = 0\n",
    "print(a)\n",
    "print(ak.argmin(a))"
   ]
  },
  {
   "cell_type": "code",
   "execution_count": 26,
   "metadata": {},
   "outputs": [
    {
     "name": "stdout",
     "output_type": "stream",
     "text": [
      "[583 1000 741 ... 110 370 124]\n",
      "1\n"
     ]
    }
   ],
   "source": [
    "a = ak.randint(0,1000,1000)\n",
    "a[1] = 1000\n",
    "a[5] = 1000\n",
    "print(a)\n",
    "print(ak.argmax(a))"
   ]
  },
  {
   "cell_type": "code",
   "execution_count": 27,
   "metadata": {},
   "outputs": [
    {
     "name": "stdout",
     "output_type": "stream",
     "text": [
      "[0.000000e+00 1.000000e+00 0.000000e+00 1.000000e+00 0.000000e+00 1.000000e+00 0.000000e+00 1.000000e+00 0.000000e+00 1.000000e+00]\n"
     ]
    }
   ],
   "source": [
    "a = ak.ones(10)\n",
    "a[::2] = 0\n",
    "print(a)"
   ]
  },
  {
   "cell_type": "code",
   "execution_count": 28,
   "metadata": {},
   "outputs": [
    {
     "name": "stdout",
     "output_type": "stream",
     "text": [
      "[1.000000e+00 0.000000e+00 1.000000e+00 0.000000e+00 1.000000e+00 0.000000e+00 1.000000e+00 0.000000e+00 1.000000e+00 0.000000e+00]\n"
     ]
    }
   ],
   "source": [
    "n = 5\n",
    "n2 = n*2\n",
    "a = ak.ones(n2)\n",
    "b = ak.zeros(n2)\n",
    "a[1::2] = b[0::2]\n",
    "print(a)"
   ]
  },
  {
   "cell_type": "code",
   "execution_count": 29,
   "metadata": {},
   "outputs": [
    {
     "name": "stdout",
     "output_type": "stream",
     "text": [
      "[0 1 2 3 4 5 6 7 8 9] int64\n",
      "[0.000000e+00 1.000000e+00 2.000000e+00 3.000000e+00 4.000000e+00 5.000000e+00 6.000000e+00 7.000000e+00 8.000000e+00 9.000000e+00] float64\n"
     ]
    }
   ],
   "source": [
    "a = ak.zeros(10) # float64\n",
    "b = ak.arange(0,10,1) # int64\n",
    "a[:] = b # copy b:int64 to a:float64\n",
    "print(b,b.dtype)\n",
    "print(a,a.dtype)"
   ]
  },
  {
   "cell_type": "code",
   "execution_count": 30,
   "metadata": {},
   "outputs": [
    {
     "name": "stdout",
     "output_type": "stream",
     "text": [
      "[True True True False False True True False False True]\n"
     ]
    }
   ],
   "source": [
    "a = ak.randint(0,2,10,dtype=ak.bool)\n",
    "a[1] = True\n",
    "a[2] = True\n",
    "print(a)"
   ]
  },
  {
   "cell_type": "code",
   "execution_count": 31,
   "metadata": {},
   "outputs": [
    {
     "name": "stdout",
     "output_type": "stream",
     "text": [
      "[10 1 10 1 10 1 10 1 10 1]\n"
     ]
    }
   ],
   "source": [
    "a = ak.ones(10,dtype=ak.int64)\n",
    "iv = ak.arange(0,10,1)[::2]\n",
    "a[iv] = 10\n",
    "print(a)"
   ]
  },
  {
   "cell_type": "code",
   "execution_count": 32,
   "metadata": {},
   "outputs": [
    {
     "name": "stdout",
     "output_type": "stream",
     "text": [
      "[1.000000e+01 1.000000e+00 1.000000e+01 1.000000e+00 1.000000e+01 1.000000e+00 1.000000e+01 1.000000e+00 1.000000e+01 1.000000e+00]\n"
     ]
    }
   ],
   "source": [
    "a = ak.ones(10)\n",
    "iv = ak.arange(0,10,1)[::2]\n",
    "a[iv] = 10.0\n",
    "print(a)"
   ]
  },
  {
   "cell_type": "code",
   "execution_count": 33,
   "metadata": {},
   "outputs": [
    {
     "name": "stdout",
     "output_type": "stream",
     "text": [
      "[False True False True False True False True False True]\n"
     ]
    }
   ],
   "source": [
    "a = ak.ones(10,dtype=ak.bool)\n",
    "iv = ak.arange(0,10,1)[::2]\n",
    "a[iv] = False\n",
    "print(a)"
   ]
  },
  {
   "cell_type": "code",
   "execution_count": 34,
   "metadata": {},
   "outputs": [
    {
     "name": "stdout",
     "output_type": "stream",
     "text": [
      "[False False False False False True True True True True]\n"
     ]
    }
   ],
   "source": [
    "a = ak.ones(10,dtype=ak.bool)\n",
    "iv = ak.arange(0,5,1)\n",
    "b = ak.zeros(iv.size,dtype=ak.bool)\n",
    "a[iv] = b\n",
    "print(a)"
   ]
  },
  {
   "cell_type": "code",
   "execution_count": 35,
   "metadata": {},
   "outputs": [
    {
     "name": "stdout",
     "output_type": "stream",
     "text": [
      "[18 10 13 13 11 11 16 19 12 19]\n",
      "[0 6 3 2 5]\n",
      "[0 10 0 0 11 0 0 19 12 19]\n"
     ]
    }
   ],
   "source": [
    "a = ak.randint(10,20,10)\n",
    "print(a)\n",
    "iv = ak.randint(0,10,5)\n",
    "print(iv)\n",
    "b = ak.zeros(iv.size,dtype=ak.int64)\n",
    "a[iv] = b\n",
    "print(a)"
   ]
  },
  {
   "cell_type": "code",
   "execution_count": 36,
   "metadata": {},
   "outputs": [],
   "source": [
    "#ak.disconnect()"
   ]
  },
  {
   "cell_type": "code",
   "execution_count": 37,
   "metadata": {},
   "outputs": [
    {
     "name": "stdout",
     "output_type": "stream",
     "text": [
      "16 [10 11 13 14 15 16 17 18 19 20 23 24 26 27 28 29]\n",
      "16 [1 3 5 2 2 2 4 5 2 2 2 1 2 3 1 3]\n"
     ]
    }
   ],
   "source": [
    "ak.v = False\n",
    "a = ak.randint(10,30,40)\n",
    "vc = ak.value_counts(a)\n",
    "print(vc[0].size,vc[0])\n",
    "print(vc[1].size,vc[1])"
   ]
  },
  {
   "cell_type": "code",
   "execution_count": 38,
   "metadata": {},
   "outputs": [
    {
     "name": "stdout",
     "output_type": "stream",
     "text": [
      "[0.000000e+00 1.000000e+00 2.000000e+00 3.000000e+00 4.000000e+00]\n"
     ]
    }
   ],
   "source": [
    "ak.v = False\n",
    "\n",
    "a = ak.arange(0,10,1)\n",
    "b = a[a<5]\n",
    "a = ak.linspace(0,9,10)\n",
    "b = a[a<5]\n",
    "print(b)"
   ]
  },
  {
   "cell_type": "code",
   "execution_count": 39,
   "metadata": {},
   "outputs": [
    {
     "name": "stdout",
     "output_type": "stream",
     "text": [
      "[Python] Sending request: arange 0 10 1\n",
      "[Python] Received response: created id_54 int64 10 1 (10) 8\n",
      "id_54 int64 10 1 [10] 8\n",
      "[Python] Sending request: delete id_51\n",
      "[Python] Received response: deleted id_51\n",
      "[Python] Sending request: [int] id_54 0\n",
      "[Python] Received response: item int64 0\n",
      "[Python] Sending request: [int] id_54 1\n",
      "[Python] Received response: item int64 1\n",
      "[Python] Sending request: [int] id_54 2\n",
      "[Python] Received response: item int64 2\n",
      "[Python] Sending request: [int] id_54 3\n",
      "[Python] Received response: item int64 3\n",
      "[Python] Sending request: [int] id_54 4\n",
      "[Python] Received response: item int64 4\n",
      "[Python] Sending request: [int] id_54 5\n",
      "[Python] Received response: item int64 5\n",
      "[Python] Sending request: [int] id_54 6\n",
      "[Python] Received response: item int64 6\n",
      "[Python] Sending request: [int] id_54 7\n",
      "[Python] Received response: item int64 7\n",
      "[Python] Sending request: [int] id_54 8\n",
      "[Python] Received response: item int64 8\n",
      "[Python] Sending request: [int] id_54 9\n",
      "[Python] Received response: item int64 9\n",
      "[0, 1, 2, 3, 4, 5, 6, 7, 8, 9]\n"
     ]
    }
   ],
   "source": [
    "ak.v = True\n",
    "ak.pdarrayIterThresh = 1000\n",
    "a = ak.arange(0,10,1)\n",
    "print(list(a))\n"
   ]
  },
  {
   "cell_type": "code",
   "execution_count": 40,
   "metadata": {},
   "outputs": [
    {
     "name": "stdout",
     "output_type": "stream",
     "text": [
      "[26 14 19 25 27 12 11 15 13 14 13 10 17 12 24 27 20 24 10 23 14 21 22 14 28 23 20 21 24 18 15 28 23 24 20 16 21 15 14 29]\n",
      "20 [2 1 2 2 5 3 1 1 1 1 3 3 1 3 4 1 1 2 2 1]\n",
      "20 [10 11 12 13 14 15 16 17 18 19 20 21 22 23 24 25 26 27 28 29]\n"
     ]
    }
   ],
   "source": [
    "ak.v = False\n",
    "a = ak.randint(10,30,40)\n",
    "u = ak.unique(a)\n",
    "h = ak.histogram(a,bins=20)\n",
    "print(a)\n",
    "print(h.size,h)\n",
    "print(u.size,u)"
   ]
  },
  {
   "cell_type": "code",
   "execution_count": 41,
   "metadata": {},
   "outputs": [
    {
     "name": "stdout",
     "output_type": "stream",
     "text": [
      "[25 29 20 24 27 18 18 13 14 10 29 13 22 22 28 26 28 15 23 10 25 22 22 24 27 25 21 10 21 27 23 20 13 26 10 25 29 21 21 29 19 22 19 24 17 10 24 27 14 26]\n",
      "[5 0 0 3 2 1 0 1 2 2 2 4 5 2 4 4 3 4 2 4]\n"
     ]
    }
   ],
   "source": [
    "ak.v = False\n",
    "a = ak.randint(10,30,50)\n",
    "h = ak.histogram(a,bins=20)\n",
    "print(a)\n",
    "print(h)"
   ]
  },
  {
   "cell_type": "code",
   "execution_count": 42,
   "metadata": {},
   "outputs": [
    {
     "name": "stdout",
     "output_type": "stream",
     "text": [
      "[True False False False False False False True False True True False False True False False True False True True True False True False True True True False False True True True False True False True False True True False False False False True True True True False False True]\n",
      "25\n"
     ]
    }
   ],
   "source": [
    "ak.v = False\n",
    "a = ak.randint(0,2,50,dtype=ak.bool)\n",
    "print(a)\n",
    "print(a.sum())"
   ]
  },
  {
   "cell_type": "code",
   "execution_count": 43,
   "metadata": {},
   "outputs": [
    {
     "name": "stdout",
     "output_type": "stream",
     "text": [
      "[2 2 2 2 2 2 2 2 2 2 2 2 2 2 2 2 2 2 2 2 2 2 2 2 2 2 2 2 2 2 2 2 2 2 2 2 2 2 2 2 2 2 2 2 2 2 2 2 2 2]\n"
     ]
    }
   ],
   "source": [
    "ak.v = False\n",
    "a = ak.linspace(101,102,100)\n",
    "h = ak.histogram(a,bins=50)\n",
    "print(h)"
   ]
  },
  {
   "cell_type": "code",
   "execution_count": 44,
   "metadata": {},
   "outputs": [
    {
     "name": "stdout",
     "output_type": "stream",
     "text": [
      "[10 10 10 10 10 10 10 10 10 10]\n"
     ]
    }
   ],
   "source": [
    "ak.v = False\n",
    "a = ak.arange(0,100,1)\n",
    "h = ak.histogram(a,bins=10)\n",
    "print(h)"
   ]
  },
  {
   "cell_type": "code",
   "execution_count": 45,
   "metadata": {},
   "outputs": [
    {
     "name": "stdout",
     "output_type": "stream",
     "text": [
      "[0 1 2 3 4 5 6 7 8 9 10 11 12 13 14 15 16 17 18 19 20 21 22 23 24 25 26 27 28 29 30 31 32 33 34 35 36 37 38 39 40 41 42 43 44 45 46 47 48 49 50 51 52 53 54 55 56 57 58 59 60 61 62 63 64 65 66 67 68 69 70 71 72 73 74 75 76 77 78 79 80 81 82 83 84 85 86 87 88 89 90 91 92 93 94 95 96 97 98]\n",
      "[90 80 70 60 50 40 30 20 10 0]\n",
      "[True False False False False False False False False False True False False False False False False False False False True False False False False False False False False False True False False False False False False False False False True False False False False False False False False False True False False False False False False False False False True False False False False False False False False False True False False False False False False False False False True False False False False False False False False False True False False False False False False False False]\n",
      "[0 10 20 30 40 50 60 70 80 90]\n"
     ]
    }
   ],
   "source": [
    "ak.v = False\n",
    "a = ak.arange(0,99,1)\n",
    "b = a[::10] # take every tenth one\n",
    "b = b[::-1] # reverse b\n",
    "print(a)\n",
    "print(b)\n",
    "c = ak.in1d(a,b) # put out truth vector\n",
    "print(c)\n",
    "print(a[c]) # compress out false values"
   ]
  },
  {
   "cell_type": "code",
   "execution_count": 46,
   "metadata": {},
   "outputs": [
    {
     "data": {
      "text/plain": [
       "10"
      ]
     },
     "execution_count": 46,
     "metadata": {},
     "output_type": "execute_result"
    }
   ],
   "source": [
    "a[c].size"
   ]
  },
  {
   "cell_type": "code",
   "execution_count": 47,
   "metadata": {},
   "outputs": [
    {
     "data": {
      "text/plain": [
       "(10,\n",
       " array([ 1,  2,  3,  4,  5,  6,  7,  8,  9, 10]),\n",
       " 4,\n",
       " array([0, 1, 2, 3]),\n",
       " array([ True,  True,  True,  True,  True, False, False, False, False,\n",
       "        False]))"
      ]
     },
     "execution_count": 47,
     "metadata": {},
     "output_type": "execute_result"
    }
   ],
   "source": [
    "ak.v = False\n",
    "a = np.ones(10,dtype=np.bool)\n",
    "b = np.arange(0,10,1)\n",
    "\n",
    "np.sum(a),np.cumsum(a),np.sum(b<4),b[b<4],b<5"
   ]
  },
  {
   "cell_type": "code",
   "execution_count": 48,
   "metadata": {},
   "outputs": [
    {
     "name": "stdout",
     "output_type": "stream",
     "text": [
      "[0.000000e+00 1.000000e+00 2.000000e+00 3.000000e+00 4.000000e+00 5.000000e+00 6.000000e+00 7.000000e+00 8.000000e+00 9.000000e+00] float64 [0. 1. 2. 3. 4. 5. 6. 7. 8. 9.] float64\n",
      "[0 1 2 3 4 5 6 7 8 9] int64 [0 1 2 3 4 5 6 7 8 9] int64\n",
      "[True True True True True True True True True True] bool [ True  True  True  True  True  True  True  True  True  True] bool\n"
     ]
    }
   ],
   "source": [
    "ak.v = False\n",
    "# currently... ak pdarray to np array\n",
    "a = ak.linspace(0,9,10)\n",
    "b = np.array(list(a))\n",
    "print(a,a.dtype,b,b.dtype)\n",
    "\n",
    "a = ak.arange(0,10,1)\n",
    "b = np.array(list(a))\n",
    "print(a,a.dtype,b,b.dtype)\n",
    "\n",
    "a = ak.ones(10,dtype=ak.bool)\n",
    "b = np.array(list(a))\n",
    "print(a,a.dtype,b,b.dtype)\n"
   ]
  },
  {
   "cell_type": "code",
   "execution_count": 49,
   "metadata": {},
   "outputs": [
    {
     "name": "stdout",
     "output_type": "stream",
     "text": [
      "[1. 1. 1. 1. 1. 1. 1. 1. 1. 1.]\n"
     ]
    }
   ],
   "source": [
    "ak.v = False\n",
    "\n",
    "b = np.linspace(1,10,10)\n",
    "a = np.arange(1,11,1)\n",
    "print(b/a)"
   ]
  },
  {
   "cell_type": "code",
   "execution_count": 50,
   "metadata": {},
   "outputs": [
    {
     "name": "stdout",
     "output_type": "stream",
     "text": [
      "[ 0.  1.  2.  3.  4.  5.  6.  7.  8.  9. 10. 11. 12. 13. 14. 15. 16. 17.\n",
      " 18. 19. 20. 21. 22. 23. 24. 25. 26. 27. 28. 29. 30. 31. 32. 33. 34. 35.\n",
      " 36. 37. 38. 39. 40. 41. 42. 43. 44. 45. 46. 47. 48. 49. 50. 51. 52. 53.\n",
      " 54. 55. 56. 57. 58. 59. 60. 61. 62. 63. 64. 65. 66. 67. 68. 69. 70. 71.\n",
      " 72. 73. 74. 75. 76. 77. 78. 79. 80. 81. 82. 83. 84. 85. 86. 87. 88. 89.\n",
      " 90. 91. 92. 93. 94. 95. 96. 97. 98. 99.]\n"
     ]
    }
   ],
   "source": [
    "ak.v = False\n",
    "\n",
    "#a = np.ones(10000,dtype=np.int64)\n",
    "a = np.linspace(0,99,100)\n",
    "#a = np.arange(0,100,1)\n",
    "print(a)"
   ]
  },
  {
   "cell_type": "code",
   "execution_count": 51,
   "metadata": {},
   "outputs": [
    {
     "name": "stdout",
     "output_type": "stream",
     "text": [
      "array([ 0.,  1.,  2.,  3.,  4.,  5.,  6.,  7.,  8.,  9., 10., 11., 12.,\n",
      "       13., 14., 15., 16., 17., 18., 19., 20., 21., 22., 23., 24., 25.,\n",
      "       26., 27., 28., 29., 30., 31., 32., 33., 34., 35., 36., 37., 38.,\n",
      "       39., 40., 41., 42., 43., 44., 45., 46., 47., 48., 49., 50., 51.,\n",
      "       52., 53., 54., 55., 56., 57., 58., 59., 60., 61., 62., 63., 64.,\n",
      "       65., 66., 67., 68., 69., 70., 71., 72., 73., 74., 75., 76., 77.,\n",
      "       78., 79., 80., 81., 82., 83., 84., 85., 86., 87., 88., 89., 90.,\n",
      "       91., 92., 93., 94., 95., 96., 97., 98., 99.])\n",
      "[ 0.  1.  2.  3.  4.  5.  6.  7.  8.  9. 10. 11. 12. 13. 14. 15. 16. 17.\n",
      " 18. 19. 20. 21. 22. 23. 24. 25. 26. 27. 28. 29. 30. 31. 32. 33. 34. 35.\n",
      " 36. 37. 38. 39. 40. 41. 42. 43. 44. 45. 46. 47. 48. 49. 50. 51. 52. 53.\n",
      " 54. 55. 56. 57. 58. 59. 60. 61. 62. 63. 64. 65. 66. 67. 68. 69. 70. 71.\n",
      " 72. 73. 74. 75. 76. 77. 78. 79. 80. 81. 82. 83. 84. 85. 86. 87. 88. 89.\n",
      " 90. 91. 92. 93. 94. 95. 96. 97. 98. 99.]\n"
     ]
    }
   ],
   "source": [
    "ak.v = False\n",
    "print(a.__repr__())\n",
    "print(a.__str__())"
   ]
  },
  {
   "cell_type": "code",
   "execution_count": 52,
   "metadata": {},
   "outputs": [
    {
     "name": "stdout",
     "output_type": "stream",
     "text": [
      "[ 0.  1.  2.  3.  4.  5.  6.  7.  8.  9. 10. 11. 12. 13. 14. 15. 16. 17.\n",
      " 18. 19. 20. 21. 22. 23. 24. 25. 26. 27. 28. 29. 30. 31. 32. 33. 34. 35.\n",
      " 36. 37. 38. 39. 40. 41. 42. 43. 44. 45. 46. 47. 48. 49. 50. 51. 52. 53.\n",
      " 54. 55. 56. 57. 58. 59. 60. 61. 62. 63. 64. 65. 66. 67. 68. 69. 70. 71.\n",
      " 72. 73. 74. 75. 76. 77. 78. 79. 80. 81. 82. 83. 84. 85. 86. 87. 88. 89.\n",
      " 90. 91. 92. 93. 94. 95. 96. 97. 98. 99.]\n",
      "<class 'numpy.ndarray'> float64 100 1 (100,) 8\n"
     ]
    }
   ],
   "source": [
    "ak.v = False\n",
    "print(a)\n",
    "print(type(a), a.dtype, a.size, a.ndim, a.shape, a.itemsize)"
   ]
  },
  {
   "cell_type": "code",
   "execution_count": 53,
   "metadata": {},
   "outputs": [],
   "source": [
    "ak.v = False\n",
    "a = ak.arange(0,100,1)"
   ]
  },
  {
   "cell_type": "code",
   "execution_count": 54,
   "metadata": {},
   "outputs": [
    {
     "name": "stdout",
     "output_type": "stream",
     "text": [
      "[0 1 2 3 4 5 6 7 8 9 10 11 12 13 14 15 16 17 18 19 20 21 22 23 24 25 26 27 28 29 30 31 32 33 34 35 36 37 38 39 40 41 42 43 44 45 46 47 48 49 50 51 52 53 54 55 56 57 58 59 60 61 62 63 64 65 66 67 68 69 70 71 72 73 74 75 76 77 78 79 80 81 82 83 84 85 86 87 88 89 90 91 92 93 94 95 96 97 98 99]\n"
     ]
    }
   ],
   "source": [
    "ak.v = False\n",
    "print(a)"
   ]
  },
  {
   "cell_type": "code",
   "execution_count": 55,
   "metadata": {},
   "outputs": [
    {
     "name": "stdout",
     "output_type": "stream",
     "text": [
      "array([0, 1, 2, 3, 4, 5, 6, 7, 8, 9, 10, 11, 12, 13, 14, 15, 16, 17, 18, 19, 20, 21, 22, 23, 24, 25, 26, 27, 28, 29, 30, 31, 32, 33, 34, 35, 36, 37, 38, 39, 40, 41, 42, 43, 44, 45, 46, 47, 48, 49, 50, 51, 52, 53, 54, 55, 56, 57, 58, 59, 60, 61, 62, 63, 64, 65, 66, 67, 68, 69, 70, 71, 72, 73, 74, 75, 76, 77, 78, 79, 80, 81, 82, 83, 84, 85, 86, 87, 88, 89, 90, 91, 92, 93, 94, 95, 96, 97, 98, 99])\n"
     ]
    }
   ],
   "source": [
    "ak.v = False\n",
    "\n",
    "b = ak.linspace(0,99,100)\n",
    "print(b.__repr__())"
   ]
  },
  {
   "cell_type": "code",
   "execution_count": 56,
   "metadata": {},
   "outputs": [
    {
     "name": "stdout",
     "output_type": "stream",
     "text": [
      "id_78 10 int64 [0 1 2 3 4 5 6 7 8 9]\n",
      "id_77 10 float64 [0.000000e+00 1.000000e+00 2.000000e+00 3.000000e+00 4.000000e+00 5.000000e+00 6.000000e+00 7.000000e+00 8.000000e+00 9.000000e+00]\n",
      "name:\"id_79\" dtype:\"float64\" size:10 ndim:1 shape:(10) itemsize:8\n",
      "\n"
     ]
    }
   ],
   "source": [
    "ak.v = False\n",
    "b = ak.linspace(0,9,10)\n",
    "a = ak.arange(0,10,1)\n",
    "print(a.name, a.size, a.dtype, a)\n",
    "print(b.name, b.size, b.dtype, b)\n",
    "print(ak.info(a+b))"
   ]
  },
  {
   "cell_type": "code",
   "execution_count": 57,
   "metadata": {},
   "outputs": [
    {
     "name": "stdout",
     "output_type": "stream",
     "text": [
      "name:\"id_80\" dtype:\"int64\" size:10 ndim:1 shape:(10) itemsize:8\n",
      "\n",
      "id_80 int64 10 1 [10] 8\n",
      "[0 1 2 3 4 5 6 7 8 9]\n"
     ]
    }
   ],
   "source": [
    "ak.v = False\n",
    "\n",
    "c = ak.arange(0,10,1)\n",
    "print(ak.info(c))\n",
    "print(c.name, c.dtype, c.size, c.ndim, c.shape, c.itemsize)\n",
    "print(c)"
   ]
  },
  {
   "cell_type": "code",
   "execution_count": 58,
   "metadata": {},
   "outputs": [
    {
     "name": "stdout",
     "output_type": "stream",
     "text": [
      "[10 11 12 13 14 15 16 17 18 19]\n"
     ]
    }
   ],
   "source": [
    "ak.v = False\n",
    "\n",
    "print(5+c + 5)"
   ]
  },
  {
   "cell_type": "code",
   "execution_count": 59,
   "metadata": {},
   "outputs": [
    {
     "name": "stdout",
     "output_type": "stream",
     "text": [
      "array([10. , 11. , 12. , 13. , 14. , 15. , 16. , 17. , 18. , 19.1]) float64 dtype('float64')\n"
     ]
    }
   ],
   "source": [
    "c = np.array([10, 11, 12, 13, 14, 15, 16, 17, 18, 19])\n",
    "c = np.array([10, 11, 12, 13, 14, 15, 16, 17, 18, 19.1])\n",
    "print(c.__repr__(), c.dtype.__str__(), c.dtype.__repr__())"
   ]
  },
  {
   "cell_type": "code",
   "execution_count": 60,
   "metadata": {},
   "outputs": [
    {
     "name": "stdout",
     "output_type": "stream",
     "text": [
      "float64 int64\n",
      "float64 int64\n",
      "truediv  \n",
      "np out: [1.         0.5        0.33333333 0.25       0.2        0.16666667\n",
      " 0.14285714 0.125      0.11111111] \n",
      "ak out: [1.000000e+00 5.000000e-01 3.333333e-01 2.500000e-01 2.000000e-01 1.666667e-01 1.428571e-01 1.250000e-01 1.111111e-01]\n",
      "0.16666666666666666 0.16666666666666666 True\n",
      "floordiv \n",
      "np out: [1. 0. 0. 0. 0. 0. 0. 0. 0.] \n",
      "ak out: [1.000000e+00 0.000000e+00 0.000000e+00 0.000000e+00 0.000000e+00 0.000000e+00 0.000000e+00 0.000000e+00 0.000000e+00]\n",
      "0.0 0.0 True\n"
     ]
    }
   ],
   "source": [
    "ak.v = False\n",
    "a = np.ones(9)\n",
    "b = np.arange(1,10,1)\n",
    "print(a.dtype,b.dtype)\n",
    "c = ak.ones(9)\n",
    "d = ak.arange(1,10,1)\n",
    "print(c.dtype,d.dtype)\n",
    "y = a/b\n",
    "z = c/d\n",
    "print(\"truediv  \\nnp out:\",y,\"\\nak out:\",z)\n",
    "print(y[5],z[5],y[5] ==z[5])\n",
    "y = a//b\n",
    "z = c//d\n",
    "print(\"floordiv \\nnp out:\",y,\"\\nak out:\",z)\n",
    "print(y[5],z[5],y[5] ==z[5])"
   ]
  },
  {
   "cell_type": "code",
   "execution_count": 61,
   "metadata": {},
   "outputs": [
    {
     "name": "stdout",
     "output_type": "stream",
     "text": [
      "[1 1 1 1 1 1 1 1 1]\n",
      "[2 2 2 2 2 2 2 2 2]\n",
      "[4 4 4 4 4 4 4 4 4]\n"
     ]
    }
   ],
   "source": [
    "ak.v = False\n",
    "\n",
    "c = ak.arange(1,10,1)\n",
    "c //= c\n",
    "print(c)\n",
    "c += c\n",
    "print(c)\n",
    "c *= c\n",
    "print(c)"
   ]
  },
  {
   "cell_type": "code",
   "execution_count": 62,
   "metadata": {},
   "outputs": [
    {
     "name": "stdout",
     "output_type": "stream",
     "text": [
      "[1 1 1 1 1 1 1 1 1]\n"
     ]
    }
   ],
   "source": [
    "ak.v = False\n",
    "\n",
    "a = np.ones(9,dtype=np.int64)\n",
    "b = np.ones_like(a)\n",
    "print(b)"
   ]
  },
  {
   "cell_type": "code",
   "execution_count": null,
   "metadata": {},
   "outputs": [],
   "source": [
    "ak.v = False\n",
    "\n",
    "a = ak.ones(9,dtype=ak.int64)\n",
    "b = ak.ones_like(a)\n",
    "print(b)"
   ]
  },
  {
   "cell_type": "code",
   "execution_count": null,
   "metadata": {},
   "outputs": [],
   "source": [
    "ak.v = False\n",
    "\n",
    "a = ak.arange(0,10,1)\n",
    "b = np.arange(0,10,1)\n",
    "\n",
    "print(a[5] == b[5])"
   ]
  },
  {
   "cell_type": "code",
   "execution_count": null,
   "metadata": {},
   "outputs": [],
   "source": [
    "ak.v = False\n",
    "\n",
    "a = ak.arange(0,10,1)\n",
    "b = np.arange(0,10,1)\n",
    "\n",
    "a[5] = 10.2\n",
    "print(a[5])"
   ]
  },
  {
   "cell_type": "code",
   "execution_count": null,
   "metadata": {},
   "outputs": [],
   "source": [
    "ak.v = False\n",
    "\n",
    "a = ak.arange(0,10,1)\n",
    "b = np.arange(0,10,1)\n",
    "#print((a[:]),b[:])\n",
    "#print(a[1:-1:2],b[1:-1:2])\n",
    "#print(a[0:10:2],b[0:10:2])\n",
    "print(a[4:20:-1],b[4:20:-1])\n",
    "print(a[:1:-1],b[:1:-1])\n"
   ]
  },
  {
   "cell_type": "code",
   "execution_count": null,
   "metadata": {},
   "outputs": [],
   "source": []
  },
  {
   "cell_type": "code",
   "execution_count": null,
   "metadata": {},
   "outputs": [],
   "source": [
    "ak.v = False\n",
    "d = ak.arange(1,10,1)\n",
    "#d.type.__class__,d.name,d.isnative,np.int64.__class__,bool\n",
    "ak.info(d)\n",
    "#dir(d)"
   ]
  },
  {
   "cell_type": "code",
   "execution_count": null,
   "metadata": {},
   "outputs": [],
   "source": [
    "ak.v = False\n",
    "\n",
    "a = ak.ones(10,dtype=ak.bool)\n",
    "print(a[1])"
   ]
  },
  {
   "cell_type": "code",
   "execution_count": null,
   "metadata": {},
   "outputs": [],
   "source": [
    "ak.v = False\n",
    "\n",
    "a = ak.zeros(10,dtype=ak.bool)\n",
    "print(a[1])"
   ]
  },
  {
   "cell_type": "code",
   "execution_count": null,
   "metadata": {},
   "outputs": [],
   "source": [
    "ak.v = False\n",
    "a = ak.ones(10,dtype=ak.bool)\n",
    "a[4] = False\n",
    "a[1] = False\n",
    "print(a)\n",
    "print(a[::2])\n",
    "print(a[1])\n",
    "a = ak.ones(10,dtype=ak.int64)\n",
    "a[4] = False\n",
    "a[1] = False\n",
    "print(a)\n",
    "print(a[::2])\n",
    "print(a[1])\n",
    "a = ak.ones(10)\n",
    "a[4] = False\n",
    "a[1] = False\n",
    "print(a)\n",
    "print(a[::2])\n",
    "print(a[1])"
   ]
  },
  {
   "cell_type": "code",
   "execution_count": null,
   "metadata": {},
   "outputs": [],
   "source": [
    "ak.v = False\n",
    "\n",
    "a = ak.arange(0,10,1)\n",
    "b = list(a)\n",
    "print(b)\n",
    "\n",
    "a = a<5\n",
    "b = list(a)\n",
    "print(b)"
   ]
  },
  {
   "cell_type": "code",
   "execution_count": null,
   "metadata": {},
   "outputs": [],
   "source": [
    "ak.v = False\n",
    "a = ak.linspace(1,10,10)\n",
    "print(ak.abs(a))\n",
    "print(ak.log(a))\n",
    "print(ak.exp(a))\n",
    "a.fill(math.e)\n",
    "print(ak.log(a))"
   ]
  },
  {
   "cell_type": "code",
   "execution_count": null,
   "metadata": {},
   "outputs": [],
   "source": [
    "type(bool),type(np.bool),type(ak.bool),type(True)"
   ]
  },
  {
   "cell_type": "code",
   "execution_count": null,
   "metadata": {},
   "outputs": [],
   "source": [
    "ak.v = False\n",
    "N = 10**6\n",
    "a = ak.linspace(0,N-1,N)\n",
    "c = ak.arange(0,N,1)"
   ]
  },
  {
   "cell_type": "code",
   "execution_count": null,
   "metadata": {},
   "outputs": [],
   "source": [
    "print(a,ak.any(a),ak.all(a),ak.all(ak.ones(10,dtype=ak.float64)))\n",
    "b = a<5\n",
    "print(b,ak.any(b),ak.all(b),ak.all(ak.ones(10,dtype=ak.bool)))\n",
    "\n",
    "print(c,ak.any(c),ak.all(c),ak.all(ak.ones(10,dtype=ak.int64)))\n",
    "print(a.any(),a.all(),b.any(),b.all())"
   ]
  },
  {
   "cell_type": "code",
   "execution_count": null,
   "metadata": {},
   "outputs": [],
   "source": [
    "ak.v = False\n",
    "a = ak.linspace(0,9,10)\n",
    "ak.sum(a)\n",
    "b = np.linspace(0,9,10)\n",
    "print(ak.sum(a) == np.sum(b),ak.sum(a),np.sum(b),a.sum(),b.sum())"
   ]
  },
  {
   "cell_type": "code",
   "execution_count": null,
   "metadata": {},
   "outputs": [],
   "source": [
    "ak.v = False\n",
    "a = ak.linspace(1,10,10)\n",
    "b = np.linspace(1,10,10)\n",
    "print(ak.prod(a) == np.prod(b),ak.prod(a),np.prod(b),a.prod(),b.prod())"
   ]
  },
  {
   "cell_type": "code",
   "execution_count": null,
   "metadata": {},
   "outputs": [],
   "source": [
    "ak.v = False\n",
    "\n",
    "a = np.arange(0,20,1)\n",
    "b = a<10\n",
    "print(b,np.sum(b),b.sum(),np.prod(b),b.prod(),np.cumsum(b),np.cumprod(b))\n",
    "print()\n",
    "b = a<5\n",
    "print(b,np.sum(b),b.sum(),np.prod(b),b.prod(),np.cumsum(b),np.cumprod(b))\n",
    "print()\n",
    "a = ak.arange(0,20,1)\n",
    "b = a<10\n",
    "print(b,ak.sum(b),b.sum(),ak.prod(b),b.prod(),ak.cumsum(b),ak.cumprod(b))\n",
    "b = a<5\n",
    "print(b,ak.sum(b),b.sum(),ak.prod(b),b.prod(),ak.cumsum(b),ak.cumprod(b))\n"
   ]
  },
  {
   "cell_type": "code",
   "execution_count": null,
   "metadata": {},
   "outputs": [],
   "source": [
    "ak.v = False\n",
    "a = ak.arange(0,10,1)\n",
    "iv = a[::-1]\n",
    "print(a,iv,a[iv])"
   ]
  },
  {
   "cell_type": "code",
   "execution_count": null,
   "metadata": {},
   "outputs": [],
   "source": [
    "ak.v = False\n",
    "a = ak.arange(0,10,1)\n",
    "iv = a[::-1]\n",
    "print(a,iv,a[iv])"
   ]
  },
  {
   "cell_type": "code",
   "execution_count": null,
   "metadata": {},
   "outputs": [],
   "source": [
    "ak.v = False\n",
    "a = ak.linspace(0,9,10)\n",
    "iv = ak.arange(0,10,1)\n",
    "iv = iv[::-1]\n",
    "print(a,iv,a[iv])"
   ]
  },
  {
   "cell_type": "code",
   "execution_count": null,
   "metadata": {},
   "outputs": [],
   "source": [
    "ak.v = False\n",
    "a = np.arange(0,10,1)\n",
    "iv = a[::-1]\n",
    "print(a,iv,a[iv])"
   ]
  },
  {
   "cell_type": "code",
   "execution_count": null,
   "metadata": {},
   "outputs": [],
   "source": [
    "ak.v = False\n",
    "a = ak.arange(0,10,1)\n",
    "b = a<20\n",
    "print(a,b,a[b])"
   ]
  },
  {
   "cell_type": "code",
   "execution_count": null,
   "metadata": {},
   "outputs": [],
   "source": [
    "ak.v = False\n",
    "a = ak.arange(0,10,1)\n",
    "b = a<5\n",
    "print(a,b,a[b])"
   ]
  },
  {
   "cell_type": "code",
   "execution_count": null,
   "metadata": {},
   "outputs": [],
   "source": [
    "ak.v = False\n",
    "a = ak.arange(0,10,1)\n",
    "b = a<0\n",
    "print(a,b,a[b])"
   ]
  },
  {
   "cell_type": "code",
   "execution_count": null,
   "metadata": {},
   "outputs": [],
   "source": [
    "ak.v = False\n",
    "a = ak.linspace(0,9,10)\n",
    "b = a<5\n",
    "print(a,b,a[b])"
   ]
  },
  {
   "cell_type": "code",
   "execution_count": null,
   "metadata": {},
   "outputs": [],
   "source": [
    "ak.v = False\n",
    "N = 2**23 # 2**23 * 8 == 64MiB\n",
    "A = ak.linspace(0,N-1,N)\n",
    "B = ak.linspace(0,N-1,N)\n",
    "\n",
    "C = A+B\n",
    "print(ak.info(C),C)"
   ]
  },
  {
   "cell_type": "code",
   "execution_count": null,
   "metadata": {},
   "outputs": [],
   "source": [
    "# turn off verbose messages from arkouda package\n",
    "ak.v = False\n",
    "# set pdarrayIterThresh to 0 to only print the first 3 and last 3 of pdarray\n",
    "ak.pdarrayIterThresh = 0\n",
    "a = ak.linspace(0,9,10)\n",
    "b = a<5\n",
    "print(a)\n",
    "print(b)\n",
    "print(a[b])\n",
    "print(a)"
   ]
  },
  {
   "cell_type": "code",
   "execution_count": null,
   "metadata": {},
   "outputs": [],
   "source": [
    "\n",
    "a = np.linspace(0,9,10)\n",
    "b = a<5\n",
    "print(a)\n",
    "print(b)\n",
    "print(a[b])\n",
    "print(a)"
   ]
  },
  {
   "cell_type": "code",
   "execution_count": null,
   "metadata": {},
   "outputs": [],
   "source": [
    "ak.v = False\n",
    "ak.pdarrayIterThresh = 0\n",
    "\n",
    "a = ak.ones(10,ak.int64)\n",
    "b = a | 0xff\n",
    "print(a, b, a^b, b>>a, b<<1|1, 0xf & b, 0xaa ^ b, b ^ 0xff)\n",
    "print(-a,~(~a))"
   ]
  },
  {
   "cell_type": "code",
   "execution_count": null,
   "metadata": {},
   "outputs": [],
   "source": [
    "a = ak.ones(10,dtype=ak.int64)\n",
    "b = ~ak.zeros(10,dtype=ak.int64)\n",
    "print(~a, -b)"
   ]
  },
  {
   "cell_type": "code",
   "execution_count": null,
   "metadata": {},
   "outputs": [],
   "source": [
    "a = np.ones(10,dtype=np.int64)\n",
    "b = ~np.zeros(10,dtype=np.int64)\n",
    "print(~a, -b)"
   ]
  },
  {
   "cell_type": "code",
   "execution_count": null,
   "metadata": {},
   "outputs": [],
   "source": []
  },
  {
   "cell_type": "code",
   "execution_count": null,
   "metadata": {},
   "outputs": [],
   "source": []
  },
  {
   "cell_type": "code",
   "execution_count": null,
   "metadata": {},
   "outputs": [],
   "source": [
    "#ak.shutdown()\n"
   ]
  },
  {
   "cell_type": "code",
   "execution_count": null,
   "metadata": {},
   "outputs": [],
   "source": []
  }
 ],
 "metadata": {
  "kernelspec": {
   "display_name": "Python 3",
   "language": "python",
   "name": "python3"
  },
  "language_info": {
   "codemirror_mode": {
    "name": "ipython",
    "version": 3
   },
   "file_extension": ".py",
   "mimetype": "text/x-python",
   "name": "python",
   "nbconvert_exporter": "python",
   "pygments_lexer": "ipython3",
   "version": "3.7.3"
  }
 },
 "nbformat": 4,
 "nbformat_minor": 2
}
